{
 "cells": [
  {
   "cell_type": "markdown",
   "metadata": {},
   "source": [
    "# Empower Automotive"
   ]
  },
  {
   "attachments": {},
   "cell_type": "markdown",
   "metadata": {},
   "source": [
    "Empower Automotive is an app that users can use to help set a price on their used car. They are trying to become a major player in the automotive industry.\n",
    "\n",
    "Our goal is to provide recommendations based on data analysis of linear regression, random forest, and XGBoost to answer these business questions while considering stakeholder input."
   ]
  },
  {
   "cell_type": "markdown",
   "metadata": {},
   "source": [
    "## Data loading"
   ]
  },
  {
   "cell_type": "markdown",
   "metadata": {},
   "source": [
    "For the following analysis, we are using a database called _db3.csv_ that is included among the files of the project, but it was retrieved from: https://www.kaggle.com/datasets/deepcontractor/car-price-prediction-challenge."
   ]
  },
  {
   "cell_type": "code",
   "execution_count": 519,
   "metadata": {},
   "outputs": [],
   "source": [
    "import pandas as pd\n",
    "\n",
    "import warnings\n",
    "warnings.filterwarnings(\"ignore\")"
   ]
  },
  {
   "cell_type": "code",
   "execution_count": 520,
   "metadata": {},
   "outputs": [
    {
     "data": {
      "text/html": [
       "<div>\n",
       "<style scoped>\n",
       "    .dataframe tbody tr th:only-of-type {\n",
       "        vertical-align: middle;\n",
       "    }\n",
       "\n",
       "    .dataframe tbody tr th {\n",
       "        vertical-align: top;\n",
       "    }\n",
       "\n",
       "    .dataframe thead th {\n",
       "        text-align: right;\n",
       "    }\n",
       "</style>\n",
       "<table border=\"1\" class=\"dataframe\">\n",
       "  <thead>\n",
       "    <tr style=\"text-align: right;\">\n",
       "      <th></th>\n",
       "      <th>Price</th>\n",
       "      <th>Levy</th>\n",
       "      <th>Manufacturer</th>\n",
       "      <th>Model</th>\n",
       "      <th>Prod. year</th>\n",
       "      <th>Category</th>\n",
       "      <th>Leather interior</th>\n",
       "      <th>Fuel type</th>\n",
       "      <th>Engine volume</th>\n",
       "      <th>Mileage</th>\n",
       "      <th>Cylinders</th>\n",
       "      <th>Gear box type</th>\n",
       "      <th>Drive wheels</th>\n",
       "      <th>Doors</th>\n",
       "      <th>Wheel</th>\n",
       "      <th>Color</th>\n",
       "      <th>Airbags</th>\n",
       "    </tr>\n",
       "    <tr>\n",
       "      <th>ID</th>\n",
       "      <th></th>\n",
       "      <th></th>\n",
       "      <th></th>\n",
       "      <th></th>\n",
       "      <th></th>\n",
       "      <th></th>\n",
       "      <th></th>\n",
       "      <th></th>\n",
       "      <th></th>\n",
       "      <th></th>\n",
       "      <th></th>\n",
       "      <th></th>\n",
       "      <th></th>\n",
       "      <th></th>\n",
       "      <th></th>\n",
       "      <th></th>\n",
       "      <th></th>\n",
       "    </tr>\n",
       "  </thead>\n",
       "  <tbody>\n",
       "    <tr>\n",
       "      <th>45654403</th>\n",
       "      <td>13328</td>\n",
       "      <td>1399</td>\n",
       "      <td>LEXUS</td>\n",
       "      <td>RX 450</td>\n",
       "      <td>2010</td>\n",
       "      <td>Jeep</td>\n",
       "      <td>Yes</td>\n",
       "      <td>Hybrid</td>\n",
       "      <td>3.5</td>\n",
       "      <td>186005 km</td>\n",
       "      <td>6</td>\n",
       "      <td>Automatic</td>\n",
       "      <td>4x4</td>\n",
       "      <td>4-May</td>\n",
       "      <td>Left wheel</td>\n",
       "      <td>Silver</td>\n",
       "      <td>12</td>\n",
       "    </tr>\n",
       "    <tr>\n",
       "      <th>44731507</th>\n",
       "      <td>16621</td>\n",
       "      <td>1018</td>\n",
       "      <td>CHEVROLET</td>\n",
       "      <td>Equinox</td>\n",
       "      <td>2011</td>\n",
       "      <td>Jeep</td>\n",
       "      <td>No</td>\n",
       "      <td>Petrol</td>\n",
       "      <td>3</td>\n",
       "      <td>192000 km</td>\n",
       "      <td>6</td>\n",
       "      <td>Tiptronic</td>\n",
       "      <td>4x4</td>\n",
       "      <td>4-May</td>\n",
       "      <td>Left wheel</td>\n",
       "      <td>Black</td>\n",
       "      <td>8</td>\n",
       "    </tr>\n",
       "    <tr>\n",
       "      <th>45774419</th>\n",
       "      <td>8467</td>\n",
       "      <td>-</td>\n",
       "      <td>HONDA</td>\n",
       "      <td>FIT</td>\n",
       "      <td>2006</td>\n",
       "      <td>Hatchback</td>\n",
       "      <td>No</td>\n",
       "      <td>Petrol</td>\n",
       "      <td>1.3</td>\n",
       "      <td>200000 km</td>\n",
       "      <td>4</td>\n",
       "      <td>Variator</td>\n",
       "      <td>Front</td>\n",
       "      <td>4-May</td>\n",
       "      <td>Right-hand drive</td>\n",
       "      <td>Black</td>\n",
       "      <td>2</td>\n",
       "    </tr>\n",
       "    <tr>\n",
       "      <th>45769185</th>\n",
       "      <td>3607</td>\n",
       "      <td>862</td>\n",
       "      <td>FORD</td>\n",
       "      <td>Escape</td>\n",
       "      <td>2011</td>\n",
       "      <td>Jeep</td>\n",
       "      <td>Yes</td>\n",
       "      <td>Hybrid</td>\n",
       "      <td>2.5</td>\n",
       "      <td>168966 km</td>\n",
       "      <td>4</td>\n",
       "      <td>Automatic</td>\n",
       "      <td>4x4</td>\n",
       "      <td>4-May</td>\n",
       "      <td>Left wheel</td>\n",
       "      <td>White</td>\n",
       "      <td>0</td>\n",
       "    </tr>\n",
       "    <tr>\n",
       "      <th>45809263</th>\n",
       "      <td>11726</td>\n",
       "      <td>446</td>\n",
       "      <td>HONDA</td>\n",
       "      <td>FIT</td>\n",
       "      <td>2014</td>\n",
       "      <td>Hatchback</td>\n",
       "      <td>Yes</td>\n",
       "      <td>Petrol</td>\n",
       "      <td>1.3</td>\n",
       "      <td>91901 km</td>\n",
       "      <td>4</td>\n",
       "      <td>Automatic</td>\n",
       "      <td>Front</td>\n",
       "      <td>4-May</td>\n",
       "      <td>Left wheel</td>\n",
       "      <td>Silver</td>\n",
       "      <td>4</td>\n",
       "    </tr>\n",
       "  </tbody>\n",
       "</table>\n",
       "</div>"
      ],
      "text/plain": [
       "          Price  Levy Manufacturer    Model  Prod. year   Category  \\\n",
       "ID                                                                   \n",
       "45654403  13328  1399        LEXUS   RX 450        2010       Jeep   \n",
       "44731507  16621  1018    CHEVROLET  Equinox        2011       Jeep   \n",
       "45774419   8467     -        HONDA      FIT        2006  Hatchback   \n",
       "45769185   3607   862         FORD   Escape        2011       Jeep   \n",
       "45809263  11726   446        HONDA      FIT        2014  Hatchback   \n",
       "\n",
       "         Leather interior Fuel type Engine volume    Mileage  Cylinders  \\\n",
       "ID                                                                        \n",
       "45654403              Yes    Hybrid           3.5  186005 km          6   \n",
       "44731507               No    Petrol             3  192000 km          6   \n",
       "45774419               No    Petrol           1.3  200000 km          4   \n",
       "45769185              Yes    Hybrid           2.5  168966 km          4   \n",
       "45809263              Yes    Petrol           1.3   91901 km          4   \n",
       "\n",
       "         Gear box type Drive wheels  Doors             Wheel   Color  Airbags  \n",
       "ID                                                                             \n",
       "45654403     Automatic          4x4  4-May        Left wheel  Silver       12  \n",
       "44731507     Tiptronic          4x4  4-May        Left wheel   Black        8  \n",
       "45774419      Variator        Front  4-May  Right-hand drive   Black        2  \n",
       "45769185     Automatic          4x4  4-May        Left wheel   White        0  \n",
       "45809263     Automatic        Front  4-May        Left wheel  Silver        4  "
      ]
     },
     "execution_count": 520,
     "metadata": {},
     "output_type": "execute_result"
    }
   ],
   "source": [
    "df = pd.read_csv('db3.csv',index_col=0)\n",
    "df.head()"
   ]
  },
  {
   "cell_type": "markdown",
   "metadata": {},
   "source": [
    "## Data cleaning"
   ]
  },
  {
   "cell_type": "markdown",
   "metadata": {},
   "source": [
    "Before we can start to work with the predective models, we have gotten to clean the database as it may have data that will mess up the analysis, such as outliers, null values or repetitive categories. "
   ]
  },
  {
   "cell_type": "markdown",
   "metadata": {},
   "source": [
    "We check at the composition of the data."
   ]
  },
  {
   "cell_type": "markdown",
   "metadata": {},
   "source": [
    "### Null values"
   ]
  },
  {
   "cell_type": "code",
   "execution_count": 521,
   "metadata": {
    "scrolled": false
   },
   "outputs": [
    {
     "name": "stdout",
     "output_type": "stream",
     "text": [
      "<class 'pandas.core.frame.DataFrame'>\n",
      "Int64Index: 19237 entries, 45654403 to 45813273\n",
      "Data columns (total 17 columns):\n",
      " #   Column            Non-Null Count  Dtype \n",
      "---  ------            --------------  ----- \n",
      " 0   Price             19237 non-null  int64 \n",
      " 1   Levy              19237 non-null  object\n",
      " 2   Manufacturer      19237 non-null  object\n",
      " 3   Model             19237 non-null  object\n",
      " 4   Prod. year        19237 non-null  int64 \n",
      " 5   Category          19237 non-null  object\n",
      " 6   Leather interior  19237 non-null  object\n",
      " 7   Fuel type         19237 non-null  object\n",
      " 8   Engine volume     19237 non-null  object\n",
      " 9   Mileage           19237 non-null  object\n",
      " 10  Cylinders         19237 non-null  int64 \n",
      " 11  Gear box type     19237 non-null  object\n",
      " 12  Drive wheels      19237 non-null  object\n",
      " 13  Doors             19237 non-null  object\n",
      " 14  Wheel             19237 non-null  object\n",
      " 15  Color             19237 non-null  object\n",
      " 16  Airbags           19237 non-null  int64 \n",
      "dtypes: int64(4), object(13)\n",
      "memory usage: 2.6+ MB\n"
     ]
    }
   ],
   "source": [
    "df.info()"
   ]
  },
  {
   "cell_type": "markdown",
   "metadata": {},
   "source": [
    "The last command let us know that there are not any null values in the columns, so we do not have to worry for getting rid of null values, but we still have to look for any values that are not consistent with the others in their column."
   ]
  },
  {
   "cell_type": "markdown",
   "metadata": {},
   "source": [
    "Looking at the data in the database we identify tht the column of Levy has a lot of \"-\" values, which doesn't make sense when we are dealing with numbers, so we shall replace those \"-\" with _0_."
   ]
  },
  {
   "cell_type": "markdown",
   "metadata": {},
   "source": [
    "### Non-relevant values"
   ]
  },
  {
   "cell_type": "code",
   "execution_count": 522,
   "metadata": {
    "scrolled": true
   },
   "outputs": [
    {
     "data": {
      "text/plain": [
       "-       5819\n",
       "765      486\n",
       "891      461\n",
       "639      410\n",
       "640      405\n",
       "        ... \n",
       "972        1\n",
       "2156       1\n",
       "695        1\n",
       "1539       1\n",
       "1198       1\n",
       "Name: Levy, Length: 559, dtype: int64"
      ]
     },
     "execution_count": 522,
     "metadata": {},
     "output_type": "execute_result"
    }
   ],
   "source": [
    "df['Levy'].value_counts()"
   ]
  },
  {
   "cell_type": "code",
   "execution_count": 523,
   "metadata": {},
   "outputs": [],
   "source": [
    "df['Levy'].replace(to_replace='-',value=0,inplace=True)"
   ]
  },
  {
   "cell_type": "code",
   "execution_count": 524,
   "metadata": {},
   "outputs": [],
   "source": [
    "df['Levy'] = df['Levy'].astype('float64')"
   ]
  },
  {
   "cell_type": "code",
   "execution_count": 525,
   "metadata": {
    "scrolled": true
   },
   "outputs": [
    {
     "data": {
      "text/html": [
       "<div>\n",
       "<style scoped>\n",
       "    .dataframe tbody tr th:only-of-type {\n",
       "        vertical-align: middle;\n",
       "    }\n",
       "\n",
       "    .dataframe tbody tr th {\n",
       "        vertical-align: top;\n",
       "    }\n",
       "\n",
       "    .dataframe thead th {\n",
       "        text-align: right;\n",
       "    }\n",
       "</style>\n",
       "<table border=\"1\" class=\"dataframe\">\n",
       "  <thead>\n",
       "    <tr style=\"text-align: right;\">\n",
       "      <th></th>\n",
       "      <th>Manufacturer</th>\n",
       "    </tr>\n",
       "  </thead>\n",
       "  <tbody>\n",
       "    <tr>\n",
       "      <th>HYUNDAI</th>\n",
       "      <td>3769</td>\n",
       "    </tr>\n",
       "    <tr>\n",
       "      <th>TOYOTA</th>\n",
       "      <td>3662</td>\n",
       "    </tr>\n",
       "    <tr>\n",
       "      <th>MERCEDES-BENZ</th>\n",
       "      <td>2076</td>\n",
       "    </tr>\n",
       "    <tr>\n",
       "      <th>FORD</th>\n",
       "      <td>1111</td>\n",
       "    </tr>\n",
       "    <tr>\n",
       "      <th>CHEVROLET</th>\n",
       "      <td>1069</td>\n",
       "    </tr>\n",
       "    <tr>\n",
       "      <th>...</th>\n",
       "      <td>...</td>\n",
       "    </tr>\n",
       "    <tr>\n",
       "      <th>PONTIAC</th>\n",
       "      <td>1</td>\n",
       "    </tr>\n",
       "    <tr>\n",
       "      <th>HAVAL</th>\n",
       "      <td>1</td>\n",
       "    </tr>\n",
       "    <tr>\n",
       "      <th>LANCIA</th>\n",
       "      <td>1</td>\n",
       "    </tr>\n",
       "    <tr>\n",
       "      <th>TESLA</th>\n",
       "      <td>1</td>\n",
       "    </tr>\n",
       "    <tr>\n",
       "      <th>LAMBORGHINI</th>\n",
       "      <td>1</td>\n",
       "    </tr>\n",
       "  </tbody>\n",
       "</table>\n",
       "<p>65 rows × 1 columns</p>\n",
       "</div>"
      ],
      "text/plain": [
       "               Manufacturer\n",
       "HYUNDAI                3769\n",
       "TOYOTA                 3662\n",
       "MERCEDES-BENZ          2076\n",
       "FORD                   1111\n",
       "CHEVROLET              1069\n",
       "...                     ...\n",
       "PONTIAC                   1\n",
       "HAVAL                     1\n",
       "LANCIA                    1\n",
       "TESLA                     1\n",
       "LAMBORGHINI               1\n",
       "\n",
       "[65 rows x 1 columns]"
      ]
     },
     "execution_count": 525,
     "metadata": {},
     "output_type": "execute_result"
    }
   ],
   "source": [
    "pd.DataFrame(df['Manufacturer'].str.upper().value_counts())"
   ]
  },
  {
   "cell_type": "markdown",
   "metadata": {},
   "source": [
    "We can also see that in the Manufacturer column, there a lot of values that only appear once, which will skew the analysis and generate outliers which will complicate the process in following steps. Therefore, for any manufacturer apearing less than 49 times, we'll replace it for OTHER"
   ]
  },
  {
   "cell_type": "code",
   "execution_count": 526,
   "metadata": {},
   "outputs": [],
   "source": [
    "manu = pd.DataFrame(df['Manufacturer'].str.upper().value_counts()<=48)\n",
    "\n",
    "manu = manu[manu['Manufacturer']==False].index"
   ]
  },
  {
   "cell_type": "code",
   "execution_count": 527,
   "metadata": {},
   "outputs": [
    {
     "data": {
      "text/html": [
       "<div>\n",
       "<style scoped>\n",
       "    .dataframe tbody tr th:only-of-type {\n",
       "        vertical-align: middle;\n",
       "    }\n",
       "\n",
       "    .dataframe tbody tr th {\n",
       "        vertical-align: top;\n",
       "    }\n",
       "\n",
       "    .dataframe thead th {\n",
       "        text-align: right;\n",
       "    }\n",
       "</style>\n",
       "<table border=\"1\" class=\"dataframe\">\n",
       "  <thead>\n",
       "    <tr style=\"text-align: right;\">\n",
       "      <th></th>\n",
       "      <th>Manufacturer</th>\n",
       "    </tr>\n",
       "  </thead>\n",
       "  <tbody>\n",
       "    <tr>\n",
       "      <th>HYUNDAI</th>\n",
       "      <td>3769</td>\n",
       "    </tr>\n",
       "    <tr>\n",
       "      <th>TOYOTA</th>\n",
       "      <td>3662</td>\n",
       "    </tr>\n",
       "    <tr>\n",
       "      <th>MERCEDES-BENZ</th>\n",
       "      <td>2076</td>\n",
       "    </tr>\n",
       "    <tr>\n",
       "      <th>FORD</th>\n",
       "      <td>1111</td>\n",
       "    </tr>\n",
       "    <tr>\n",
       "      <th>CHEVROLET</th>\n",
       "      <td>1069</td>\n",
       "    </tr>\n",
       "    <tr>\n",
       "      <th>BMW</th>\n",
       "      <td>1049</td>\n",
       "    </tr>\n",
       "    <tr>\n",
       "      <th>LEXUS</th>\n",
       "      <td>982</td>\n",
       "    </tr>\n",
       "    <tr>\n",
       "      <th>HONDA</th>\n",
       "      <td>977</td>\n",
       "    </tr>\n",
       "    <tr>\n",
       "      <th>NISSAN</th>\n",
       "      <td>660</td>\n",
       "    </tr>\n",
       "    <tr>\n",
       "      <th>VOLKSWAGEN</th>\n",
       "      <td>579</td>\n",
       "    </tr>\n",
       "    <tr>\n",
       "      <th>OTHER</th>\n",
       "      <td>465</td>\n",
       "    </tr>\n",
       "    <tr>\n",
       "      <th>SSANGYONG</th>\n",
       "      <td>441</td>\n",
       "    </tr>\n",
       "    <tr>\n",
       "      <th>KIA</th>\n",
       "      <td>421</td>\n",
       "    </tr>\n",
       "    <tr>\n",
       "      <th>OPEL</th>\n",
       "      <td>397</td>\n",
       "    </tr>\n",
       "    <tr>\n",
       "      <th>MITSUBISHI</th>\n",
       "      <td>289</td>\n",
       "    </tr>\n",
       "    <tr>\n",
       "      <th>SUBARU</th>\n",
       "      <td>275</td>\n",
       "    </tr>\n",
       "    <tr>\n",
       "      <th>AUDI</th>\n",
       "      <td>255</td>\n",
       "    </tr>\n",
       "    <tr>\n",
       "      <th>MAZDA</th>\n",
       "      <td>183</td>\n",
       "    </tr>\n",
       "    <tr>\n",
       "      <th>JEEP</th>\n",
       "      <td>138</td>\n",
       "    </tr>\n",
       "    <tr>\n",
       "      <th>DAEWOO</th>\n",
       "      <td>91</td>\n",
       "    </tr>\n",
       "    <tr>\n",
       "      <th>DODGE</th>\n",
       "      <td>91</td>\n",
       "    </tr>\n",
       "    <tr>\n",
       "      <th>FIAT</th>\n",
       "      <td>78</td>\n",
       "    </tr>\n",
       "    <tr>\n",
       "      <th>SUZUKI</th>\n",
       "      <td>76</td>\n",
       "    </tr>\n",
       "    <tr>\n",
       "      <th>PORSCHE</th>\n",
       "      <td>54</td>\n",
       "    </tr>\n",
       "    <tr>\n",
       "      <th>LAND ROVER</th>\n",
       "      <td>49</td>\n",
       "    </tr>\n",
       "  </tbody>\n",
       "</table>\n",
       "</div>"
      ],
      "text/plain": [
       "               Manufacturer\n",
       "HYUNDAI                3769\n",
       "TOYOTA                 3662\n",
       "MERCEDES-BENZ          2076\n",
       "FORD                   1111\n",
       "CHEVROLET              1069\n",
       "BMW                    1049\n",
       "LEXUS                   982\n",
       "HONDA                   977\n",
       "NISSAN                  660\n",
       "VOLKSWAGEN              579\n",
       "OTHER                   465\n",
       "SSANGYONG               441\n",
       "KIA                     421\n",
       "OPEL                    397\n",
       "MITSUBISHI              289\n",
       "SUBARU                  275\n",
       "AUDI                    255\n",
       "MAZDA                   183\n",
       "JEEP                    138\n",
       "DAEWOO                   91\n",
       "DODGE                    91\n",
       "FIAT                     78\n",
       "SUZUKI                   76\n",
       "PORSCHE                  54\n",
       "LAND ROVER               49"
      ]
     },
     "execution_count": 527,
     "metadata": {},
     "output_type": "execute_result"
    }
   ],
   "source": [
    "df['Manufacturer'] = df['Manufacturer'].where(df['Manufacturer'].isin(manu),other='OTHER')\n",
    "pd.DataFrame(df['Manufacturer'].str.upper().value_counts())"
   ]
  },
  {
   "cell_type": "markdown",
   "metadata": {},
   "source": [
    "It happens the same with the Model column."
   ]
  },
  {
   "cell_type": "code",
   "execution_count": 528,
   "metadata": {
    "scrolled": true
   },
   "outputs": [
    {
     "data": {
      "text/html": [
       "<div>\n",
       "<style scoped>\n",
       "    .dataframe tbody tr th:only-of-type {\n",
       "        vertical-align: middle;\n",
       "    }\n",
       "\n",
       "    .dataframe tbody tr th {\n",
       "        vertical-align: top;\n",
       "    }\n",
       "\n",
       "    .dataframe thead th {\n",
       "        text-align: right;\n",
       "    }\n",
       "</style>\n",
       "<table border=\"1\" class=\"dataframe\">\n",
       "  <thead>\n",
       "    <tr style=\"text-align: right;\">\n",
       "      <th></th>\n",
       "      <th>Model</th>\n",
       "    </tr>\n",
       "  </thead>\n",
       "  <tbody>\n",
       "    <tr>\n",
       "      <th>PRIUS</th>\n",
       "      <td>1083</td>\n",
       "    </tr>\n",
       "    <tr>\n",
       "      <th>SONATA</th>\n",
       "      <td>1079</td>\n",
       "    </tr>\n",
       "    <tr>\n",
       "      <th>CAMRY</th>\n",
       "      <td>938</td>\n",
       "    </tr>\n",
       "    <tr>\n",
       "      <th>ELANTRA</th>\n",
       "      <td>922</td>\n",
       "    </tr>\n",
       "    <tr>\n",
       "      <th>E 350</th>\n",
       "      <td>542</td>\n",
       "    </tr>\n",
       "    <tr>\n",
       "      <th>...</th>\n",
       "      <td>...</td>\n",
       "    </tr>\n",
       "    <tr>\n",
       "      <th>JUKE NISMO RS</th>\n",
       "      <td>1</td>\n",
       "    </tr>\n",
       "    <tr>\n",
       "      <th>525 525</th>\n",
       "      <td>1</td>\n",
       "    </tr>\n",
       "    <tr>\n",
       "      <th>X5 4.8IS</th>\n",
       "      <td>1</td>\n",
       "    </tr>\n",
       "    <tr>\n",
       "      <th>GLE 450</th>\n",
       "      <td>1</td>\n",
       "    </tr>\n",
       "    <tr>\n",
       "      <th>TRANSIT CONNECT ᲑᲔᲜᲖᲘᲜᲘ</th>\n",
       "      <td>1</td>\n",
       "    </tr>\n",
       "  </tbody>\n",
       "</table>\n",
       "<p>1511 rows × 1 columns</p>\n",
       "</div>"
      ],
      "text/plain": [
       "                         Model\n",
       "PRIUS                     1083\n",
       "SONATA                    1079\n",
       "CAMRY                      938\n",
       "ELANTRA                    922\n",
       "E 350                      542\n",
       "...                        ...\n",
       "JUKE NISMO RS                1\n",
       "525 525                      1\n",
       "X5 4.8IS                     1\n",
       "GLE 450                      1\n",
       "TRANSIT CONNECT ᲑᲔᲜᲖᲘᲜᲘ      1\n",
       "\n",
       "[1511 rows x 1 columns]"
      ]
     },
     "execution_count": 528,
     "metadata": {},
     "output_type": "execute_result"
    }
   ],
   "source": [
    "pd.DataFrame(df['Model'].str.upper().value_counts())"
   ]
  },
  {
   "cell_type": "markdown",
   "metadata": {},
   "source": [
    "Having too many models would generate an high amount of dummy variables in the OneHotEncoging process, so we won't take that column into account."
   ]
  },
  {
   "cell_type": "code",
   "execution_count": 529,
   "metadata": {},
   "outputs": [],
   "source": [
    "df.drop(columns='Model',inplace=True)"
   ]
  },
  {
   "cell_type": "markdown",
   "metadata": {},
   "source": [
    "The Prod. year column seems to be alright, because despite having a bunch of rows with only one value, they are not as much as the previous ones."
   ]
  },
  {
   "cell_type": "code",
   "execution_count": 530,
   "metadata": {
    "scrolled": true
   },
   "outputs": [
    {
     "data": {
      "text/plain": [
       "2012    2155\n",
       "2014    2124\n",
       "2013    1963\n",
       "2011    1612\n",
       "2015    1549\n",
       "2010    1483\n",
       "2016    1476\n",
       "2017     959\n",
       "2008     737\n",
       "2009     601\n",
       "2018     500\n",
       "2007     464\n",
       "2005     402\n",
       "2003     367\n",
       "2004     364\n",
       "2006     317\n",
       "2019     306\n",
       "2002     296\n",
       "2000     279\n",
       "2001     254\n",
       "1998     213\n",
       "1999     207\n",
       "1997     151\n",
       "1996     114\n",
       "1995     105\n",
       "2020      47\n",
       "1994      42\n",
       "1992      30\n",
       "1993      23\n",
       "1990      18\n",
       "1988      12\n",
       "1991      10\n",
       "1989       6\n",
       "1986       6\n",
       "1984       5\n",
       "1985       5\n",
       "1987       5\n",
       "1953       4\n",
       "1983       3\n",
       "1939       3\n",
       "1974       2\n",
       "1965       2\n",
       "1980       2\n",
       "1964       2\n",
       "1978       2\n",
       "1977       2\n",
       "1947       1\n",
       "1981       1\n",
       "1976       1\n",
       "1943       1\n",
       "1982       1\n",
       "1957       1\n",
       "1973       1\n",
       "1968       1\n",
       "Name: Prod. year, dtype: int64"
      ]
     },
     "execution_count": 530,
     "metadata": {},
     "output_type": "execute_result"
    }
   ],
   "source": [
    "df['Prod. year'].value_counts()"
   ]
  },
  {
   "cell_type": "code",
   "execution_count": 531,
   "metadata": {
    "scrolled": false
   },
   "outputs": [
    {
     "data": {
      "text/plain": [
       "Sedan          8736\n",
       "Jeep           5473\n",
       "Hatchback      2847\n",
       "Minivan         647\n",
       "Coupe           532\n",
       "Universal       364\n",
       "Microbus        306\n",
       "Goods wagon     233\n",
       "Pickup           52\n",
       "Cabriolet        36\n",
       "Limousine        11\n",
       "Name: Category, dtype: int64"
      ]
     },
     "execution_count": 531,
     "metadata": {},
     "output_type": "execute_result"
    }
   ],
   "source": [
    "df['Category'].value_counts()"
   ]
  },
  {
   "cell_type": "markdown",
   "metadata": {},
   "source": [
    "For the Category column we will put together Limousine and Cabriolet into a single variable because they once again are not as significant as the other categories that appear listed."
   ]
  },
  {
   "cell_type": "code",
   "execution_count": 532,
   "metadata": {},
   "outputs": [],
   "source": [
    "df['Category'] = df['Category'].replace(to_replace={'Limousine':'Other','Cabriolet':'Other'})"
   ]
  },
  {
   "cell_type": "code",
   "execution_count": 533,
   "metadata": {},
   "outputs": [
    {
     "data": {
      "text/plain": [
       "Sedan          8736\n",
       "Jeep           5473\n",
       "Hatchback      2847\n",
       "Minivan         647\n",
       "Coupe           532\n",
       "Universal       364\n",
       "Microbus        306\n",
       "Goods wagon     233\n",
       "Pickup           52\n",
       "Other            47\n",
       "Name: Category, dtype: int64"
      ]
     },
     "execution_count": 533,
     "metadata": {},
     "output_type": "execute_result"
    }
   ],
   "source": [
    "df['Category'].value_counts()"
   ]
  },
  {
   "cell_type": "code",
   "execution_count": 534,
   "metadata": {},
   "outputs": [
    {
     "data": {
      "text/plain": [
       "Yes    13954\n",
       "No      5283\n",
       "Name: Leather interior, dtype: int64"
      ]
     },
     "execution_count": 534,
     "metadata": {},
     "output_type": "execute_result"
    }
   ],
   "source": [
    "df['Leather interior'].value_counts()"
   ]
  },
  {
   "cell_type": "markdown",
   "metadata": {},
   "source": [
    "Leather interior seems to be okay."
   ]
  },
  {
   "cell_type": "code",
   "execution_count": 535,
   "metadata": {
    "scrolled": false
   },
   "outputs": [
    {
     "data": {
      "text/plain": [
       "Petrol            10150\n",
       "Diesel             4036\n",
       "Hybrid             3578\n",
       "LPG                 892\n",
       "CNG                 494\n",
       "Plug-in Hybrid       86\n",
       "Hydrogen              1\n",
       "Name: Fuel type, dtype: int64"
      ]
     },
     "execution_count": 535,
     "metadata": {},
     "output_type": "execute_result"
    }
   ],
   "source": [
    "df['Fuel type'].value_counts()"
   ]
  },
  {
   "cell_type": "markdown",
   "metadata": {},
   "source": [
    "Since Hydrogen only appears once in the Fuel type column it will not be significat, so we get rid off it."
   ]
  },
  {
   "cell_type": "code",
   "execution_count": 536,
   "metadata": {},
   "outputs": [],
   "source": [
    "to_drop = df[df['Fuel type']=='Hydrogen'].index\n",
    "df.drop(index=to_drop,inplace=True)"
   ]
  },
  {
   "cell_type": "code",
   "execution_count": 537,
   "metadata": {},
   "outputs": [
    {
     "data": {
      "text/plain": [
       "Petrol            10150\n",
       "Diesel             4036\n",
       "Hybrid             3578\n",
       "LPG                 892\n",
       "CNG                 494\n",
       "Plug-in Hybrid       86\n",
       "Name: Fuel type, dtype: int64"
      ]
     },
     "execution_count": 537,
     "metadata": {},
     "output_type": "execute_result"
    }
   ],
   "source": [
    "df['Fuel type'].value_counts()"
   ]
  },
  {
   "cell_type": "code",
   "execution_count": 538,
   "metadata": {},
   "outputs": [
    {
     "data": {
      "text/plain": [
       "2            3916\n",
       "2.5          2277\n",
       "1.8          1760\n",
       "1.6          1462\n",
       "1.5          1321\n",
       "             ... \n",
       "0.8 Turbo       1\n",
       "7.3             1\n",
       "5.2             1\n",
       "5.7 Turbo       1\n",
       "0.2 Turbo       1\n",
       "Name: Engine volume, Length: 107, dtype: int64"
      ]
     },
     "execution_count": 538,
     "metadata": {},
     "output_type": "execute_result"
    }
   ],
   "source": [
    "df['Engine volume'].value_counts()"
   ]
  },
  {
   "cell_type": "markdown",
   "metadata": {},
   "source": [
    "For Engine volume, we will split the column into two variables: Volume and Aspiration, where we classify the volume is either Natural or Turbo."
   ]
  },
  {
   "cell_type": "code",
   "execution_count": 539,
   "metadata": {},
   "outputs": [],
   "source": [
    "volume = df['Engine volume'].apply(lambda x : x.split(' ')[0]).astype('float64')\n",
    "aspiration = df['Engine volume'].apply(lambda x : x.split(' ')[1] if len(x.split(' '))>1 else 'Natural')"
   ]
  },
  {
   "cell_type": "code",
   "execution_count": 540,
   "metadata": {
    "scrolled": true
   },
   "outputs": [
    {
     "data": {
      "text/plain": [
       "2.0    4324\n",
       "2.5    2370\n",
       "1.8    1937\n",
       "1.6    1578\n",
       "1.5    1393\n",
       "       ... \n",
       "6.8       1\n",
       "0.5       1\n",
       "5.8       1\n",
       "7.3       1\n",
       "3.1       1\n",
       "Name: Engine volume, Length: 65, dtype: int64"
      ]
     },
     "execution_count": 540,
     "metadata": {},
     "output_type": "execute_result"
    }
   ],
   "source": [
    "volume.value_counts()"
   ]
  },
  {
   "cell_type": "code",
   "execution_count": 541,
   "metadata": {},
   "outputs": [
    {
     "data": {
      "text/plain": [
       "Natural    17305\n",
       "Turbo       1931\n",
       "Name: Engine volume, dtype: int64"
      ]
     },
     "execution_count": 541,
     "metadata": {},
     "output_type": "execute_result"
    }
   ],
   "source": [
    "aspiration.value_counts()"
   ]
  },
  {
   "cell_type": "markdown",
   "metadata": {},
   "source": [
    "Then, we assign it an index so we can added later on to the database."
   ]
  },
  {
   "cell_type": "code",
   "execution_count": 542,
   "metadata": {},
   "outputs": [],
   "source": [
    "engine_volume_index = list(df.columns).index('Engine volume')"
   ]
  },
  {
   "cell_type": "code",
   "execution_count": 543,
   "metadata": {},
   "outputs": [],
   "source": [
    "df.drop(df.columns[[engine_volume_index]], axis=1, inplace=True)"
   ]
  },
  {
   "cell_type": "code",
   "execution_count": 544,
   "metadata": {},
   "outputs": [],
   "source": [
    "df.insert(engine_volume_index,'Engine volume',volume,allow_duplicates=True)\n",
    "df.insert(engine_volume_index+1,'Aspiration',aspiration)"
   ]
  },
  {
   "cell_type": "code",
   "execution_count": 545,
   "metadata": {
    "scrolled": false
   },
   "outputs": [
    {
     "data": {
      "text/html": [
       "<div>\n",
       "<style scoped>\n",
       "    .dataframe tbody tr th:only-of-type {\n",
       "        vertical-align: middle;\n",
       "    }\n",
       "\n",
       "    .dataframe tbody tr th {\n",
       "        vertical-align: top;\n",
       "    }\n",
       "\n",
       "    .dataframe thead th {\n",
       "        text-align: right;\n",
       "    }\n",
       "</style>\n",
       "<table border=\"1\" class=\"dataframe\">\n",
       "  <thead>\n",
       "    <tr style=\"text-align: right;\">\n",
       "      <th></th>\n",
       "      <th>Price</th>\n",
       "      <th>Levy</th>\n",
       "      <th>Manufacturer</th>\n",
       "      <th>Prod. year</th>\n",
       "      <th>Category</th>\n",
       "      <th>Leather interior</th>\n",
       "      <th>Fuel type</th>\n",
       "      <th>Engine volume</th>\n",
       "      <th>Aspiration</th>\n",
       "      <th>Mileage</th>\n",
       "      <th>Cylinders</th>\n",
       "      <th>Gear box type</th>\n",
       "      <th>Drive wheels</th>\n",
       "      <th>Doors</th>\n",
       "      <th>Wheel</th>\n",
       "      <th>Color</th>\n",
       "      <th>Airbags</th>\n",
       "    </tr>\n",
       "    <tr>\n",
       "      <th>ID</th>\n",
       "      <th></th>\n",
       "      <th></th>\n",
       "      <th></th>\n",
       "      <th></th>\n",
       "      <th></th>\n",
       "      <th></th>\n",
       "      <th></th>\n",
       "      <th></th>\n",
       "      <th></th>\n",
       "      <th></th>\n",
       "      <th></th>\n",
       "      <th></th>\n",
       "      <th></th>\n",
       "      <th></th>\n",
       "      <th></th>\n",
       "      <th></th>\n",
       "      <th></th>\n",
       "    </tr>\n",
       "  </thead>\n",
       "  <tbody>\n",
       "    <tr>\n",
       "      <th>45654403</th>\n",
       "      <td>13328</td>\n",
       "      <td>1399.0</td>\n",
       "      <td>LEXUS</td>\n",
       "      <td>2010</td>\n",
       "      <td>Jeep</td>\n",
       "      <td>Yes</td>\n",
       "      <td>Hybrid</td>\n",
       "      <td>3.5</td>\n",
       "      <td>Natural</td>\n",
       "      <td>186005 km</td>\n",
       "      <td>6</td>\n",
       "      <td>Automatic</td>\n",
       "      <td>4x4</td>\n",
       "      <td>4-May</td>\n",
       "      <td>Left wheel</td>\n",
       "      <td>Silver</td>\n",
       "      <td>12</td>\n",
       "    </tr>\n",
       "    <tr>\n",
       "      <th>44731507</th>\n",
       "      <td>16621</td>\n",
       "      <td>1018.0</td>\n",
       "      <td>CHEVROLET</td>\n",
       "      <td>2011</td>\n",
       "      <td>Jeep</td>\n",
       "      <td>No</td>\n",
       "      <td>Petrol</td>\n",
       "      <td>3.0</td>\n",
       "      <td>Natural</td>\n",
       "      <td>192000 km</td>\n",
       "      <td>6</td>\n",
       "      <td>Tiptronic</td>\n",
       "      <td>4x4</td>\n",
       "      <td>4-May</td>\n",
       "      <td>Left wheel</td>\n",
       "      <td>Black</td>\n",
       "      <td>8</td>\n",
       "    </tr>\n",
       "    <tr>\n",
       "      <th>45774419</th>\n",
       "      <td>8467</td>\n",
       "      <td>0.0</td>\n",
       "      <td>HONDA</td>\n",
       "      <td>2006</td>\n",
       "      <td>Hatchback</td>\n",
       "      <td>No</td>\n",
       "      <td>Petrol</td>\n",
       "      <td>1.3</td>\n",
       "      <td>Natural</td>\n",
       "      <td>200000 km</td>\n",
       "      <td>4</td>\n",
       "      <td>Variator</td>\n",
       "      <td>Front</td>\n",
       "      <td>4-May</td>\n",
       "      <td>Right-hand drive</td>\n",
       "      <td>Black</td>\n",
       "      <td>2</td>\n",
       "    </tr>\n",
       "    <tr>\n",
       "      <th>45769185</th>\n",
       "      <td>3607</td>\n",
       "      <td>862.0</td>\n",
       "      <td>FORD</td>\n",
       "      <td>2011</td>\n",
       "      <td>Jeep</td>\n",
       "      <td>Yes</td>\n",
       "      <td>Hybrid</td>\n",
       "      <td>2.5</td>\n",
       "      <td>Natural</td>\n",
       "      <td>168966 km</td>\n",
       "      <td>4</td>\n",
       "      <td>Automatic</td>\n",
       "      <td>4x4</td>\n",
       "      <td>4-May</td>\n",
       "      <td>Left wheel</td>\n",
       "      <td>White</td>\n",
       "      <td>0</td>\n",
       "    </tr>\n",
       "    <tr>\n",
       "      <th>45809263</th>\n",
       "      <td>11726</td>\n",
       "      <td>446.0</td>\n",
       "      <td>HONDA</td>\n",
       "      <td>2014</td>\n",
       "      <td>Hatchback</td>\n",
       "      <td>Yes</td>\n",
       "      <td>Petrol</td>\n",
       "      <td>1.3</td>\n",
       "      <td>Natural</td>\n",
       "      <td>91901 km</td>\n",
       "      <td>4</td>\n",
       "      <td>Automatic</td>\n",
       "      <td>Front</td>\n",
       "      <td>4-May</td>\n",
       "      <td>Left wheel</td>\n",
       "      <td>Silver</td>\n",
       "      <td>4</td>\n",
       "    </tr>\n",
       "  </tbody>\n",
       "</table>\n",
       "</div>"
      ],
      "text/plain": [
       "          Price    Levy Manufacturer  Prod. year   Category Leather interior  \\\n",
       "ID                                                                             \n",
       "45654403  13328  1399.0        LEXUS        2010       Jeep              Yes   \n",
       "44731507  16621  1018.0    CHEVROLET        2011       Jeep               No   \n",
       "45774419   8467     0.0        HONDA        2006  Hatchback               No   \n",
       "45769185   3607   862.0         FORD        2011       Jeep              Yes   \n",
       "45809263  11726   446.0        HONDA        2014  Hatchback              Yes   \n",
       "\n",
       "         Fuel type  Engine volume Aspiration    Mileage  Cylinders  \\\n",
       "ID                                                                   \n",
       "45654403    Hybrid            3.5    Natural  186005 km          6   \n",
       "44731507    Petrol            3.0    Natural  192000 km          6   \n",
       "45774419    Petrol            1.3    Natural  200000 km          4   \n",
       "45769185    Hybrid            2.5    Natural  168966 km          4   \n",
       "45809263    Petrol            1.3    Natural   91901 km          4   \n",
       "\n",
       "         Gear box type Drive wheels  Doors             Wheel   Color  Airbags  \n",
       "ID                                                                             \n",
       "45654403     Automatic          4x4  4-May        Left wheel  Silver       12  \n",
       "44731507     Tiptronic          4x4  4-May        Left wheel   Black        8  \n",
       "45774419      Variator        Front  4-May  Right-hand drive   Black        2  \n",
       "45769185     Automatic          4x4  4-May        Left wheel   White        0  \n",
       "45809263     Automatic        Front  4-May        Left wheel  Silver        4  "
      ]
     },
     "execution_count": 545,
     "metadata": {},
     "output_type": "execute_result"
    }
   ],
   "source": [
    "df.head()"
   ]
  },
  {
   "cell_type": "markdown",
   "metadata": {},
   "source": [
    "For Mileage we will simply get rid of the _km_ at the end and cast it as a float."
   ]
  },
  {
   "cell_type": "code",
   "execution_count": 546,
   "metadata": {},
   "outputs": [],
   "source": [
    "df['Mileage'] = df['Mileage'].apply(lambda x: x[:-3]).astype(float)"
   ]
  },
  {
   "cell_type": "code",
   "execution_count": 547,
   "metadata": {},
   "outputs": [
    {
     "data": {
      "text/plain": [
       "ID\n",
       "45654403    186005.0\n",
       "44731507    192000.0\n",
       "45774419    200000.0\n",
       "45769185    168966.0\n",
       "45809263     91901.0\n",
       "Name: Mileage, dtype: float64"
      ]
     },
     "execution_count": 547,
     "metadata": {},
     "output_type": "execute_result"
    }
   ],
   "source": [
    "df['Mileage'].head()"
   ]
  },
  {
   "cell_type": "code",
   "execution_count": 548,
   "metadata": {},
   "outputs": [
    {
     "data": {
      "text/plain": [
       "4-May    18331\n",
       "2-Mar      777\n",
       ">5         128\n",
       "Name: Doors, dtype: int64"
      ]
     },
     "execution_count": 548,
     "metadata": {},
     "output_type": "execute_result"
    }
   ],
   "source": [
    "df['Doors'].value_counts()"
   ]
  },
  {
   "cell_type": "markdown",
   "metadata": {},
   "source": [
    "For some reason, the Doors column seems to have assigned dates instead of plain number. So we will correct that."
   ]
  },
  {
   "cell_type": "code",
   "execution_count": 549,
   "metadata": {},
   "outputs": [],
   "source": [
    "df.replace(to_replace='4-May',value=\"4\",inplace=True)\n",
    "df.replace(to_replace='2-Mar',value=\"2\",inplace=True)\n",
    "df.replace(to_replace='>5',value=\"5 or more\",inplace=True)"
   ]
  },
  {
   "cell_type": "code",
   "execution_count": 550,
   "metadata": {},
   "outputs": [
    {
     "data": {
      "text/plain": [
       "4            18331\n",
       "2              777\n",
       "5 or more      128\n",
       "Name: Doors, dtype: int64"
      ]
     },
     "execution_count": 550,
     "metadata": {},
     "output_type": "execute_result"
    }
   ],
   "source": [
    "df['Doors'].value_counts()"
   ]
  },
  {
   "cell_type": "code",
   "execution_count": 551,
   "metadata": {},
   "outputs": [
    {
     "data": {
      "text/plain": [
       "Left wheel          17752\n",
       "Right-hand drive     1484\n",
       "Name: Wheel, dtype: int64"
      ]
     },
     "execution_count": 551,
     "metadata": {},
     "output_type": "execute_result"
    }
   ],
   "source": [
    "df.Wheel.value_counts()"
   ]
  },
  {
   "cell_type": "markdown",
   "metadata": {},
   "source": [
    "Wheels column is fine."
   ]
  },
  {
   "cell_type": "code",
   "execution_count": 552,
   "metadata": {
    "scrolled": true
   },
   "outputs": [
    {
     "data": {
      "text/plain": [
       "Black            5033\n",
       "White            4489\n",
       "Silver           3792\n",
       "Grey             2374\n",
       "Blue             1396\n",
       "Red               639\n",
       "Green             322\n",
       "Orange            253\n",
       "Brown             187\n",
       "Carnelian red     179\n",
       "Golden            145\n",
       "Beige             134\n",
       "Sky blue          122\n",
       "Yellow            106\n",
       "Purple             39\n",
       "Pink               26\n",
       "Name: Color, dtype: int64"
      ]
     },
     "execution_count": 552,
     "metadata": {},
     "output_type": "execute_result"
    }
   ],
   "source": [
    "df.Color.value_counts()"
   ]
  },
  {
   "cell_type": "markdown",
   "metadata": {},
   "source": [
    "With the Color column, we will repeat the process we did before with Model and put any color below 40 iterations into Other."
   ]
  },
  {
   "cell_type": "code",
   "execution_count": 553,
   "metadata": {},
   "outputs": [],
   "source": [
    "lst = pd.DataFrame(df.Color.value_counts()<40)\n",
    "lst = lst[lst['Color']==False].index"
   ]
  },
  {
   "cell_type": "code",
   "execution_count": 554,
   "metadata": {},
   "outputs": [],
   "source": [
    "df['Color'] = df['Color'].where(df['Color'].isin(lst),'Other')"
   ]
  },
  {
   "cell_type": "code",
   "execution_count": 555,
   "metadata": {},
   "outputs": [
    {
     "data": {
      "text/plain": [
       "Black            5033\n",
       "White            4489\n",
       "Silver           3792\n",
       "Grey             2374\n",
       "Blue             1396\n",
       "Red               639\n",
       "Green             322\n",
       "Orange            253\n",
       "Brown             187\n",
       "Carnelian red     179\n",
       "Golden            145\n",
       "Beige             134\n",
       "Sky blue          122\n",
       "Yellow            106\n",
       "Other              65\n",
       "Name: Color, dtype: int64"
      ]
     },
     "execution_count": 555,
     "metadata": {},
     "output_type": "execute_result"
    }
   ],
   "source": [
    "df.Color.value_counts()"
   ]
  },
  {
   "cell_type": "code",
   "execution_count": 556,
   "metadata": {
    "scrolled": false
   },
   "outputs": [
    {
     "data": {
      "text/plain": [
       "4     5823\n",
       "12    5654\n",
       "0     2405\n",
       "8     1607\n",
       "6     1311\n",
       "2     1066\n",
       "10     849\n",
       "5      104\n",
       "16      93\n",
       "7       86\n",
       "1       76\n",
       "9       63\n",
       "3       37\n",
       "11      33\n",
       "14      20\n",
       "15       7\n",
       "13       2\n",
       "Name: Airbags, dtype: int64"
      ]
     },
     "execution_count": 556,
     "metadata": {},
     "output_type": "execute_result"
    }
   ],
   "source": [
    "df.Airbags.value_counts()"
   ]
  },
  {
   "cell_type": "markdown",
   "metadata": {},
   "source": [
    "Having too many values, once again, will leave us with too many dummies or ohe values, so we will reduce them."
   ]
  },
  {
   "cell_type": "code",
   "execution_count": 557,
   "metadata": {},
   "outputs": [],
   "source": [
    "df['Airbags'] = df['Airbags'].replace(to_replace={0:'0-4',1:'0-4',2:'0-4',3:'0-4',4:'0-4',\n",
    "                                  5:'5-9',6:'5-9',7:'5-9',8:'5-9',9:'5-9',\n",
    "                                  10:'More than 10',11:'More than 10',12:'More than 10',13:'More than 10',\n",
    "                                 14:'More than 10',15:'More than 10',16:'More than 10'})"
   ]
  },
  {
   "cell_type": "code",
   "execution_count": 558,
   "metadata": {},
   "outputs": [
    {
     "data": {
      "text/plain": [
       "0-4             9407\n",
       "More than 10    6658\n",
       "5-9             3171\n",
       "Name: Airbags, dtype: int64"
      ]
     },
     "execution_count": 558,
     "metadata": {},
     "output_type": "execute_result"
    }
   ],
   "source": [
    "df.Airbags.value_counts()"
   ]
  },
  {
   "cell_type": "markdown",
   "metadata": {},
   "source": [
    "Airbags happens to be the last column of the database, so we have finish with this part of the cleaning."
   ]
  },
  {
   "cell_type": "markdown",
   "metadata": {},
   "source": [
    "### Column Visualizations"
   ]
  },
  {
   "cell_type": "markdown",
   "metadata": {},
   "source": [
    "Following up, we are going to analyze the numeric variables to spot any outliers we have not identify yet."
   ]
  },
  {
   "cell_type": "code",
   "execution_count": 559,
   "metadata": {},
   "outputs": [],
   "source": [
    "%matplotlib inline\n",
    "import numpy as np\n",
    "import matplotlib.pyplot as plt\n",
    "plt.rcParams['figure.figsize'] = (20.0, 10.0)\n",
    "import seaborn as sns\n",
    "\n",
    "# To display all columns of a table\n",
    "pd.set_option('display.max_columns', None)"
   ]
  },
  {
   "cell_type": "code",
   "execution_count": 560,
   "metadata": {},
   "outputs": [
    {
     "data": {
      "image/png": "[encoded data removed]",
      "text/plain": [
       "<Figure size 1440x720 with 1 Axes>"
      ]
     },
     "metadata": {
      "needs_background": "light"
     },
     "output_type": "display_data"
    },
    {
     "name": "stdout",
     "output_type": "stream",
     "text": [
      "count    1.923600e+04\n",
      "mean     1.855583e+04\n",
      "std      1.905862e+05\n",
      "min      1.000000e+00\n",
      "25%      5.331000e+03\n",
      "50%      1.317200e+04\n",
      "75%      2.208275e+04\n",
      "max      2.630750e+07\n",
      "Name: Price, dtype: float64\n"
     ]
    }
   ],
   "source": [
    "plt.title('Car Price Spread')\n",
    "sns.boxplot(y=df.Price)\n",
    "plt.show()\n",
    "print(df.Price.describe())"
   ]
  },
  {
   "cell_type": "markdown",
   "metadata": {},
   "source": [
    "As we can see, there seems to be a big outlier above the $250,000, Which complicates the statistics, so it be may convinient to also get rid of it."
   ]
  },
  {
   "cell_type": "code",
   "execution_count": 561,
   "metadata": {
    "scrolled": false
   },
   "outputs": [
    {
     "data": {
      "text/html": [
       "<div>\n",
       "<style scoped>\n",
       "    .dataframe tbody tr th:only-of-type {\n",
       "        vertical-align: middle;\n",
       "    }\n",
       "\n",
       "    .dataframe tbody tr th {\n",
       "        vertical-align: top;\n",
       "    }\n",
       "\n",
       "    .dataframe thead th {\n",
       "        text-align: right;\n",
       "    }\n",
       "</style>\n",
       "<table border=\"1\" class=\"dataframe\">\n",
       "  <thead>\n",
       "    <tr style=\"text-align: right;\">\n",
       "      <th></th>\n",
       "      <th>Price</th>\n",
       "      <th>Levy</th>\n",
       "      <th>Manufacturer</th>\n",
       "      <th>Prod. year</th>\n",
       "      <th>Category</th>\n",
       "      <th>Leather interior</th>\n",
       "      <th>Fuel type</th>\n",
       "      <th>Engine volume</th>\n",
       "      <th>Aspiration</th>\n",
       "      <th>Mileage</th>\n",
       "      <th>Cylinders</th>\n",
       "      <th>Gear box type</th>\n",
       "      <th>Drive wheels</th>\n",
       "      <th>Doors</th>\n",
       "      <th>Wheel</th>\n",
       "      <th>Color</th>\n",
       "      <th>Airbags</th>\n",
       "    </tr>\n",
       "    <tr>\n",
       "      <th>ID</th>\n",
       "      <th></th>\n",
       "      <th></th>\n",
       "      <th></th>\n",
       "      <th></th>\n",
       "      <th></th>\n",
       "      <th></th>\n",
       "      <th></th>\n",
       "      <th></th>\n",
       "      <th></th>\n",
       "      <th></th>\n",
       "      <th></th>\n",
       "      <th></th>\n",
       "      <th></th>\n",
       "      <th></th>\n",
       "      <th></th>\n",
       "      <th></th>\n",
       "      <th></th>\n",
       "    </tr>\n",
       "  </thead>\n",
       "  <tbody>\n",
       "    <tr>\n",
       "      <th>45795524</th>\n",
       "      <td>627220</td>\n",
       "      <td>0.0</td>\n",
       "      <td>MERCEDES-BENZ</td>\n",
       "      <td>2020</td>\n",
       "      <td>Jeep</td>\n",
       "      <td>Yes</td>\n",
       "      <td>Petrol</td>\n",
       "      <td>6.3</td>\n",
       "      <td>Turbo</td>\n",
       "      <td>0.0</td>\n",
       "      <td>8</td>\n",
       "      <td>Tiptronic</td>\n",
       "      <td>4x4</td>\n",
       "      <td>4</td>\n",
       "      <td>Left wheel</td>\n",
       "      <td>Black</td>\n",
       "      <td>More than 10</td>\n",
       "    </tr>\n",
       "    <tr>\n",
       "      <th>45810285</th>\n",
       "      <td>308906</td>\n",
       "      <td>1694.0</td>\n",
       "      <td>PORSCHE</td>\n",
       "      <td>2016</td>\n",
       "      <td>Coupe</td>\n",
       "      <td>Yes</td>\n",
       "      <td>Petrol</td>\n",
       "      <td>4.0</td>\n",
       "      <td>Natural</td>\n",
       "      <td>8690.0</td>\n",
       "      <td>6</td>\n",
       "      <td>Automatic</td>\n",
       "      <td>Rear</td>\n",
       "      <td>2</td>\n",
       "      <td>Left wheel</td>\n",
       "      <td>Black</td>\n",
       "      <td>More than 10</td>\n",
       "    </tr>\n",
       "    <tr>\n",
       "      <th>44991441</th>\n",
       "      <td>254024</td>\n",
       "      <td>1292.0</td>\n",
       "      <td>MERCEDES-BENZ</td>\n",
       "      <td>2016</td>\n",
       "      <td>Jeep</td>\n",
       "      <td>Yes</td>\n",
       "      <td>Petrol</td>\n",
       "      <td>3.0</td>\n",
       "      <td>Turbo</td>\n",
       "      <td>73000.0</td>\n",
       "      <td>6</td>\n",
       "      <td>Tiptronic</td>\n",
       "      <td>4x4</td>\n",
       "      <td>4</td>\n",
       "      <td>Left wheel</td>\n",
       "      <td>Black</td>\n",
       "      <td>More than 10</td>\n",
       "    </tr>\n",
       "    <tr>\n",
       "      <th>45760644</th>\n",
       "      <td>288521</td>\n",
       "      <td>2269.0</td>\n",
       "      <td>BMW</td>\n",
       "      <td>2018</td>\n",
       "      <td>Sedan</td>\n",
       "      <td>Yes</td>\n",
       "      <td>Petrol</td>\n",
       "      <td>4.4</td>\n",
       "      <td>Natural</td>\n",
       "      <td>13500.0</td>\n",
       "      <td>8</td>\n",
       "      <td>Tiptronic</td>\n",
       "      <td>4x4</td>\n",
       "      <td>4</td>\n",
       "      <td>Left wheel</td>\n",
       "      <td>Black</td>\n",
       "      <td>0-4</td>\n",
       "    </tr>\n",
       "    <tr>\n",
       "      <th>45761204</th>\n",
       "      <td>872946</td>\n",
       "      <td>2067.0</td>\n",
       "      <td>OTHER</td>\n",
       "      <td>2019</td>\n",
       "      <td>Universal</td>\n",
       "      <td>Yes</td>\n",
       "      <td>Petrol</td>\n",
       "      <td>4.0</td>\n",
       "      <td>Natural</td>\n",
       "      <td>2531.0</td>\n",
       "      <td>8</td>\n",
       "      <td>Tiptronic</td>\n",
       "      <td>4x4</td>\n",
       "      <td>4</td>\n",
       "      <td>Left wheel</td>\n",
       "      <td>Black</td>\n",
       "      <td>0-4</td>\n",
       "    </tr>\n",
       "    <tr>\n",
       "      <th>45229113</th>\n",
       "      <td>297930</td>\n",
       "      <td>0.0</td>\n",
       "      <td>MERCEDES-BENZ</td>\n",
       "      <td>2015</td>\n",
       "      <td>Coupe</td>\n",
       "      <td>Yes</td>\n",
       "      <td>Petrol</td>\n",
       "      <td>4.0</td>\n",
       "      <td>Turbo</td>\n",
       "      <td>20000.0</td>\n",
       "      <td>8</td>\n",
       "      <td>Tiptronic</td>\n",
       "      <td>Rear</td>\n",
       "      <td>2</td>\n",
       "      <td>Left wheel</td>\n",
       "      <td>White</td>\n",
       "      <td>More than 10</td>\n",
       "    </tr>\n",
       "    <tr>\n",
       "      <th>45291161</th>\n",
       "      <td>260296</td>\n",
       "      <td>0.0</td>\n",
       "      <td>LEXUS</td>\n",
       "      <td>2018</td>\n",
       "      <td>Jeep</td>\n",
       "      <td>Yes</td>\n",
       "      <td>Petrol</td>\n",
       "      <td>5.7</td>\n",
       "      <td>Turbo</td>\n",
       "      <td>17700.0</td>\n",
       "      <td>8</td>\n",
       "      <td>Tiptronic</td>\n",
       "      <td>4x4</td>\n",
       "      <td>4</td>\n",
       "      <td>Left wheel</td>\n",
       "      <td>Black</td>\n",
       "      <td>More than 10</td>\n",
       "    </tr>\n",
       "    <tr>\n",
       "      <th>45792307</th>\n",
       "      <td>297930</td>\n",
       "      <td>0.0</td>\n",
       "      <td>LAND ROVER</td>\n",
       "      <td>2019</td>\n",
       "      <td>Jeep</td>\n",
       "      <td>Yes</td>\n",
       "      <td>Diesel</td>\n",
       "      <td>3.0</td>\n",
       "      <td>Turbo</td>\n",
       "      <td>4500.0</td>\n",
       "      <td>8</td>\n",
       "      <td>Tiptronic</td>\n",
       "      <td>4x4</td>\n",
       "      <td>4</td>\n",
       "      <td>Left wheel</td>\n",
       "      <td>Black</td>\n",
       "      <td>More than 10</td>\n",
       "    </tr>\n",
       "    <tr>\n",
       "      <th>45069516</th>\n",
       "      <td>250574</td>\n",
       "      <td>1481.0</td>\n",
       "      <td>MERCEDES-BENZ</td>\n",
       "      <td>2017</td>\n",
       "      <td>Jeep</td>\n",
       "      <td>Yes</td>\n",
       "      <td>Petrol</td>\n",
       "      <td>3.0</td>\n",
       "      <td>Turbo</td>\n",
       "      <td>81600.0</td>\n",
       "      <td>6</td>\n",
       "      <td>Tiptronic</td>\n",
       "      <td>4x4</td>\n",
       "      <td>4</td>\n",
       "      <td>Left wheel</td>\n",
       "      <td>Black</td>\n",
       "      <td>More than 10</td>\n",
       "    </tr>\n",
       "    <tr>\n",
       "      <th>45812886</th>\n",
       "      <td>26307500</td>\n",
       "      <td>0.0</td>\n",
       "      <td>OPEL</td>\n",
       "      <td>1999</td>\n",
       "      <td>Goods wagon</td>\n",
       "      <td>No</td>\n",
       "      <td>Diesel</td>\n",
       "      <td>1.7</td>\n",
       "      <td>Natural</td>\n",
       "      <td>99999.0</td>\n",
       "      <td>4</td>\n",
       "      <td>Manual</td>\n",
       "      <td>Front</td>\n",
       "      <td>2</td>\n",
       "      <td>Left wheel</td>\n",
       "      <td>Blue</td>\n",
       "      <td>0-4</td>\n",
       "    </tr>\n",
       "  </tbody>\n",
       "</table>\n",
       "</div>"
      ],
      "text/plain": [
       "             Price    Levy   Manufacturer  Prod. year     Category  \\\n",
       "ID                                                                   \n",
       "45795524    627220     0.0  MERCEDES-BENZ        2020         Jeep   \n",
       "45810285    308906  1694.0        PORSCHE        2016        Coupe   \n",
       "44991441    254024  1292.0  MERCEDES-BENZ        2016         Jeep   \n",
       "45760644    288521  2269.0            BMW        2018        Sedan   \n",
       "45761204    872946  2067.0          OTHER        2019    Universal   \n",
       "45229113    297930     0.0  MERCEDES-BENZ        2015        Coupe   \n",
       "45291161    260296     0.0          LEXUS        2018         Jeep   \n",
       "45792307    297930     0.0     LAND ROVER        2019         Jeep   \n",
       "45069516    250574  1481.0  MERCEDES-BENZ        2017         Jeep   \n",
       "45812886  26307500     0.0           OPEL        1999  Goods wagon   \n",
       "\n",
       "         Leather interior Fuel type  Engine volume Aspiration  Mileage  \\\n",
       "ID                                                                       \n",
       "45795524              Yes    Petrol            6.3      Turbo      0.0   \n",
       "45810285              Yes    Petrol            4.0    Natural   8690.0   \n",
       "44991441              Yes    Petrol            3.0      Turbo  73000.0   \n",
       "45760644              Yes    Petrol            4.4    Natural  13500.0   \n",
       "45761204              Yes    Petrol            4.0    Natural   2531.0   \n",
       "45229113              Yes    Petrol            4.0      Turbo  20000.0   \n",
       "45291161              Yes    Petrol            5.7      Turbo  17700.0   \n",
       "45792307              Yes    Diesel            3.0      Turbo   4500.0   \n",
       "45069516              Yes    Petrol            3.0      Turbo  81600.0   \n",
       "45812886               No    Diesel            1.7    Natural  99999.0   \n",
       "\n",
       "          Cylinders Gear box type Drive wheels Doors       Wheel  Color  \\\n",
       "ID                                                                        \n",
       "45795524          8     Tiptronic          4x4     4  Left wheel  Black   \n",
       "45810285          6     Automatic         Rear     2  Left wheel  Black   \n",
       "44991441          6     Tiptronic          4x4     4  Left wheel  Black   \n",
       "45760644          8     Tiptronic          4x4     4  Left wheel  Black   \n",
       "45761204          8     Tiptronic          4x4     4  Left wheel  Black   \n",
       "45229113          8     Tiptronic         Rear     2  Left wheel  White   \n",
       "45291161          8     Tiptronic          4x4     4  Left wheel  Black   \n",
       "45792307          8     Tiptronic          4x4     4  Left wheel  Black   \n",
       "45069516          6     Tiptronic          4x4     4  Left wheel  Black   \n",
       "45812886          4        Manual        Front     2  Left wheel   Blue   \n",
       "\n",
       "               Airbags  \n",
       "ID                      \n",
       "45795524  More than 10  \n",
       "45810285  More than 10  \n",
       "44991441  More than 10  \n",
       "45760644           0-4  \n",
       "45761204           0-4  \n",
       "45229113  More than 10  \n",
       "45291161  More than 10  \n",
       "45792307  More than 10  \n",
       "45069516  More than 10  \n",
       "45812886           0-4  "
      ]
     },
     "execution_count": 561,
     "metadata": {},
     "output_type": "execute_result"
    }
   ],
   "source": [
    "df[df['Price']>250000]"
   ]
  },
  {
   "cell_type": "markdown",
   "metadata": {},
   "source": [
    "OPEL Combo is a non-luxury, everyday work vehicle that couldn't reach a price of 26 millions, so we'll drop that entry."
   ]
  },
  {
   "cell_type": "code",
   "execution_count": 562,
   "metadata": {},
   "outputs": [],
   "source": [
    "to_drop = df[df['Price']>400000].index"
   ]
  },
  {
   "cell_type": "code",
   "execution_count": 563,
   "metadata": {},
   "outputs": [],
   "source": [
    "df.drop(index=to_drop,inplace=True)"
   ]
  },
  {
   "cell_type": "code",
   "execution_count": 564,
   "metadata": {
    "scrolled": false
   },
   "outputs": [
    {
     "data": {
      "image/png": "[encoded data removed]",
      "text/plain": [
       "<Figure size 1440x720 with 1 Axes>"
      ]
     },
     "metadata": {
      "needs_background": "light"
     },
     "output_type": "display_data"
    },
    {
     "name": "stdout",
     "output_type": "stream",
     "text": [
      "count     19233.000000\n",
      "mean      17112.895596\n",
      "std       18279.107644\n",
      "min           1.000000\n",
      "25%        5331.000000\n",
      "50%       13172.000000\n",
      "75%       22063.000000\n",
      "max      308906.000000\n",
      "Name: Price, dtype: float64\n"
     ]
    }
   ],
   "source": [
    "plt.title('Car Price Spread')\n",
    "sns.boxplot(y=df.Price)\n",
    "plt.show()\n",
    "print(df.Price.describe())"
   ]
  },
  {
   "cell_type": "markdown",
   "metadata": {},
   "source": [
    "The Price column seems to be a little more balanced."
   ]
  },
  {
   "cell_type": "code",
   "execution_count": 565,
   "metadata": {},
   "outputs": [
    {
     "data": {
      "image/png": "[encoded data removed]",
      "text/plain": [
       "<Figure size 1440x720 with 6 Axes>"
      ]
     },
     "metadata": {
      "needs_background": "light"
     },
     "output_type": "display_data"
    }
   ],
   "source": [
    "df[df['Price']<5000].hist(bins=50);"
   ]
  },
  {
   "cell_type": "markdown",
   "metadata": {},
   "source": [
    "There seems to be something strange with Mileage, lets take a look into it."
   ]
  },
  {
   "cell_type": "code",
   "execution_count": 566,
   "metadata": {
    "scrolled": true
   },
   "outputs": [
    {
     "data": {
      "text/html": [
       "<div>\n",
       "<style scoped>\n",
       "    .dataframe tbody tr th:only-of-type {\n",
       "        vertical-align: middle;\n",
       "    }\n",
       "\n",
       "    .dataframe tbody tr th {\n",
       "        vertical-align: top;\n",
       "    }\n",
       "\n",
       "    .dataframe thead th {\n",
       "        text-align: right;\n",
       "    }\n",
       "</style>\n",
       "<table border=\"1\" class=\"dataframe\">\n",
       "  <thead>\n",
       "    <tr style=\"text-align: right;\">\n",
       "      <th></th>\n",
       "      <th>Price</th>\n",
       "      <th>Levy</th>\n",
       "      <th>Manufacturer</th>\n",
       "      <th>Prod. year</th>\n",
       "      <th>Category</th>\n",
       "      <th>Leather interior</th>\n",
       "      <th>Fuel type</th>\n",
       "      <th>Engine volume</th>\n",
       "      <th>Aspiration</th>\n",
       "      <th>Mileage</th>\n",
       "      <th>Cylinders</th>\n",
       "      <th>Gear box type</th>\n",
       "      <th>Drive wheels</th>\n",
       "      <th>Doors</th>\n",
       "      <th>Wheel</th>\n",
       "      <th>Color</th>\n",
       "      <th>Airbags</th>\n",
       "    </tr>\n",
       "    <tr>\n",
       "      <th>ID</th>\n",
       "      <th></th>\n",
       "      <th></th>\n",
       "      <th></th>\n",
       "      <th></th>\n",
       "      <th></th>\n",
       "      <th></th>\n",
       "      <th></th>\n",
       "      <th></th>\n",
       "      <th></th>\n",
       "      <th></th>\n",
       "      <th></th>\n",
       "      <th></th>\n",
       "      <th></th>\n",
       "      <th></th>\n",
       "      <th></th>\n",
       "      <th></th>\n",
       "      <th></th>\n",
       "    </tr>\n",
       "  </thead>\n",
       "  <tbody>\n",
       "    <tr>\n",
       "      <th>45794120</th>\n",
       "      <td>80</td>\n",
       "      <td>0.0</td>\n",
       "      <td>TOYOTA</td>\n",
       "      <td>2014</td>\n",
       "      <td>Sedan</td>\n",
       "      <td>No</td>\n",
       "      <td>Hybrid</td>\n",
       "      <td>2.4</td>\n",
       "      <td>Natural</td>\n",
       "      <td>0.0</td>\n",
       "      <td>6</td>\n",
       "      <td>Automatic</td>\n",
       "      <td>Front</td>\n",
       "      <td>4</td>\n",
       "      <td>Left wheel</td>\n",
       "      <td>Black</td>\n",
       "      <td>5-9</td>\n",
       "    </tr>\n",
       "    <tr>\n",
       "      <th>45749571</th>\n",
       "      <td>30</td>\n",
       "      <td>0.0</td>\n",
       "      <td>HONDA</td>\n",
       "      <td>2010</td>\n",
       "      <td>Hatchback</td>\n",
       "      <td>No</td>\n",
       "      <td>Petrol</td>\n",
       "      <td>1.3</td>\n",
       "      <td>Natural</td>\n",
       "      <td>0.0</td>\n",
       "      <td>4</td>\n",
       "      <td>Automatic</td>\n",
       "      <td>Front</td>\n",
       "      <td>4</td>\n",
       "      <td>Right-hand drive</td>\n",
       "      <td>White</td>\n",
       "      <td>0-4</td>\n",
       "    </tr>\n",
       "    <tr>\n",
       "      <th>45809453</th>\n",
       "      <td>392</td>\n",
       "      <td>1086.0</td>\n",
       "      <td>OTHER</td>\n",
       "      <td>2012</td>\n",
       "      <td>Jeep</td>\n",
       "      <td>Yes</td>\n",
       "      <td>Petrol</td>\n",
       "      <td>3.6</td>\n",
       "      <td>Natural</td>\n",
       "      <td>0.0</td>\n",
       "      <td>6</td>\n",
       "      <td>Automatic</td>\n",
       "      <td>4x4</td>\n",
       "      <td>4</td>\n",
       "      <td>Left wheel</td>\n",
       "      <td>Black</td>\n",
       "      <td>More than 10</td>\n",
       "    </tr>\n",
       "    <tr>\n",
       "      <th>45652836</th>\n",
       "      <td>706</td>\n",
       "      <td>751.0</td>\n",
       "      <td>HYUNDAI</td>\n",
       "      <td>2013</td>\n",
       "      <td>Sedan</td>\n",
       "      <td>Yes</td>\n",
       "      <td>Hybrid</td>\n",
       "      <td>2.4</td>\n",
       "      <td>Natural</td>\n",
       "      <td>0.0</td>\n",
       "      <td>4</td>\n",
       "      <td>Automatic</td>\n",
       "      <td>Front</td>\n",
       "      <td>4</td>\n",
       "      <td>Left wheel</td>\n",
       "      <td>White</td>\n",
       "      <td>0-4</td>\n",
       "    </tr>\n",
       "    <tr>\n",
       "      <th>45651671</th>\n",
       "      <td>706</td>\n",
       "      <td>751.0</td>\n",
       "      <td>HYUNDAI</td>\n",
       "      <td>2013</td>\n",
       "      <td>Sedan</td>\n",
       "      <td>Yes</td>\n",
       "      <td>Hybrid</td>\n",
       "      <td>2.4</td>\n",
       "      <td>Natural</td>\n",
       "      <td>0.0</td>\n",
       "      <td>4</td>\n",
       "      <td>Automatic</td>\n",
       "      <td>Front</td>\n",
       "      <td>4</td>\n",
       "      <td>Left wheel</td>\n",
       "      <td>White</td>\n",
       "      <td>0-4</td>\n",
       "    </tr>\n",
       "  </tbody>\n",
       "</table>\n",
       "</div>"
      ],
      "text/plain": [
       "          Price    Levy Manufacturer  Prod. year   Category Leather interior  \\\n",
       "ID                                                                             \n",
       "45794120     80     0.0       TOYOTA        2014      Sedan               No   \n",
       "45749571     30     0.0        HONDA        2010  Hatchback               No   \n",
       "45809453    392  1086.0        OTHER        2012       Jeep              Yes   \n",
       "45652836    706   751.0      HYUNDAI        2013      Sedan              Yes   \n",
       "45651671    706   751.0      HYUNDAI        2013      Sedan              Yes   \n",
       "\n",
       "         Fuel type  Engine volume Aspiration  Mileage  Cylinders  \\\n",
       "ID                                                                 \n",
       "45794120    Hybrid            2.4    Natural      0.0          6   \n",
       "45749571    Petrol            1.3    Natural      0.0          4   \n",
       "45809453    Petrol            3.6    Natural      0.0          6   \n",
       "45652836    Hybrid            2.4    Natural      0.0          4   \n",
       "45651671    Hybrid            2.4    Natural      0.0          4   \n",
       "\n",
       "         Gear box type Drive wheels Doors             Wheel  Color  \\\n",
       "ID                                                                   \n",
       "45794120     Automatic        Front     4        Left wheel  Black   \n",
       "45749571     Automatic        Front     4  Right-hand drive  White   \n",
       "45809453     Automatic          4x4     4        Left wheel  Black   \n",
       "45652836     Automatic        Front     4        Left wheel  White   \n",
       "45651671     Automatic        Front     4        Left wheel  White   \n",
       "\n",
       "               Airbags  \n",
       "ID                      \n",
       "45794120           5-9  \n",
       "45749571           0-4  \n",
       "45809453  More than 10  \n",
       "45652836           0-4  \n",
       "45651671           0-4  "
      ]
     },
     "execution_count": 566,
     "metadata": {},
     "output_type": "execute_result"
    }
   ],
   "source": [
    "df[df.Price<1000].sort_values('Mileage').head()"
   ]
  },
  {
   "cell_type": "code",
   "execution_count": 567,
   "metadata": {
    "scrolled": false
   },
   "outputs": [
    {
     "data": {
      "text/html": [
       "<div>\n",
       "<style scoped>\n",
       "    .dataframe tbody tr th:only-of-type {\n",
       "        vertical-align: middle;\n",
       "    }\n",
       "\n",
       "    .dataframe tbody tr th {\n",
       "        vertical-align: top;\n",
       "    }\n",
       "\n",
       "    .dataframe thead th {\n",
       "        text-align: right;\n",
       "    }\n",
       "</style>\n",
       "<table border=\"1\" class=\"dataframe\">\n",
       "  <thead>\n",
       "    <tr style=\"text-align: right;\">\n",
       "      <th></th>\n",
       "      <th>Price</th>\n",
       "      <th>Levy</th>\n",
       "      <th>Manufacturer</th>\n",
       "      <th>Prod. year</th>\n",
       "      <th>Category</th>\n",
       "      <th>Leather interior</th>\n",
       "      <th>Fuel type</th>\n",
       "      <th>Engine volume</th>\n",
       "      <th>Aspiration</th>\n",
       "      <th>Mileage</th>\n",
       "      <th>Cylinders</th>\n",
       "      <th>Gear box type</th>\n",
       "      <th>Drive wheels</th>\n",
       "      <th>Doors</th>\n",
       "      <th>Wheel</th>\n",
       "      <th>Color</th>\n",
       "      <th>Airbags</th>\n",
       "    </tr>\n",
       "    <tr>\n",
       "      <th>ID</th>\n",
       "      <th></th>\n",
       "      <th></th>\n",
       "      <th></th>\n",
       "      <th></th>\n",
       "      <th></th>\n",
       "      <th></th>\n",
       "      <th></th>\n",
       "      <th></th>\n",
       "      <th></th>\n",
       "      <th></th>\n",
       "      <th></th>\n",
       "      <th></th>\n",
       "      <th></th>\n",
       "      <th></th>\n",
       "      <th></th>\n",
       "      <th></th>\n",
       "      <th></th>\n",
       "    </tr>\n",
       "  </thead>\n",
       "  <tbody>\n",
       "    <tr>\n",
       "      <th>45654403</th>\n",
       "      <td>13328</td>\n",
       "      <td>1399.0</td>\n",
       "      <td>LEXUS</td>\n",
       "      <td>2010</td>\n",
       "      <td>Jeep</td>\n",
       "      <td>Yes</td>\n",
       "      <td>Hybrid</td>\n",
       "      <td>3.5</td>\n",
       "      <td>Natural</td>\n",
       "      <td>186005.0</td>\n",
       "      <td>6</td>\n",
       "      <td>Automatic</td>\n",
       "      <td>4x4</td>\n",
       "      <td>4</td>\n",
       "      <td>Left wheel</td>\n",
       "      <td>Silver</td>\n",
       "      <td>More than 10</td>\n",
       "    </tr>\n",
       "    <tr>\n",
       "      <th>44731507</th>\n",
       "      <td>16621</td>\n",
       "      <td>1018.0</td>\n",
       "      <td>CHEVROLET</td>\n",
       "      <td>2011</td>\n",
       "      <td>Jeep</td>\n",
       "      <td>No</td>\n",
       "      <td>Petrol</td>\n",
       "      <td>3.0</td>\n",
       "      <td>Natural</td>\n",
       "      <td>192000.0</td>\n",
       "      <td>6</td>\n",
       "      <td>Tiptronic</td>\n",
       "      <td>4x4</td>\n",
       "      <td>4</td>\n",
       "      <td>Left wheel</td>\n",
       "      <td>Black</td>\n",
       "      <td>5-9</td>\n",
       "    </tr>\n",
       "    <tr>\n",
       "      <th>45774419</th>\n",
       "      <td>8467</td>\n",
       "      <td>0.0</td>\n",
       "      <td>HONDA</td>\n",
       "      <td>2006</td>\n",
       "      <td>Hatchback</td>\n",
       "      <td>No</td>\n",
       "      <td>Petrol</td>\n",
       "      <td>1.3</td>\n",
       "      <td>Natural</td>\n",
       "      <td>200000.0</td>\n",
       "      <td>4</td>\n",
       "      <td>Variator</td>\n",
       "      <td>Front</td>\n",
       "      <td>4</td>\n",
       "      <td>Right-hand drive</td>\n",
       "      <td>Black</td>\n",
       "      <td>0-4</td>\n",
       "    </tr>\n",
       "    <tr>\n",
       "      <th>45769185</th>\n",
       "      <td>3607</td>\n",
       "      <td>862.0</td>\n",
       "      <td>FORD</td>\n",
       "      <td>2011</td>\n",
       "      <td>Jeep</td>\n",
       "      <td>Yes</td>\n",
       "      <td>Hybrid</td>\n",
       "      <td>2.5</td>\n",
       "      <td>Natural</td>\n",
       "      <td>168966.0</td>\n",
       "      <td>4</td>\n",
       "      <td>Automatic</td>\n",
       "      <td>4x4</td>\n",
       "      <td>4</td>\n",
       "      <td>Left wheel</td>\n",
       "      <td>White</td>\n",
       "      <td>0-4</td>\n",
       "    </tr>\n",
       "    <tr>\n",
       "      <th>45809263</th>\n",
       "      <td>11726</td>\n",
       "      <td>446.0</td>\n",
       "      <td>HONDA</td>\n",
       "      <td>2014</td>\n",
       "      <td>Hatchback</td>\n",
       "      <td>Yes</td>\n",
       "      <td>Petrol</td>\n",
       "      <td>1.3</td>\n",
       "      <td>Natural</td>\n",
       "      <td>91901.0</td>\n",
       "      <td>4</td>\n",
       "      <td>Automatic</td>\n",
       "      <td>Front</td>\n",
       "      <td>4</td>\n",
       "      <td>Left wheel</td>\n",
       "      <td>Silver</td>\n",
       "      <td>0-4</td>\n",
       "    </tr>\n",
       "  </tbody>\n",
       "</table>\n",
       "</div>"
      ],
      "text/plain": [
       "          Price    Levy Manufacturer  Prod. year   Category Leather interior  \\\n",
       "ID                                                                             \n",
       "45654403  13328  1399.0        LEXUS        2010       Jeep              Yes   \n",
       "44731507  16621  1018.0    CHEVROLET        2011       Jeep               No   \n",
       "45774419   8467     0.0        HONDA        2006  Hatchback               No   \n",
       "45769185   3607   862.0         FORD        2011       Jeep              Yes   \n",
       "45809263  11726   446.0        HONDA        2014  Hatchback              Yes   \n",
       "\n",
       "         Fuel type  Engine volume Aspiration   Mileage  Cylinders  \\\n",
       "ID                                                                  \n",
       "45654403    Hybrid            3.5    Natural  186005.0          6   \n",
       "44731507    Petrol            3.0    Natural  192000.0          6   \n",
       "45774419    Petrol            1.3    Natural  200000.0          4   \n",
       "45769185    Hybrid            2.5    Natural  168966.0          4   \n",
       "45809263    Petrol            1.3    Natural   91901.0          4   \n",
       "\n",
       "         Gear box type Drive wheels Doors             Wheel   Color  \\\n",
       "ID                                                                    \n",
       "45654403     Automatic          4x4     4        Left wheel  Silver   \n",
       "44731507     Tiptronic          4x4     4        Left wheel   Black   \n",
       "45774419      Variator        Front     4  Right-hand drive   Black   \n",
       "45769185     Automatic          4x4     4        Left wheel   White   \n",
       "45809263     Automatic        Front     4        Left wheel  Silver   \n",
       "\n",
       "               Airbags  \n",
       "ID                      \n",
       "45654403  More than 10  \n",
       "44731507           5-9  \n",
       "45774419           0-4  \n",
       "45769185           0-4  \n",
       "45809263           0-4  "
      ]
     },
     "execution_count": 567,
     "metadata": {},
     "output_type": "execute_result"
    }
   ],
   "source": [
    "low_price_cars_indeces = df[df.Price<1000].index\n",
    "Non_low_price_cars = df.drop(index=low_price_cars_indeces)\n",
    "Non_low_price_cars.head()"
   ]
  },
  {
   "cell_type": "markdown",
   "metadata": {},
   "source": [
    "We have out out that there are a bunch of cars with 0 Milage, which probably means they are new, so it will not make sense to disappear those inputs, but we also found out a lot of cars with a lot of Milage."
   ]
  },
  {
   "cell_type": "markdown",
   "metadata": {},
   "source": [
    "The Guinness World Record for the highest vehicle mileage on a personal car is 3.2 million miles or over 5 million kilometers, so we'll drop any car with mileage higher than 1 millon kilometers (cars with higher mileage are very rare to find)."
   ]
  },
  {
   "cell_type": "code",
   "execution_count": 568,
   "metadata": {
    "scrolled": true
   },
   "outputs": [
    {
     "data": {
      "text/html": [
       "<div>\n",
       "<style scoped>\n",
       "    .dataframe tbody tr th:only-of-type {\n",
       "        vertical-align: middle;\n",
       "    }\n",
       "\n",
       "    .dataframe tbody tr th {\n",
       "        vertical-align: top;\n",
       "    }\n",
       "\n",
       "    .dataframe thead th {\n",
       "        text-align: right;\n",
       "    }\n",
       "</style>\n",
       "<table border=\"1\" class=\"dataframe\">\n",
       "  <thead>\n",
       "    <tr style=\"text-align: right;\">\n",
       "      <th></th>\n",
       "      <th>Price</th>\n",
       "      <th>Levy</th>\n",
       "      <th>Manufacturer</th>\n",
       "      <th>Prod. year</th>\n",
       "      <th>Category</th>\n",
       "      <th>Leather interior</th>\n",
       "      <th>Fuel type</th>\n",
       "      <th>Engine volume</th>\n",
       "      <th>Aspiration</th>\n",
       "      <th>Mileage</th>\n",
       "      <th>Cylinders</th>\n",
       "      <th>Gear box type</th>\n",
       "      <th>Drive wheels</th>\n",
       "      <th>Doors</th>\n",
       "      <th>Wheel</th>\n",
       "      <th>Color</th>\n",
       "      <th>Airbags</th>\n",
       "    </tr>\n",
       "    <tr>\n",
       "      <th>ID</th>\n",
       "      <th></th>\n",
       "      <th></th>\n",
       "      <th></th>\n",
       "      <th></th>\n",
       "      <th></th>\n",
       "      <th></th>\n",
       "      <th></th>\n",
       "      <th></th>\n",
       "      <th></th>\n",
       "      <th></th>\n",
       "      <th></th>\n",
       "      <th></th>\n",
       "      <th></th>\n",
       "      <th></th>\n",
       "      <th></th>\n",
       "      <th></th>\n",
       "      <th></th>\n",
       "    </tr>\n",
       "  </thead>\n",
       "  <tbody>\n",
       "    <tr>\n",
       "      <th>45807165</th>\n",
       "      <td>2700</td>\n",
       "      <td>0.0</td>\n",
       "      <td>OPEL</td>\n",
       "      <td>1997</td>\n",
       "      <td>Sedan</td>\n",
       "      <td>No</td>\n",
       "      <td>CNG</td>\n",
       "      <td>1.6</td>\n",
       "      <td>Natural</td>\n",
       "      <td>7.777778e+08</td>\n",
       "      <td>4</td>\n",
       "      <td>Automatic</td>\n",
       "      <td>Front</td>\n",
       "      <td>4</td>\n",
       "      <td>Left wheel</td>\n",
       "      <td>Beige</td>\n",
       "      <td>0-4</td>\n",
       "    </tr>\n",
       "    <tr>\n",
       "      <th>44615609</th>\n",
       "      <td>13485</td>\n",
       "      <td>0.0</td>\n",
       "      <td>BMW</td>\n",
       "      <td>2003</td>\n",
       "      <td>Sedan</td>\n",
       "      <td>Yes</td>\n",
       "      <td>Petrol</td>\n",
       "      <td>2.5</td>\n",
       "      <td>Natural</td>\n",
       "      <td>7.777787e+06</td>\n",
       "      <td>6</td>\n",
       "      <td>Manual</td>\n",
       "      <td>Rear</td>\n",
       "      <td>4</td>\n",
       "      <td>Left wheel</td>\n",
       "      <td>Silver</td>\n",
       "      <td>More than 10</td>\n",
       "    </tr>\n",
       "    <tr>\n",
       "      <th>45814878</th>\n",
       "      <td>9095</td>\n",
       "      <td>0.0</td>\n",
       "      <td>BMW</td>\n",
       "      <td>2002</td>\n",
       "      <td>Sedan</td>\n",
       "      <td>No</td>\n",
       "      <td>Petrol</td>\n",
       "      <td>2.8</td>\n",
       "      <td>Natural</td>\n",
       "      <td>5.555666e+07</td>\n",
       "      <td>6</td>\n",
       "      <td>Manual</td>\n",
       "      <td>Rear</td>\n",
       "      <td>4</td>\n",
       "      <td>Left wheel</td>\n",
       "      <td>Silver</td>\n",
       "      <td>5-9</td>\n",
       "    </tr>\n",
       "    <tr>\n",
       "      <th>45785610</th>\n",
       "      <td>7213</td>\n",
       "      <td>0.0</td>\n",
       "      <td>MERCEDES-BENZ</td>\n",
       "      <td>1997</td>\n",
       "      <td>Sedan</td>\n",
       "      <td>No</td>\n",
       "      <td>Petrol</td>\n",
       "      <td>1.8</td>\n",
       "      <td>Natural</td>\n",
       "      <td>1.111111e+07</td>\n",
       "      <td>4</td>\n",
       "      <td>Manual</td>\n",
       "      <td>Rear</td>\n",
       "      <td>4</td>\n",
       "      <td>Left wheel</td>\n",
       "      <td>Silver</td>\n",
       "      <td>0-4</td>\n",
       "    </tr>\n",
       "    <tr>\n",
       "      <th>45346940</th>\n",
       "      <td>6899</td>\n",
       "      <td>0.0</td>\n",
       "      <td>VOLKSWAGEN</td>\n",
       "      <td>1999</td>\n",
       "      <td>Sedan</td>\n",
       "      <td>No</td>\n",
       "      <td>Petrol</td>\n",
       "      <td>1.6</td>\n",
       "      <td>Natural</td>\n",
       "      <td>2.147484e+09</td>\n",
       "      <td>4</td>\n",
       "      <td>Manual</td>\n",
       "      <td>Front</td>\n",
       "      <td>4</td>\n",
       "      <td>Left wheel</td>\n",
       "      <td>Black</td>\n",
       "      <td>0-4</td>\n",
       "    </tr>\n",
       "  </tbody>\n",
       "</table>\n",
       "</div>"
      ],
      "text/plain": [
       "          Price  Levy   Manufacturer  Prod. year Category Leather interior  \\\n",
       "ID                                                                           \n",
       "45807165   2700   0.0           OPEL        1997    Sedan               No   \n",
       "44615609  13485   0.0            BMW        2003    Sedan              Yes   \n",
       "45814878   9095   0.0            BMW        2002    Sedan               No   \n",
       "45785610   7213   0.0  MERCEDES-BENZ        1997    Sedan               No   \n",
       "45346940   6899   0.0     VOLKSWAGEN        1999    Sedan               No   \n",
       "\n",
       "         Fuel type  Engine volume Aspiration       Mileage  Cylinders  \\\n",
       "ID                                                                      \n",
       "45807165       CNG            1.6    Natural  7.777778e+08          4   \n",
       "44615609    Petrol            2.5    Natural  7.777787e+06          6   \n",
       "45814878    Petrol            2.8    Natural  5.555666e+07          6   \n",
       "45785610    Petrol            1.8    Natural  1.111111e+07          4   \n",
       "45346940    Petrol            1.6    Natural  2.147484e+09          4   \n",
       "\n",
       "         Gear box type Drive wheels Doors       Wheel   Color       Airbags  \n",
       "ID                                                                           \n",
       "45807165     Automatic        Front     4  Left wheel   Beige           0-4  \n",
       "44615609        Manual         Rear     4  Left wheel  Silver  More than 10  \n",
       "45814878        Manual         Rear     4  Left wheel  Silver           5-9  \n",
       "45785610        Manual         Rear     4  Left wheel  Silver           0-4  \n",
       "45346940        Manual        Front     4  Left wheel   Black           0-4  "
      ]
     },
     "execution_count": 568,
     "metadata": {},
     "output_type": "execute_result"
    }
   ],
   "source": [
    "Non_low_price_cars[Non_low_price_cars['Mileage']>5000000].head()"
   ]
  },
  {
   "cell_type": "code",
   "execution_count": 569,
   "metadata": {},
   "outputs": [
    {
     "data": {
      "text/html": [
       "<div>\n",
       "<style scoped>\n",
       "    .dataframe tbody tr th:only-of-type {\n",
       "        vertical-align: middle;\n",
       "    }\n",
       "\n",
       "    .dataframe tbody tr th {\n",
       "        vertical-align: top;\n",
       "    }\n",
       "\n",
       "    .dataframe thead th {\n",
       "        text-align: right;\n",
       "    }\n",
       "</style>\n",
       "<table border=\"1\" class=\"dataframe\">\n",
       "  <thead>\n",
       "    <tr style=\"text-align: right;\">\n",
       "      <th></th>\n",
       "      <th>Price</th>\n",
       "      <th>Levy</th>\n",
       "      <th>Manufacturer</th>\n",
       "      <th>Prod. year</th>\n",
       "      <th>Category</th>\n",
       "      <th>Leather interior</th>\n",
       "      <th>Fuel type</th>\n",
       "      <th>Engine volume</th>\n",
       "      <th>Aspiration</th>\n",
       "      <th>Mileage</th>\n",
       "      <th>Cylinders</th>\n",
       "      <th>Gear box type</th>\n",
       "      <th>Drive wheels</th>\n",
       "      <th>Doors</th>\n",
       "      <th>Wheel</th>\n",
       "      <th>Color</th>\n",
       "      <th>Airbags</th>\n",
       "    </tr>\n",
       "  </thead>\n",
       "  <tbody>\n",
       "    <tr>\n",
       "      <th>0</th>\n",
       "      <td>13328</td>\n",
       "      <td>1399.0</td>\n",
       "      <td>LEXUS</td>\n",
       "      <td>2010</td>\n",
       "      <td>Jeep</td>\n",
       "      <td>Yes</td>\n",
       "      <td>Hybrid</td>\n",
       "      <td>3.5</td>\n",
       "      <td>Natural</td>\n",
       "      <td>186005.0</td>\n",
       "      <td>6</td>\n",
       "      <td>Automatic</td>\n",
       "      <td>4x4</td>\n",
       "      <td>4</td>\n",
       "      <td>Left wheel</td>\n",
       "      <td>Silver</td>\n",
       "      <td>More than 10</td>\n",
       "    </tr>\n",
       "    <tr>\n",
       "      <th>1</th>\n",
       "      <td>16621</td>\n",
       "      <td>1018.0</td>\n",
       "      <td>CHEVROLET</td>\n",
       "      <td>2011</td>\n",
       "      <td>Jeep</td>\n",
       "      <td>No</td>\n",
       "      <td>Petrol</td>\n",
       "      <td>3.0</td>\n",
       "      <td>Natural</td>\n",
       "      <td>192000.0</td>\n",
       "      <td>6</td>\n",
       "      <td>Tiptronic</td>\n",
       "      <td>4x4</td>\n",
       "      <td>4</td>\n",
       "      <td>Left wheel</td>\n",
       "      <td>Black</td>\n",
       "      <td>5-9</td>\n",
       "    </tr>\n",
       "    <tr>\n",
       "      <th>2</th>\n",
       "      <td>8467</td>\n",
       "      <td>0.0</td>\n",
       "      <td>HONDA</td>\n",
       "      <td>2006</td>\n",
       "      <td>Hatchback</td>\n",
       "      <td>No</td>\n",
       "      <td>Petrol</td>\n",
       "      <td>1.3</td>\n",
       "      <td>Natural</td>\n",
       "      <td>200000.0</td>\n",
       "      <td>4</td>\n",
       "      <td>Variator</td>\n",
       "      <td>Front</td>\n",
       "      <td>4</td>\n",
       "      <td>Right-hand drive</td>\n",
       "      <td>Black</td>\n",
       "      <td>0-4</td>\n",
       "    </tr>\n",
       "    <tr>\n",
       "      <th>3</th>\n",
       "      <td>3607</td>\n",
       "      <td>862.0</td>\n",
       "      <td>FORD</td>\n",
       "      <td>2011</td>\n",
       "      <td>Jeep</td>\n",
       "      <td>Yes</td>\n",
       "      <td>Hybrid</td>\n",
       "      <td>2.5</td>\n",
       "      <td>Natural</td>\n",
       "      <td>168966.0</td>\n",
       "      <td>4</td>\n",
       "      <td>Automatic</td>\n",
       "      <td>4x4</td>\n",
       "      <td>4</td>\n",
       "      <td>Left wheel</td>\n",
       "      <td>White</td>\n",
       "      <td>0-4</td>\n",
       "    </tr>\n",
       "    <tr>\n",
       "      <th>4</th>\n",
       "      <td>11726</td>\n",
       "      <td>446.0</td>\n",
       "      <td>HONDA</td>\n",
       "      <td>2014</td>\n",
       "      <td>Hatchback</td>\n",
       "      <td>Yes</td>\n",
       "      <td>Petrol</td>\n",
       "      <td>1.3</td>\n",
       "      <td>Natural</td>\n",
       "      <td>91901.0</td>\n",
       "      <td>4</td>\n",
       "      <td>Automatic</td>\n",
       "      <td>Front</td>\n",
       "      <td>4</td>\n",
       "      <td>Left wheel</td>\n",
       "      <td>Silver</td>\n",
       "      <td>0-4</td>\n",
       "    </tr>\n",
       "  </tbody>\n",
       "</table>\n",
       "</div>"
      ],
      "text/plain": [
       "   Price    Levy Manufacturer  Prod. year   Category Leather interior  \\\n",
       "0  13328  1399.0        LEXUS        2010       Jeep              Yes   \n",
       "1  16621  1018.0    CHEVROLET        2011       Jeep               No   \n",
       "2   8467     0.0        HONDA        2006  Hatchback               No   \n",
       "3   3607   862.0         FORD        2011       Jeep              Yes   \n",
       "4  11726   446.0        HONDA        2014  Hatchback              Yes   \n",
       "\n",
       "  Fuel type  Engine volume Aspiration   Mileage  Cylinders Gear box type  \\\n",
       "0    Hybrid            3.5    Natural  186005.0          6     Automatic   \n",
       "1    Petrol            3.0    Natural  192000.0          6     Tiptronic   \n",
       "2    Petrol            1.3    Natural  200000.0          4      Variator   \n",
       "3    Hybrid            2.5    Natural  168966.0          4     Automatic   \n",
       "4    Petrol            1.3    Natural   91901.0          4     Automatic   \n",
       "\n",
       "  Drive wheels Doors             Wheel   Color       Airbags  \n",
       "0          4x4     4        Left wheel  Silver  More than 10  \n",
       "1          4x4     4        Left wheel   Black           5-9  \n",
       "2        Front     4  Right-hand drive   Black           0-4  \n",
       "3          4x4     4        Left wheel   White           0-4  \n",
       "4        Front     4        Left wheel  Silver           0-4  "
      ]
     },
     "execution_count": 569,
     "metadata": {},
     "output_type": "execute_result"
    }
   ],
   "source": [
    "high_mileage_indeces = Non_low_price_cars[Non_low_price_cars['Mileage']>1000000].index\n",
    "cars = Non_low_price_cars.drop(index=high_mileage_indeces).reset_index(drop=True)\n",
    "cars.head()"
   ]
  },
  {
   "cell_type": "markdown",
   "metadata": {},
   "source": [
    "We start analysing the columns with this modification we did."
   ]
  },
  {
   "cell_type": "markdown",
   "metadata": {},
   "source": [
    "#### Car Price"
   ]
  },
  {
   "cell_type": "code",
   "execution_count": 570,
   "metadata": {},
   "outputs": [
    {
     "data": {
      "image/png": "[encoded data removed]",
      "text/plain": [
       "<Figure size 1440x720 with 2 Axes>"
      ]
     },
     "metadata": {
      "needs_background": "light"
     },
     "output_type": "display_data"
    }
   ],
   "source": [
    "# creating a figure composed of two matplotlib.Axes objects (ax_box and ax_hist)\n",
    "f, (ax_box, ax_hist) = plt.subplots(2, sharex=True, gridspec_kw={\"height_ratios\": (.15, .85)})\n",
    " \n",
    "# assigning a graph to each ax\n",
    "sns.boxplot(cars[\"Price\"], ax=ax_box)\n",
    "sns.histplot(data=cars, x=\"Price\", ax=ax_hist)\n",
    " \n",
    "# Remove x axis name for the boxplot\n",
    "ax_box.set(xlabel='')\n",
    "\n",
    "f.suptitle('Car Price Distribution Plot')\n",
    "\n",
    "plt.show();"
   ]
  },
  {
   "cell_type": "markdown",
   "metadata": {},
   "source": [
    "#### Levy"
   ]
  },
  {
   "cell_type": "code",
   "execution_count": 571,
   "metadata": {
    "scrolled": false
   },
   "outputs": [
    {
     "data": {
      "image/png": "[encoded data removed]",
      "text/plain": [
       "<Figure size 1440x720 with 2 Axes>"
      ]
     },
     "metadata": {
      "needs_background": "light"
     },
     "output_type": "display_data"
    }
   ],
   "source": [
    "# creating a figure composed of two matplotlib.Axes objects (ax_box and ax_hist)\n",
    "f, (ax_box, ax_hist) = plt.subplots(2, sharex=True, gridspec_kw={\"height_ratios\": (.15, .85)})\n",
    " \n",
    "# assigning a graph to each ax\n",
    "sns.boxplot(cars[\"Levy\"], ax=ax_box)\n",
    "sns.histplot(data=cars, x=\"Levy\", ax=ax_hist,bins=60)\n",
    " \n",
    "# Remove x axis name for the boxplot\n",
    "ax_box.set(xlabel='')\n",
    "\n",
    "f.suptitle('Car Levy Distribution Plot')\n",
    "\n",
    "plt.show();"
   ]
  },
  {
   "cell_type": "markdown",
   "metadata": {},
   "source": [
    "#### Mileage"
   ]
  },
  {
   "cell_type": "code",
   "execution_count": 572,
   "metadata": {},
   "outputs": [
    {
     "data": {
      "image/png": "[encoded data removed]",
      "text/plain": [
       "<Figure size 1440x720 with 2 Axes>"
      ]
     },
     "metadata": {
      "needs_background": "light"
     },
     "output_type": "display_data"
    }
   ],
   "source": [
    "# creating a figure composed of two matplotlib.Axes objects (ax_box and ax_hist)\n",
    "f, (ax_box, ax_hist) = plt.subplots(2, sharex=True, gridspec_kw={\"height_ratios\": (.15, .85)})\n",
    " \n",
    "# assigning a graph to each ax\n",
    "sns.boxplot(cars[\"Mileage\"], ax=ax_box)\n",
    "sns.histplot(data=cars, x=\"Mileage\", ax=ax_hist)\n",
    " \n",
    "# Remove x axis name for the boxplot\n",
    "ax_box.set(xlabel='')\n",
    "\n",
    "f.suptitle('Car Mileage Distribution Plot')\n",
    "\n",
    "plt.show();"
   ]
  },
  {
   "cell_type": "markdown",
   "metadata": {},
   "source": [
    "#### Engine Volume"
   ]
  },
  {
   "cell_type": "code",
   "execution_count": 573,
   "metadata": {
    "scrolled": false
   },
   "outputs": [
    {
     "data": {
      "image/png": "[encoded data removed]",
      "text/plain": [
       "<Figure size 1440x720 with 2 Axes>"
      ]
     },
     "metadata": {
      "needs_background": "light"
     },
     "output_type": "display_data"
    }
   ],
   "source": [
    "# creating a figure composed of two matplotlib.Axes objects (ax_box and ax_hist)\n",
    "f, (ax_box, ax_hist) = plt.subplots(2, sharex=True, gridspec_kw={\"height_ratios\": (.15, .85)})\n",
    " \n",
    "# assigning a graph to each ax\n",
    "sns.boxplot(cars[\"Engine volume\"], ax=ax_box)\n",
    "sns.histplot(data=cars, x=\"Engine volume\", ax=ax_hist,bins=60)\n",
    " \n",
    "# Remove x axis name for the boxplot\n",
    "ax_box.set(xlabel='')\n",
    "\n",
    "f.suptitle('Car Engine Volume Distribution Plot')\n",
    "\n",
    "plt.show();"
   ]
  },
  {
   "cell_type": "markdown",
   "metadata": {},
   "source": [
    "There also seems to be something fishy in this column. Lets take a deeper look into it."
   ]
  },
  {
   "cell_type": "code",
   "execution_count": 574,
   "metadata": {},
   "outputs": [
    {
     "data": {
      "text/plain": [
       "count    16590.000000\n",
       "mean         2.265491\n",
       "std          0.845335\n",
       "min          0.000000\n",
       "25%          1.800000\n",
       "50%          2.000000\n",
       "75%          2.500000\n",
       "max         20.000000\n",
       "Name: Engine volume, dtype: float64"
      ]
     },
     "execution_count": 574,
     "metadata": {},
     "output_type": "execute_result"
    }
   ],
   "source": [
    "cars['Engine volume'].describe()"
   ]
  },
  {
   "cell_type": "code",
   "execution_count": 575,
   "metadata": {
    "scrolled": true
   },
   "outputs": [
    {
     "data": {
      "text/html": [
       "<div>\n",
       "<style scoped>\n",
       "    .dataframe tbody tr th:only-of-type {\n",
       "        vertical-align: middle;\n",
       "    }\n",
       "\n",
       "    .dataframe tbody tr th {\n",
       "        vertical-align: top;\n",
       "    }\n",
       "\n",
       "    .dataframe thead th {\n",
       "        text-align: right;\n",
       "    }\n",
       "</style>\n",
       "<table border=\"1\" class=\"dataframe\">\n",
       "  <thead>\n",
       "    <tr style=\"text-align: right;\">\n",
       "      <th></th>\n",
       "      <th>Price</th>\n",
       "      <th>Levy</th>\n",
       "      <th>Manufacturer</th>\n",
       "      <th>Prod. year</th>\n",
       "      <th>Category</th>\n",
       "      <th>Leather interior</th>\n",
       "      <th>Fuel type</th>\n",
       "      <th>Engine volume</th>\n",
       "      <th>Aspiration</th>\n",
       "      <th>Mileage</th>\n",
       "      <th>Cylinders</th>\n",
       "      <th>Gear box type</th>\n",
       "      <th>Drive wheels</th>\n",
       "      <th>Doors</th>\n",
       "      <th>Wheel</th>\n",
       "      <th>Color</th>\n",
       "      <th>Airbags</th>\n",
       "    </tr>\n",
       "  </thead>\n",
       "  <tbody>\n",
       "    <tr>\n",
       "      <th>140</th>\n",
       "      <td>1300</td>\n",
       "      <td>0.0</td>\n",
       "      <td>AUDI</td>\n",
       "      <td>2018</td>\n",
       "      <td>Coupe</td>\n",
       "      <td>Yes</td>\n",
       "      <td>Petrol</td>\n",
       "      <td>0.5</td>\n",
       "      <td>Natural</td>\n",
       "      <td>4000.0</td>\n",
       "      <td>1</td>\n",
       "      <td>Tiptronic</td>\n",
       "      <td>Rear</td>\n",
       "      <td>5 or more</td>\n",
       "      <td>Right-hand drive</td>\n",
       "      <td>Blue</td>\n",
       "      <td>0-4</td>\n",
       "    </tr>\n",
       "    <tr>\n",
       "      <th>602</th>\n",
       "      <td>8154</td>\n",
       "      <td>0.0</td>\n",
       "      <td>MITSUBISHI</td>\n",
       "      <td>2002</td>\n",
       "      <td>Jeep</td>\n",
       "      <td>No</td>\n",
       "      <td>LPG</td>\n",
       "      <td>0.2</td>\n",
       "      <td>Turbo</td>\n",
       "      <td>18800.0</td>\n",
       "      <td>4</td>\n",
       "      <td>Tiptronic</td>\n",
       "      <td>4x4</td>\n",
       "      <td>4</td>\n",
       "      <td>Left wheel</td>\n",
       "      <td>Black</td>\n",
       "      <td>0-4</td>\n",
       "    </tr>\n",
       "    <tr>\n",
       "      <th>1350</th>\n",
       "      <td>1333</td>\n",
       "      <td>289.0</td>\n",
       "      <td>FORD</td>\n",
       "      <td>2008</td>\n",
       "      <td>Jeep</td>\n",
       "      <td>Yes</td>\n",
       "      <td>Hybrid</td>\n",
       "      <td>0.4</td>\n",
       "      <td>Natural</td>\n",
       "      <td>349288.0</td>\n",
       "      <td>4</td>\n",
       "      <td>Automatic</td>\n",
       "      <td>Front</td>\n",
       "      <td>4</td>\n",
       "      <td>Left wheel</td>\n",
       "      <td>Blue</td>\n",
       "      <td>0-4</td>\n",
       "    </tr>\n",
       "    <tr>\n",
       "      <th>1719</th>\n",
       "      <td>53941</td>\n",
       "      <td>87.0</td>\n",
       "      <td>OTHER</td>\n",
       "      <td>2018</td>\n",
       "      <td>Sedan</td>\n",
       "      <td>Yes</td>\n",
       "      <td>Petrol</td>\n",
       "      <td>0.0</td>\n",
       "      <td>Natural</td>\n",
       "      <td>81907.0</td>\n",
       "      <td>6</td>\n",
       "      <td>Automatic</td>\n",
       "      <td>4x4</td>\n",
       "      <td>4</td>\n",
       "      <td>Left wheel</td>\n",
       "      <td>Silver</td>\n",
       "      <td>More than 10</td>\n",
       "    </tr>\n",
       "    <tr>\n",
       "      <th>1842</th>\n",
       "      <td>1333</td>\n",
       "      <td>289.0</td>\n",
       "      <td>FORD</td>\n",
       "      <td>2008</td>\n",
       "      <td>Jeep</td>\n",
       "      <td>Yes</td>\n",
       "      <td>Hybrid</td>\n",
       "      <td>0.4</td>\n",
       "      <td>Natural</td>\n",
       "      <td>349288.0</td>\n",
       "      <td>4</td>\n",
       "      <td>Automatic</td>\n",
       "      <td>Front</td>\n",
       "      <td>4</td>\n",
       "      <td>Left wheel</td>\n",
       "      <td>Blue</td>\n",
       "      <td>0-4</td>\n",
       "    </tr>\n",
       "  </tbody>\n",
       "</table>\n",
       "</div>"
      ],
      "text/plain": [
       "      Price   Levy Manufacturer  Prod. year Category Leather interior  \\\n",
       "140    1300    0.0         AUDI        2018    Coupe              Yes   \n",
       "602    8154    0.0   MITSUBISHI        2002     Jeep               No   \n",
       "1350   1333  289.0         FORD        2008     Jeep              Yes   \n",
       "1719  53941   87.0        OTHER        2018    Sedan              Yes   \n",
       "1842   1333  289.0         FORD        2008     Jeep              Yes   \n",
       "\n",
       "     Fuel type  Engine volume Aspiration   Mileage  Cylinders Gear box type  \\\n",
       "140     Petrol            0.5    Natural    4000.0          1     Tiptronic   \n",
       "602        LPG            0.2      Turbo   18800.0          4     Tiptronic   \n",
       "1350    Hybrid            0.4    Natural  349288.0          4     Automatic   \n",
       "1719    Petrol            0.0    Natural   81907.0          6     Automatic   \n",
       "1842    Hybrid            0.4    Natural  349288.0          4     Automatic   \n",
       "\n",
       "     Drive wheels      Doors             Wheel   Color       Airbags  \n",
       "140          Rear  5 or more  Right-hand drive    Blue           0-4  \n",
       "602           4x4          4        Left wheel   Black           0-4  \n",
       "1350        Front          4        Left wheel    Blue           0-4  \n",
       "1719          4x4          4        Left wheel  Silver  More than 10  \n",
       "1842        Front          4        Left wheel    Blue           0-4  "
      ]
     },
     "execution_count": 575,
     "metadata": {},
     "output_type": "execute_result"
    }
   ],
   "source": [
    "cars[(cars['Engine volume']<0.7)|(cars['Engine volume']>7)].head()"
   ]
  },
  {
   "cell_type": "markdown",
   "metadata": {},
   "source": [
    "Having that the smallest car engines in the market are around  0.3 L and any record having engine volumn less than 0.5 L is incorrect, we'll drop any record having engine volum less than 0.6L.\n",
    "\n",
    "Similarly, records with engine volumn greater than 7 L are incorrect. I'll also get rid of them."
   ]
  },
  {
   "cell_type": "code",
   "execution_count": 576,
   "metadata": {
    "scrolled": true
   },
   "outputs": [],
   "source": [
    "index_to_drop_EV =  cars[(cars['Engine volume']<0.6) | (cars['Engine volume']>7)].index"
   ]
  },
  {
   "cell_type": "code",
   "execution_count": 577,
   "metadata": {},
   "outputs": [],
   "source": [
    "cars.drop(index=index_to_drop_EV, inplace=True)"
   ]
  },
  {
   "cell_type": "code",
   "execution_count": 578,
   "metadata": {
    "scrolled": false
   },
   "outputs": [
    {
     "data": {
      "image/png": "[encoded data removed]",
      "text/plain": [
       "<Figure size 1440x720 with 2 Axes>"
      ]
     },
     "metadata": {
      "needs_background": "light"
     },
     "output_type": "display_data"
    },
    {
     "name": "stdout",
     "output_type": "stream",
     "text": [
      "count    16559.000000\n",
      "mean         2.266532\n",
      "std          0.818033\n",
      "min          0.600000\n",
      "25%          1.800000\n",
      "50%          2.000000\n",
      "75%          2.500000\n",
      "max          6.800000\n",
      "Name: Engine volume, dtype: float64\n"
     ]
    }
   ],
   "source": [
    "# creating a figure composed of two matplotlib.Axes objects (ax_box and ax_hist)\n",
    "f, (ax_box, ax_hist) = plt.subplots(2, sharex=True, gridspec_kw={\"height_ratios\": (.15, .85)})\n",
    " \n",
    "# assigning a graph to each ax\n",
    "sns.boxplot(cars[\"Engine volume\"], ax=ax_box)\n",
    "sns.histplot(data=cars, x=\"Engine volume\", ax=ax_hist,bins=30)\n",
    " \n",
    "# Remove x axis name for the boxplot\n",
    "ax_box.set(xlabel='')\n",
    "\n",
    "f.suptitle('Car Engine volume Distribution Plot')\n",
    "\n",
    "plt.show();\n",
    "\n",
    "print(cars['Engine volume'].describe())"
   ]
  },
  {
   "cell_type": "markdown",
   "metadata": {},
   "source": [
    "That is more like it."
   ]
  },
  {
   "cell_type": "markdown",
   "metadata": {},
   "source": [
    "#### Cylinders"
   ]
  },
  {
   "cell_type": "code",
   "execution_count": 579,
   "metadata": {
    "scrolled": true
   },
   "outputs": [
    {
     "data": {
      "text/html": [
       "<div>\n",
       "<style scoped>\n",
       "    .dataframe tbody tr th:only-of-type {\n",
       "        vertical-align: middle;\n",
       "    }\n",
       "\n",
       "    .dataframe tbody tr th {\n",
       "        vertical-align: top;\n",
       "    }\n",
       "\n",
       "    .dataframe thead th {\n",
       "        text-align: right;\n",
       "    }\n",
       "</style>\n",
       "<table border=\"1\" class=\"dataframe\">\n",
       "  <thead>\n",
       "    <tr style=\"text-align: right;\">\n",
       "      <th></th>\n",
       "      <th>Price</th>\n",
       "      <th>Levy</th>\n",
       "      <th>Manufacturer</th>\n",
       "      <th>Prod. year</th>\n",
       "      <th>Category</th>\n",
       "      <th>Leather interior</th>\n",
       "      <th>Fuel type</th>\n",
       "      <th>Engine volume</th>\n",
       "      <th>Aspiration</th>\n",
       "      <th>Mileage</th>\n",
       "      <th>Cylinders</th>\n",
       "      <th>Gear box type</th>\n",
       "      <th>Drive wheels</th>\n",
       "      <th>Doors</th>\n",
       "      <th>Wheel</th>\n",
       "      <th>Color</th>\n",
       "      <th>Airbags</th>\n",
       "    </tr>\n",
       "  </thead>\n",
       "  <tbody>\n",
       "    <tr>\n",
       "      <th>94</th>\n",
       "      <td>11917</td>\n",
       "      <td>11714.0</td>\n",
       "      <td>MERCEDES-BENZ</td>\n",
       "      <td>2003</td>\n",
       "      <td>Sedan</td>\n",
       "      <td>Yes</td>\n",
       "      <td>Petrol</td>\n",
       "      <td>5.0</td>\n",
       "      <td>Natural</td>\n",
       "      <td>150000.0</td>\n",
       "      <td>12</td>\n",
       "      <td>Tiptronic</td>\n",
       "      <td>Rear</td>\n",
       "      <td>4</td>\n",
       "      <td>Right-hand drive</td>\n",
       "      <td>White</td>\n",
       "      <td>More than 10</td>\n",
       "    </tr>\n",
       "    <tr>\n",
       "      <th>266</th>\n",
       "      <td>22894</td>\n",
       "      <td>0.0</td>\n",
       "      <td>NISSAN</td>\n",
       "      <td>2010</td>\n",
       "      <td>Sedan</td>\n",
       "      <td>No</td>\n",
       "      <td>Petrol</td>\n",
       "      <td>4.0</td>\n",
       "      <td>Natural</td>\n",
       "      <td>109100.0</td>\n",
       "      <td>12</td>\n",
       "      <td>Automatic</td>\n",
       "      <td>4x4</td>\n",
       "      <td>4</td>\n",
       "      <td>Left wheel</td>\n",
       "      <td>Blue</td>\n",
       "      <td>More than 10</td>\n",
       "    </tr>\n",
       "    <tr>\n",
       "      <th>386</th>\n",
       "      <td>11604</td>\n",
       "      <td>993.0</td>\n",
       "      <td>OPEL</td>\n",
       "      <td>2006</td>\n",
       "      <td>Goods wagon</td>\n",
       "      <td>No</td>\n",
       "      <td>Diesel</td>\n",
       "      <td>1.3</td>\n",
       "      <td>Turbo</td>\n",
       "      <td>27000.0</td>\n",
       "      <td>16</td>\n",
       "      <td>Manual</td>\n",
       "      <td>Front</td>\n",
       "      <td>4</td>\n",
       "      <td>Left wheel</td>\n",
       "      <td>Black</td>\n",
       "      <td>5-9</td>\n",
       "    </tr>\n",
       "    <tr>\n",
       "      <th>619</th>\n",
       "      <td>81539</td>\n",
       "      <td>1360.0</td>\n",
       "      <td>LEXUS</td>\n",
       "      <td>2013</td>\n",
       "      <td>Jeep</td>\n",
       "      <td>Yes</td>\n",
       "      <td>Petrol</td>\n",
       "      <td>4.6</td>\n",
       "      <td>Natural</td>\n",
       "      <td>76800.0</td>\n",
       "      <td>12</td>\n",
       "      <td>Tiptronic</td>\n",
       "      <td>4x4</td>\n",
       "      <td>4</td>\n",
       "      <td>Left wheel</td>\n",
       "      <td>Black</td>\n",
       "      <td>0-4</td>\n",
       "    </tr>\n",
       "    <tr>\n",
       "      <th>703</th>\n",
       "      <td>7997</td>\n",
       "      <td>308.0</td>\n",
       "      <td>TOYOTA</td>\n",
       "      <td>2014</td>\n",
       "      <td>Sedan</td>\n",
       "      <td>Yes</td>\n",
       "      <td>Hybrid</td>\n",
       "      <td>1.8</td>\n",
       "      <td>Natural</td>\n",
       "      <td>0.0</td>\n",
       "      <td>12</td>\n",
       "      <td>Tiptronic</td>\n",
       "      <td>Front</td>\n",
       "      <td>4</td>\n",
       "      <td>Left wheel</td>\n",
       "      <td>Black</td>\n",
       "      <td>More than 10</td>\n",
       "    </tr>\n",
       "  </tbody>\n",
       "</table>\n",
       "</div>"
      ],
      "text/plain": [
       "     Price     Levy   Manufacturer  Prod. year     Category Leather interior  \\\n",
       "94   11917  11714.0  MERCEDES-BENZ        2003        Sedan              Yes   \n",
       "266  22894      0.0         NISSAN        2010        Sedan               No   \n",
       "386  11604    993.0           OPEL        2006  Goods wagon               No   \n",
       "619  81539   1360.0          LEXUS        2013         Jeep              Yes   \n",
       "703   7997    308.0         TOYOTA        2014        Sedan              Yes   \n",
       "\n",
       "    Fuel type  Engine volume Aspiration   Mileage  Cylinders Gear box type  \\\n",
       "94     Petrol            5.0    Natural  150000.0         12     Tiptronic   \n",
       "266    Petrol            4.0    Natural  109100.0         12     Automatic   \n",
       "386    Diesel            1.3      Turbo   27000.0         16        Manual   \n",
       "619    Petrol            4.6    Natural   76800.0         12     Tiptronic   \n",
       "703    Hybrid            1.8    Natural       0.0         12     Tiptronic   \n",
       "\n",
       "    Drive wheels Doors             Wheel  Color       Airbags  \n",
       "94          Rear     4  Right-hand drive  White  More than 10  \n",
       "266          4x4     4        Left wheel   Blue  More than 10  \n",
       "386        Front     4        Left wheel  Black           5-9  \n",
       "619          4x4     4        Left wheel  Black           0-4  \n",
       "703        Front     4        Left wheel  Black  More than 10  "
      ]
     },
     "execution_count": 579,
     "metadata": {},
     "output_type": "execute_result"
    }
   ],
   "source": [
    "cars[cars['Cylinders']>8].head()"
   ]
  },
  {
   "cell_type": "markdown",
   "metadata": {},
   "source": [
    "As seen in the previous dataframe, records with number of cylinders greater than 8 are incorrect, so we'll not consider them."
   ]
  },
  {
   "cell_type": "code",
   "execution_count": 580,
   "metadata": {},
   "outputs": [],
   "source": [
    "indeces_to_drop = cars[cars['Cylinders']>8].index"
   ]
  },
  {
   "cell_type": "code",
   "execution_count": 581,
   "metadata": {},
   "outputs": [],
   "source": [
    "cars.drop(index=indeces_to_drop,inplace=True)"
   ]
  },
  {
   "cell_type": "markdown",
   "metadata": {},
   "source": [
    "Now, this columns appear to be more balanced and to have less outliers"
   ]
  },
  {
   "cell_type": "code",
   "execution_count": 582,
   "metadata": {},
   "outputs": [
    {
     "data": {
      "image/png": "[encoded data removed]",
      "text/plain": [
       "<Figure size 1440x720 with 6 Axes>"
      ]
     },
     "metadata": {
      "needs_background": "light"
     },
     "output_type": "display_data"
    }
   ],
   "source": [
    "cars.hist(bins=50);"
   ]
  },
  {
   "cell_type": "code",
   "execution_count": 583,
   "metadata": {},
   "outputs": [
    {
     "data": {
      "text/html": [
       "<div>\n",
       "<style scoped>\n",
       "    .dataframe tbody tr th:only-of-type {\n",
       "        vertical-align: middle;\n",
       "    }\n",
       "\n",
       "    .dataframe tbody tr th {\n",
       "        vertical-align: top;\n",
       "    }\n",
       "\n",
       "    .dataframe thead th {\n",
       "        text-align: right;\n",
       "    }\n",
       "</style>\n",
       "<table border=\"1\" class=\"dataframe\">\n",
       "  <thead>\n",
       "    <tr style=\"text-align: right;\">\n",
       "      <th></th>\n",
       "      <th>Price</th>\n",
       "      <th>Levy</th>\n",
       "      <th>Manufacturer</th>\n",
       "      <th>Prod. year</th>\n",
       "      <th>Category</th>\n",
       "      <th>Leather interior</th>\n",
       "      <th>Fuel type</th>\n",
       "      <th>Engine volume</th>\n",
       "      <th>Aspiration</th>\n",
       "      <th>Mileage</th>\n",
       "      <th>Cylinders</th>\n",
       "      <th>Gear box type</th>\n",
       "      <th>Drive wheels</th>\n",
       "      <th>Doors</th>\n",
       "      <th>Wheel</th>\n",
       "      <th>Color</th>\n",
       "      <th>Airbags</th>\n",
       "    </tr>\n",
       "  </thead>\n",
       "  <tbody>\n",
       "    <tr>\n",
       "      <th>0</th>\n",
       "      <td>13328</td>\n",
       "      <td>1399.0</td>\n",
       "      <td>LEXUS</td>\n",
       "      <td>2010</td>\n",
       "      <td>Jeep</td>\n",
       "      <td>Yes</td>\n",
       "      <td>Hybrid</td>\n",
       "      <td>3.5</td>\n",
       "      <td>Natural</td>\n",
       "      <td>186005.0</td>\n",
       "      <td>6</td>\n",
       "      <td>Automatic</td>\n",
       "      <td>4x4</td>\n",
       "      <td>4</td>\n",
       "      <td>Left wheel</td>\n",
       "      <td>Silver</td>\n",
       "      <td>More than 10</td>\n",
       "    </tr>\n",
       "    <tr>\n",
       "      <th>1</th>\n",
       "      <td>16621</td>\n",
       "      <td>1018.0</td>\n",
       "      <td>CHEVROLET</td>\n",
       "      <td>2011</td>\n",
       "      <td>Jeep</td>\n",
       "      <td>No</td>\n",
       "      <td>Petrol</td>\n",
       "      <td>3.0</td>\n",
       "      <td>Natural</td>\n",
       "      <td>192000.0</td>\n",
       "      <td>6</td>\n",
       "      <td>Tiptronic</td>\n",
       "      <td>4x4</td>\n",
       "      <td>4</td>\n",
       "      <td>Left wheel</td>\n",
       "      <td>Black</td>\n",
       "      <td>5-9</td>\n",
       "    </tr>\n",
       "    <tr>\n",
       "      <th>2</th>\n",
       "      <td>8467</td>\n",
       "      <td>0.0</td>\n",
       "      <td>HONDA</td>\n",
       "      <td>2006</td>\n",
       "      <td>Hatchback</td>\n",
       "      <td>No</td>\n",
       "      <td>Petrol</td>\n",
       "      <td>1.3</td>\n",
       "      <td>Natural</td>\n",
       "      <td>200000.0</td>\n",
       "      <td>4</td>\n",
       "      <td>Variator</td>\n",
       "      <td>Front</td>\n",
       "      <td>4</td>\n",
       "      <td>Right-hand drive</td>\n",
       "      <td>Black</td>\n",
       "      <td>0-4</td>\n",
       "    </tr>\n",
       "    <tr>\n",
       "      <th>3</th>\n",
       "      <td>3607</td>\n",
       "      <td>862.0</td>\n",
       "      <td>FORD</td>\n",
       "      <td>2011</td>\n",
       "      <td>Jeep</td>\n",
       "      <td>Yes</td>\n",
       "      <td>Hybrid</td>\n",
       "      <td>2.5</td>\n",
       "      <td>Natural</td>\n",
       "      <td>168966.0</td>\n",
       "      <td>4</td>\n",
       "      <td>Automatic</td>\n",
       "      <td>4x4</td>\n",
       "      <td>4</td>\n",
       "      <td>Left wheel</td>\n",
       "      <td>White</td>\n",
       "      <td>0-4</td>\n",
       "    </tr>\n",
       "    <tr>\n",
       "      <th>4</th>\n",
       "      <td>11726</td>\n",
       "      <td>446.0</td>\n",
       "      <td>HONDA</td>\n",
       "      <td>2014</td>\n",
       "      <td>Hatchback</td>\n",
       "      <td>Yes</td>\n",
       "      <td>Petrol</td>\n",
       "      <td>1.3</td>\n",
       "      <td>Natural</td>\n",
       "      <td>91901.0</td>\n",
       "      <td>4</td>\n",
       "      <td>Automatic</td>\n",
       "      <td>Front</td>\n",
       "      <td>4</td>\n",
       "      <td>Left wheel</td>\n",
       "      <td>Silver</td>\n",
       "      <td>0-4</td>\n",
       "    </tr>\n",
       "  </tbody>\n",
       "</table>\n",
       "</div>"
      ],
      "text/plain": [
       "   Price    Levy Manufacturer  Prod. year   Category Leather interior  \\\n",
       "0  13328  1399.0        LEXUS        2010       Jeep              Yes   \n",
       "1  16621  1018.0    CHEVROLET        2011       Jeep               No   \n",
       "2   8467     0.0        HONDA        2006  Hatchback               No   \n",
       "3   3607   862.0         FORD        2011       Jeep              Yes   \n",
       "4  11726   446.0        HONDA        2014  Hatchback              Yes   \n",
       "\n",
       "  Fuel type  Engine volume Aspiration   Mileage  Cylinders Gear box type  \\\n",
       "0    Hybrid            3.5    Natural  186005.0          6     Automatic   \n",
       "1    Petrol            3.0    Natural  192000.0          6     Tiptronic   \n",
       "2    Petrol            1.3    Natural  200000.0          4      Variator   \n",
       "3    Hybrid            2.5    Natural  168966.0          4     Automatic   \n",
       "4    Petrol            1.3    Natural   91901.0          4     Automatic   \n",
       "\n",
       "  Drive wheels Doors             Wheel   Color       Airbags  \n",
       "0          4x4     4        Left wheel  Silver  More than 10  \n",
       "1          4x4     4        Left wheel   Black           5-9  \n",
       "2        Front     4  Right-hand drive   Black           0-4  \n",
       "3          4x4     4        Left wheel   White           0-4  \n",
       "4        Front     4        Left wheel  Silver           0-4  "
      ]
     },
     "execution_count": 583,
     "metadata": {},
     "output_type": "execute_result"
    }
   ],
   "source": [
    "cars.head()"
   ]
  },
  {
   "cell_type": "markdown",
   "metadata": {},
   "source": [
    "So far, we have just done the data cleaning. We'll then proceed to see how categorical and numerical variables behave and the correlation they have with the Price."
   ]
  },
  {
   "cell_type": "markdown",
   "metadata": {
    "scrolled": false
   },
   "source": [
    "## Data Analysis"
   ]
  },
  {
   "cell_type": "markdown",
   "metadata": {},
   "source": [
    "For that, we'll define a plotting function that will comprare pairwise."
   ]
  },
  {
   "cell_type": "code",
   "execution_count": 584,
   "metadata": {},
   "outputs": [],
   "source": [
    "import scipy\n",
    "from scipy.stats.stats import pearsonr\n",
    "\n",
    "def pairplot(x_axis,y_axis) :\n",
    "    sns.pairplot(cars,x_vars=x_axis,y_vars=y_axis,height=4,aspect=1,diag_kind=None)\n",
    "    plt.show()"
   ]
  },
  {
   "cell_type": "code",
   "execution_count": 585,
   "metadata": {},
   "outputs": [
    {
     "data": {
      "text/plain": [
       "Index(['Price', 'Levy', 'Manufacturer', 'Prod. year', 'Category',\n",
       "       'Leather interior', 'Fuel type', 'Engine volume', 'Aspiration',\n",
       "       'Mileage', 'Cylinders', 'Gear box type', 'Drive wheels', 'Doors',\n",
       "       'Wheel', 'Color', 'Airbags'],\n",
       "      dtype='object')"
      ]
     },
     "execution_count": 585,
     "metadata": {},
     "output_type": "execute_result"
    }
   ],
   "source": [
    "cars.columns"
   ]
  },
  {
   "cell_type": "markdown",
   "metadata": {},
   "source": [
    "We will divide the columns into Numerical and Categorical."
   ]
  },
  {
   "cell_type": "code",
   "execution_count": 586,
   "metadata": {},
   "outputs": [],
   "source": [
    "Numerical = ['Levy','Prod. year','Engine volume','Mileage']\n",
    "Categorical = ['Manufacturer','Category','Leather interior','Fuel type','Aspiration',\n",
    "                'Gear box type','Drive wheels','Doors','Wheel','Color','Airbags']\n",
    "target = 'Price'"
   ]
  },
  {
   "cell_type": "code",
   "execution_count": 587,
   "metadata": {},
   "outputs": [
    {
     "data": {
      "image/png": "[encoded data removed]",
      "text/plain": [
       "<Figure size 1152x288 with 4 Axes>"
      ]
     },
     "metadata": {
      "needs_background": "light"
     },
     "output_type": "display_data"
    }
   ],
   "source": [
    "pairplot(Numerical,target)"
   ]
  },
  {
   "cell_type": "code",
   "execution_count": 588,
   "metadata": {
    "scrolled": true
   },
   "outputs": [
    {
     "data": {
      "image/png": "[encoded data removed]",
      "text/plain": [
       "<Figure size 3168x288 with 11 Axes>"
      ]
     },
     "metadata": {
      "needs_background": "light"
     },
     "output_type": "display_data"
    }
   ],
   "source": [
    "pairplot(Categorical,target)"
   ]
  },
  {
   "cell_type": "markdown",
   "metadata": {},
   "source": [
    "We can also make use of Box plots to visualize the distribution of Categorical values."
   ]
  },
  {
   "cell_type": "code",
   "execution_count": 589,
   "metadata": {},
   "outputs": [
    {
     "data": {
      "image/png": "[encoded data removed]",
      "text/plain": [
       "<Figure size 1440x864 with 2 Axes>"
      ]
     },
     "metadata": {
      "needs_background": "light"
     },
     "output_type": "display_data"
    }
   ],
   "source": [
    "plt.figure(figsize=(20, 12))\n",
    "\n",
    "plt.subplot(2,3,1)\n",
    "sns.boxplot(x = 'Fuel type', y = 'Price', data = cars,)\n",
    "\n",
    "plt.xticks(rotation=45)\n",
    "\n",
    "plt.subplot(2,3,2)\n",
    "plt.title('Fuel Type Histogram')\n",
    "order = cars['Fuel type'].value_counts(ascending=False).index\n",
    "sns.countplot(x='Fuel type', data=cars, order=order,)\n",
    "\n",
    "plt.xticks(rotation=35)\n",
    "\n",
    "plt.show()"
   ]
  },
  {
   "cell_type": "code",
   "execution_count": 590,
   "metadata": {},
   "outputs": [
    {
     "data": {
      "image/png": "[encoded data removed]",
      "text/plain": [
       "<Figure size 1440x864 with 2 Axes>"
      ]
     },
     "metadata": {
      "needs_background": "light"
     },
     "output_type": "display_data"
    }
   ],
   "source": [
    "plt.figure(figsize=(20, 12))\n",
    "\n",
    "plt.subplot(2,3,1)\n",
    "sns.boxplot(x = 'Aspiration', y = 'Price', data = cars)\n",
    "\n",
    "plt.subplot(2,3,2)\n",
    "plt.title('Aspiration Histogram')\n",
    "order = cars['Aspiration'].value_counts(ascending=False).index\n",
    "sns.countplot(x='Aspiration', data=cars, order=order)\n",
    "\n",
    "plt.show()"
   ]
  },
  {
   "cell_type": "code",
   "execution_count": 591,
   "metadata": {},
   "outputs": [
    {
     "data": {
      "image/png": "[encoded data removed]",
      "text/plain": [
       "<Figure size 1440x720 with 2 Axes>"
      ]
     },
     "metadata": {
      "needs_background": "light"
     },
     "output_type": "display_data"
    }
   ],
   "source": [
    "plt.subplot(2,3,1)\n",
    "sns.boxplot(x = 'Drive wheels', y = 'Price', data = cars)\n",
    "\n",
    "plt.subplot(2,3,2)\n",
    "plt.title('Drive Wheels Histogram')\n",
    "order = cars['Drive wheels'].value_counts(ascending=False).index\n",
    "sns.countplot(x='Drive wheels', data=cars, order=order)\n",
    "\n",
    "plt.show()"
   ]
  },
  {
   "cell_type": "code",
   "execution_count": 592,
   "metadata": {},
   "outputs": [
    {
     "data": {
      "image/png": "[encoded data removed]",
      "text/plain": [
       "<Figure size 1440x720 with 2 Axes>"
      ]
     },
     "metadata": {
      "needs_background": "light"
     },
     "output_type": "display_data"
    }
   ],
   "source": [
    "plt.subplot(2,3,1)\n",
    "sns.boxplot(x = 'Leather interior', y = 'Price', data = cars)\n",
    "\n",
    "plt.subplot(2,3,2)\n",
    "plt.title('Leather interior Histogram')\n",
    "order = cars['Leather interior'].value_counts(ascending=False).index\n",
    "sns.countplot(x='Leather interior', data=cars, order=order)\n",
    "\n",
    "plt.show()"
   ]
  },
  {
   "cell_type": "markdown",
   "metadata": {},
   "source": [
    "It does not seem to be a lot of correlation with the Categorical data, but we do find some correlation between the Price and the Prod. year or the Mileage.\n",
    "\n",
    "The following heatmap helps us visualize better the correlation, where the darker the square ir, the more correlation between variables exist."
   ]
  },
  {
   "cell_type": "code",
   "execution_count": 593,
   "metadata": {},
   "outputs": [
    {
     "data": {
      "image/png": "[encoded data removed]",
      "text/plain": [
       "<Figure size 1440x720 with 2 Axes>"
      ]
     },
     "metadata": {
      "needs_background": "light"
     },
     "output_type": "display_data"
    }
   ],
   "source": [
    "sns.heatmap(cars.corr(),cmap=\"OrRd\",annot=True)\n",
    "plt.show()"
   ]
  },
  {
   "cell_type": "code",
   "execution_count": 594,
   "metadata": {},
   "outputs": [],
   "source": [
    "Numerical = ['Levy','Prod. year','Engine volume','Mileage']\n",
    "Categorical = ['Manufacturer','Category','Leather interior','Fuel type','Aspiration',\n",
    "                'Gear box type','Drive wheels','Doors','Wheel','Color','Airbags']\n",
    "target = 'Price'"
   ]
  },
  {
   "cell_type": "markdown",
   "metadata": {},
   "source": [
    "## Data Prediction"
   ]
  },
  {
   "cell_type": "markdown",
   "metadata": {},
   "source": [
    "After finishing up the data cleaning, we can start using it to generate predective machine models which will help Empower Automotive to establish a price to the cars they are selling based on the prices of other cars which certain and specific features."
   ]
  },
  {
   "cell_type": "markdown",
   "metadata": {},
   "source": [
    "### Linear Regression with Standard Scaler"
   ]
  },
  {
   "cell_type": "code",
   "execution_count": 595,
   "metadata": {},
   "outputs": [],
   "source": [
    "from sklearn.preprocessing import OneHotEncoder,FunctionTransformer,PolynomialFeatures,StandardScaler\n",
    "from sklearn.model_selection import train_test_split, GridSearchCV\n",
    "\n",
    "from sklearn.linear_model import LinearRegression\n",
    "from sklearn.ensemble import RandomForestClassifier\n",
    "from sklearn.pipeline import Pipeline"
   ]
  },
  {
   "cell_type": "markdown",
   "metadata": {},
   "source": [
    "We split the data into train and test sets in order to train our models."
   ]
  },
  {
   "cell_type": "code",
   "execution_count": 596,
   "metadata": {},
   "outputs": [],
   "source": [
    "# Create X and y\n",
    "y = cars[['Price']]\n",
    "X = cars[Numerical+Categorical]\n",
    "\n",
    "# Split data into training, validation and test sets\n",
    "X_train, X_test, y_train, y_test = train_test_split(X, y, test_size=0.2, random_state=42)\n",
    "#X_train, X_val, y_train, y_val = train_test_split(X_train, y_train, test_size=0.2, random_state=42)"
   ]
  },
  {
   "cell_type": "markdown",
   "metadata": {},
   "source": [
    "We'll transform numerical data with three functions: StandardScaler and PolynomialFeatures.\n",
    "\n",
    "In the other hand, for the cathegorical features, we use the well-known OneHotEncoder function."
   ]
  },
  {
   "cell_type": "code",
   "execution_count": 597,
   "metadata": {},
   "outputs": [],
   "source": [
    "# Instantiate OneHotEncoder\n",
    "ohe = OneHotEncoder(drop='first',sparse=False)\n",
    "\n",
    "# Fit OneHotEncoder transformer\n",
    "ohe.fit(X_train[Categorical])\n",
    "\n",
    "# Transform cathegorical variables and saving in a DataFrame\n",
    "ohe_train_data = pd.DataFrame(ohe.transform(X_train[Categorical]), index=X_train.index)\n",
    "ohe_test_data = pd.DataFrame(ohe.transform(X_test[Categorical]), index=X_test.index)"
   ]
  },
  {
   "cell_type": "markdown",
   "metadata": {},
   "source": [
    " "
   ]
  },
  {
   "cell_type": "code",
   "execution_count": 598,
   "metadata": {},
   "outputs": [
    {
     "data": {
      "text/html": [
       "<div>\n",
       "<style scoped>\n",
       "    .dataframe tbody tr th:only-of-type {\n",
       "        vertical-align: middle;\n",
       "    }\n",
       "\n",
       "    .dataframe tbody tr th {\n",
       "        vertical-align: top;\n",
       "    }\n",
       "\n",
       "    .dataframe thead th {\n",
       "        text-align: right;\n",
       "    }\n",
       "</style>\n",
       "<table border=\"1\" class=\"dataframe\">\n",
       "  <thead>\n",
       "    <tr style=\"text-align: right;\">\n",
       "      <th></th>\n",
       "      <th>0</th>\n",
       "      <th>1</th>\n",
       "      <th>2</th>\n",
       "      <th>3</th>\n",
       "      <th>4</th>\n",
       "      <th>5</th>\n",
       "      <th>6</th>\n",
       "      <th>7</th>\n",
       "      <th>8</th>\n",
       "      <th>9</th>\n",
       "      <th>10</th>\n",
       "      <th>11</th>\n",
       "      <th>12</th>\n",
       "      <th>13</th>\n",
       "      <th>14</th>\n",
       "      <th>15</th>\n",
       "      <th>16</th>\n",
       "      <th>17</th>\n",
       "      <th>18</th>\n",
       "      <th>19</th>\n",
       "      <th>20</th>\n",
       "      <th>21</th>\n",
       "      <th>22</th>\n",
       "      <th>23</th>\n",
       "      <th>24</th>\n",
       "      <th>25</th>\n",
       "      <th>26</th>\n",
       "      <th>27</th>\n",
       "      <th>28</th>\n",
       "      <th>29</th>\n",
       "      <th>30</th>\n",
       "      <th>31</th>\n",
       "      <th>32</th>\n",
       "      <th>33</th>\n",
       "      <th>34</th>\n",
       "      <th>35</th>\n",
       "      <th>36</th>\n",
       "      <th>37</th>\n",
       "      <th>38</th>\n",
       "      <th>39</th>\n",
       "      <th>40</th>\n",
       "      <th>41</th>\n",
       "      <th>42</th>\n",
       "      <th>43</th>\n",
       "      <th>44</th>\n",
       "      <th>45</th>\n",
       "      <th>46</th>\n",
       "      <th>47</th>\n",
       "      <th>48</th>\n",
       "      <th>49</th>\n",
       "      <th>50</th>\n",
       "      <th>51</th>\n",
       "      <th>52</th>\n",
       "      <th>53</th>\n",
       "      <th>54</th>\n",
       "      <th>55</th>\n",
       "      <th>56</th>\n",
       "      <th>57</th>\n",
       "      <th>58</th>\n",
       "      <th>59</th>\n",
       "      <th>60</th>\n",
       "      <th>61</th>\n",
       "      <th>62</th>\n",
       "      <th>63</th>\n",
       "    </tr>\n",
       "  </thead>\n",
       "  <tbody>\n",
       "    <tr>\n",
       "      <th>7722</th>\n",
       "      <td>0.0</td>\n",
       "      <td>0.0</td>\n",
       "      <td>0.0</td>\n",
       "      <td>0.0</td>\n",
       "      <td>0.0</td>\n",
       "      <td>0.0</td>\n",
       "      <td>0.0</td>\n",
       "      <td>1.0</td>\n",
       "      <td>0.0</td>\n",
       "      <td>0.0</td>\n",
       "      <td>0.0</td>\n",
       "      <td>0.0</td>\n",
       "      <td>0.0</td>\n",
       "      <td>0.0</td>\n",
       "      <td>0.0</td>\n",
       "      <td>0.0</td>\n",
       "      <td>0.0</td>\n",
       "      <td>0.0</td>\n",
       "      <td>0.0</td>\n",
       "      <td>0.0</td>\n",
       "      <td>0.0</td>\n",
       "      <td>0.0</td>\n",
       "      <td>0.0</td>\n",
       "      <td>0.0</td>\n",
       "      <td>0.0</td>\n",
       "      <td>0.0</td>\n",
       "      <td>0.0</td>\n",
       "      <td>0.0</td>\n",
       "      <td>0.0</td>\n",
       "      <td>0.0</td>\n",
       "      <td>0.0</td>\n",
       "      <td>1.0</td>\n",
       "      <td>0.0</td>\n",
       "      <td>1.0</td>\n",
       "      <td>0.0</td>\n",
       "      <td>1.0</td>\n",
       "      <td>0.0</td>\n",
       "      <td>0.0</td>\n",
       "      <td>0.0</td>\n",
       "      <td>0.0</td>\n",
       "      <td>0.0</td>\n",
       "      <td>0.0</td>\n",
       "      <td>0.0</td>\n",
       "      <td>1.0</td>\n",
       "      <td>0.0</td>\n",
       "      <td>1.0</td>\n",
       "      <td>0.0</td>\n",
       "      <td>0.0</td>\n",
       "      <td>0.0</td>\n",
       "      <td>0.0</td>\n",
       "      <td>0.0</td>\n",
       "      <td>0.0</td>\n",
       "      <td>0.0</td>\n",
       "      <td>0.0</td>\n",
       "      <td>0.0</td>\n",
       "      <td>0.0</td>\n",
       "      <td>0.0</td>\n",
       "      <td>0.0</td>\n",
       "      <td>1.0</td>\n",
       "      <td>0.0</td>\n",
       "      <td>0.0</td>\n",
       "      <td>0.0</td>\n",
       "      <td>0.0</td>\n",
       "      <td>0.0</td>\n",
       "    </tr>\n",
       "    <tr>\n",
       "      <th>2434</th>\n",
       "      <td>0.0</td>\n",
       "      <td>0.0</td>\n",
       "      <td>0.0</td>\n",
       "      <td>0.0</td>\n",
       "      <td>0.0</td>\n",
       "      <td>0.0</td>\n",
       "      <td>0.0</td>\n",
       "      <td>0.0</td>\n",
       "      <td>0.0</td>\n",
       "      <td>0.0</td>\n",
       "      <td>0.0</td>\n",
       "      <td>0.0</td>\n",
       "      <td>0.0</td>\n",
       "      <td>0.0</td>\n",
       "      <td>0.0</td>\n",
       "      <td>0.0</td>\n",
       "      <td>0.0</td>\n",
       "      <td>0.0</td>\n",
       "      <td>0.0</td>\n",
       "      <td>1.0</td>\n",
       "      <td>0.0</td>\n",
       "      <td>0.0</td>\n",
       "      <td>0.0</td>\n",
       "      <td>0.0</td>\n",
       "      <td>0.0</td>\n",
       "      <td>0.0</td>\n",
       "      <td>1.0</td>\n",
       "      <td>0.0</td>\n",
       "      <td>0.0</td>\n",
       "      <td>0.0</td>\n",
       "      <td>0.0</td>\n",
       "      <td>0.0</td>\n",
       "      <td>0.0</td>\n",
       "      <td>1.0</td>\n",
       "      <td>1.0</td>\n",
       "      <td>0.0</td>\n",
       "      <td>0.0</td>\n",
       "      <td>0.0</td>\n",
       "      <td>0.0</td>\n",
       "      <td>0.0</td>\n",
       "      <td>0.0</td>\n",
       "      <td>0.0</td>\n",
       "      <td>0.0</td>\n",
       "      <td>1.0</td>\n",
       "      <td>0.0</td>\n",
       "      <td>1.0</td>\n",
       "      <td>0.0</td>\n",
       "      <td>0.0</td>\n",
       "      <td>1.0</td>\n",
       "      <td>0.0</td>\n",
       "      <td>0.0</td>\n",
       "      <td>0.0</td>\n",
       "      <td>0.0</td>\n",
       "      <td>0.0</td>\n",
       "      <td>0.0</td>\n",
       "      <td>0.0</td>\n",
       "      <td>0.0</td>\n",
       "      <td>0.0</td>\n",
       "      <td>0.0</td>\n",
       "      <td>0.0</td>\n",
       "      <td>0.0</td>\n",
       "      <td>0.0</td>\n",
       "      <td>0.0</td>\n",
       "      <td>0.0</td>\n",
       "    </tr>\n",
       "    <tr>\n",
       "      <th>2675</th>\n",
       "      <td>1.0</td>\n",
       "      <td>0.0</td>\n",
       "      <td>0.0</td>\n",
       "      <td>0.0</td>\n",
       "      <td>0.0</td>\n",
       "      <td>0.0</td>\n",
       "      <td>0.0</td>\n",
       "      <td>0.0</td>\n",
       "      <td>0.0</td>\n",
       "      <td>0.0</td>\n",
       "      <td>0.0</td>\n",
       "      <td>0.0</td>\n",
       "      <td>0.0</td>\n",
       "      <td>0.0</td>\n",
       "      <td>0.0</td>\n",
       "      <td>0.0</td>\n",
       "      <td>0.0</td>\n",
       "      <td>0.0</td>\n",
       "      <td>0.0</td>\n",
       "      <td>0.0</td>\n",
       "      <td>0.0</td>\n",
       "      <td>0.0</td>\n",
       "      <td>0.0</td>\n",
       "      <td>0.0</td>\n",
       "      <td>0.0</td>\n",
       "      <td>0.0</td>\n",
       "      <td>0.0</td>\n",
       "      <td>0.0</td>\n",
       "      <td>0.0</td>\n",
       "      <td>0.0</td>\n",
       "      <td>0.0</td>\n",
       "      <td>0.0</td>\n",
       "      <td>0.0</td>\n",
       "      <td>1.0</td>\n",
       "      <td>0.0</td>\n",
       "      <td>0.0</td>\n",
       "      <td>0.0</td>\n",
       "      <td>1.0</td>\n",
       "      <td>0.0</td>\n",
       "      <td>0.0</td>\n",
       "      <td>0.0</td>\n",
       "      <td>0.0</td>\n",
       "      <td>0.0</td>\n",
       "      <td>0.0</td>\n",
       "      <td>1.0</td>\n",
       "      <td>0.0</td>\n",
       "      <td>0.0</td>\n",
       "      <td>0.0</td>\n",
       "      <td>1.0</td>\n",
       "      <td>0.0</td>\n",
       "      <td>0.0</td>\n",
       "      <td>0.0</td>\n",
       "      <td>0.0</td>\n",
       "      <td>0.0</td>\n",
       "      <td>0.0</td>\n",
       "      <td>0.0</td>\n",
       "      <td>0.0</td>\n",
       "      <td>0.0</td>\n",
       "      <td>0.0</td>\n",
       "      <td>0.0</td>\n",
       "      <td>0.0</td>\n",
       "      <td>0.0</td>\n",
       "      <td>1.0</td>\n",
       "      <td>0.0</td>\n",
       "    </tr>\n",
       "    <tr>\n",
       "      <th>8748</th>\n",
       "      <td>0.0</td>\n",
       "      <td>0.0</td>\n",
       "      <td>0.0</td>\n",
       "      <td>0.0</td>\n",
       "      <td>0.0</td>\n",
       "      <td>0.0</td>\n",
       "      <td>0.0</td>\n",
       "      <td>0.0</td>\n",
       "      <td>0.0</td>\n",
       "      <td>0.0</td>\n",
       "      <td>0.0</td>\n",
       "      <td>0.0</td>\n",
       "      <td>0.0</td>\n",
       "      <td>0.0</td>\n",
       "      <td>0.0</td>\n",
       "      <td>0.0</td>\n",
       "      <td>0.0</td>\n",
       "      <td>0.0</td>\n",
       "      <td>0.0</td>\n",
       "      <td>0.0</td>\n",
       "      <td>0.0</td>\n",
       "      <td>0.0</td>\n",
       "      <td>1.0</td>\n",
       "      <td>0.0</td>\n",
       "      <td>0.0</td>\n",
       "      <td>1.0</td>\n",
       "      <td>0.0</td>\n",
       "      <td>0.0</td>\n",
       "      <td>0.0</td>\n",
       "      <td>0.0</td>\n",
       "      <td>0.0</td>\n",
       "      <td>0.0</td>\n",
       "      <td>0.0</td>\n",
       "      <td>1.0</td>\n",
       "      <td>0.0</td>\n",
       "      <td>0.0</td>\n",
       "      <td>0.0</td>\n",
       "      <td>1.0</td>\n",
       "      <td>0.0</td>\n",
       "      <td>0.0</td>\n",
       "      <td>0.0</td>\n",
       "      <td>0.0</td>\n",
       "      <td>0.0</td>\n",
       "      <td>1.0</td>\n",
       "      <td>0.0</td>\n",
       "      <td>1.0</td>\n",
       "      <td>0.0</td>\n",
       "      <td>0.0</td>\n",
       "      <td>0.0</td>\n",
       "      <td>0.0</td>\n",
       "      <td>0.0</td>\n",
       "      <td>0.0</td>\n",
       "      <td>0.0</td>\n",
       "      <td>0.0</td>\n",
       "      <td>0.0</td>\n",
       "      <td>0.0</td>\n",
       "      <td>0.0</td>\n",
       "      <td>0.0</td>\n",
       "      <td>1.0</td>\n",
       "      <td>0.0</td>\n",
       "      <td>0.0</td>\n",
       "      <td>0.0</td>\n",
       "      <td>0.0</td>\n",
       "      <td>0.0</td>\n",
       "    </tr>\n",
       "    <tr>\n",
       "      <th>11013</th>\n",
       "      <td>0.0</td>\n",
       "      <td>0.0</td>\n",
       "      <td>0.0</td>\n",
       "      <td>0.0</td>\n",
       "      <td>0.0</td>\n",
       "      <td>0.0</td>\n",
       "      <td>0.0</td>\n",
       "      <td>0.0</td>\n",
       "      <td>0.0</td>\n",
       "      <td>0.0</td>\n",
       "      <td>0.0</td>\n",
       "      <td>0.0</td>\n",
       "      <td>0.0</td>\n",
       "      <td>0.0</td>\n",
       "      <td>0.0</td>\n",
       "      <td>0.0</td>\n",
       "      <td>0.0</td>\n",
       "      <td>0.0</td>\n",
       "      <td>0.0</td>\n",
       "      <td>0.0</td>\n",
       "      <td>0.0</td>\n",
       "      <td>0.0</td>\n",
       "      <td>1.0</td>\n",
       "      <td>0.0</td>\n",
       "      <td>0.0</td>\n",
       "      <td>0.0</td>\n",
       "      <td>0.0</td>\n",
       "      <td>0.0</td>\n",
       "      <td>0.0</td>\n",
       "      <td>0.0</td>\n",
       "      <td>0.0</td>\n",
       "      <td>1.0</td>\n",
       "      <td>0.0</td>\n",
       "      <td>0.0</td>\n",
       "      <td>0.0</td>\n",
       "      <td>0.0</td>\n",
       "      <td>1.0</td>\n",
       "      <td>0.0</td>\n",
       "      <td>0.0</td>\n",
       "      <td>0.0</td>\n",
       "      <td>0.0</td>\n",
       "      <td>0.0</td>\n",
       "      <td>0.0</td>\n",
       "      <td>1.0</td>\n",
       "      <td>0.0</td>\n",
       "      <td>1.0</td>\n",
       "      <td>0.0</td>\n",
       "      <td>0.0</td>\n",
       "      <td>0.0</td>\n",
       "      <td>0.0</td>\n",
       "      <td>0.0</td>\n",
       "      <td>1.0</td>\n",
       "      <td>0.0</td>\n",
       "      <td>0.0</td>\n",
       "      <td>0.0</td>\n",
       "      <td>0.0</td>\n",
       "      <td>0.0</td>\n",
       "      <td>0.0</td>\n",
       "      <td>0.0</td>\n",
       "      <td>0.0</td>\n",
       "      <td>0.0</td>\n",
       "      <td>0.0</td>\n",
       "      <td>1.0</td>\n",
       "      <td>0.0</td>\n",
       "    </tr>\n",
       "  </tbody>\n",
       "</table>\n",
       "</div>"
      ],
      "text/plain": [
       "        0    1    2    3    4    5    6    7    8    9    10   11   12   13  \\\n",
       "7722   0.0  0.0  0.0  0.0  0.0  0.0  0.0  1.0  0.0  0.0  0.0  0.0  0.0  0.0   \n",
       "2434   0.0  0.0  0.0  0.0  0.0  0.0  0.0  0.0  0.0  0.0  0.0  0.0  0.0  0.0   \n",
       "2675   1.0  0.0  0.0  0.0  0.0  0.0  0.0  0.0  0.0  0.0  0.0  0.0  0.0  0.0   \n",
       "8748   0.0  0.0  0.0  0.0  0.0  0.0  0.0  0.0  0.0  0.0  0.0  0.0  0.0  0.0   \n",
       "11013  0.0  0.0  0.0  0.0  0.0  0.0  0.0  0.0  0.0  0.0  0.0  0.0  0.0  0.0   \n",
       "\n",
       "        14   15   16   17   18   19   20   21   22   23   24   25   26   27  \\\n",
       "7722   0.0  0.0  0.0  0.0  0.0  0.0  0.0  0.0  0.0  0.0  0.0  0.0  0.0  0.0   \n",
       "2434   0.0  0.0  0.0  0.0  0.0  1.0  0.0  0.0  0.0  0.0  0.0  0.0  1.0  0.0   \n",
       "2675   0.0  0.0  0.0  0.0  0.0  0.0  0.0  0.0  0.0  0.0  0.0  0.0  0.0  0.0   \n",
       "8748   0.0  0.0  0.0  0.0  0.0  0.0  0.0  0.0  1.0  0.0  0.0  1.0  0.0  0.0   \n",
       "11013  0.0  0.0  0.0  0.0  0.0  0.0  0.0  0.0  1.0  0.0  0.0  0.0  0.0  0.0   \n",
       "\n",
       "        28   29   30   31   32   33   34   35   36   37   38   39   40   41  \\\n",
       "7722   0.0  0.0  0.0  1.0  0.0  1.0  0.0  1.0  0.0  0.0  0.0  0.0  0.0  0.0   \n",
       "2434   0.0  0.0  0.0  0.0  0.0  1.0  1.0  0.0  0.0  0.0  0.0  0.0  0.0  0.0   \n",
       "2675   0.0  0.0  0.0  0.0  0.0  1.0  0.0  0.0  0.0  1.0  0.0  0.0  0.0  0.0   \n",
       "8748   0.0  0.0  0.0  0.0  0.0  1.0  0.0  0.0  0.0  1.0  0.0  0.0  0.0  0.0   \n",
       "11013  0.0  0.0  0.0  1.0  0.0  0.0  0.0  0.0  1.0  0.0  0.0  0.0  0.0  0.0   \n",
       "\n",
       "        42   43   44   45   46   47   48   49   50   51   52   53   54   55  \\\n",
       "7722   0.0  1.0  0.0  1.0  0.0  0.0  0.0  0.0  0.0  0.0  0.0  0.0  0.0  0.0   \n",
       "2434   0.0  1.0  0.0  1.0  0.0  0.0  1.0  0.0  0.0  0.0  0.0  0.0  0.0  0.0   \n",
       "2675   0.0  0.0  1.0  0.0  0.0  0.0  1.0  0.0  0.0  0.0  0.0  0.0  0.0  0.0   \n",
       "8748   0.0  1.0  0.0  1.0  0.0  0.0  0.0  0.0  0.0  0.0  0.0  0.0  0.0  0.0   \n",
       "11013  0.0  1.0  0.0  1.0  0.0  0.0  0.0  0.0  0.0  1.0  0.0  0.0  0.0  0.0   \n",
       "\n",
       "        56   57   58   59   60   61   62   63  \n",
       "7722   0.0  0.0  1.0  0.0  0.0  0.0  0.0  0.0  \n",
       "2434   0.0  0.0  0.0  0.0  0.0  0.0  0.0  0.0  \n",
       "2675   0.0  0.0  0.0  0.0  0.0  0.0  1.0  0.0  \n",
       "8748   0.0  0.0  1.0  0.0  0.0  0.0  0.0  0.0  \n",
       "11013  0.0  0.0  0.0  0.0  0.0  0.0  1.0  0.0  "
      ]
     },
     "execution_count": 598,
     "metadata": {},
     "output_type": "execute_result"
    }
   ],
   "source": [
    "ohe_train_data.head()"
   ]
  },
  {
   "cell_type": "markdown",
   "metadata": {},
   "source": [
    "We'll go first with the StandardScaler."
   ]
  },
  {
   "cell_type": "code",
   "execution_count": 599,
   "metadata": {},
   "outputs": [],
   "source": [
    "# Instantiate transformer\n",
    "scaler = StandardScaler()\n",
    "\n",
    "# Fit transformer\n",
    "scaler.fit(X_train[Numerical])\n",
    "\n",
    "# Transform training data with StandardScaler\n",
    "Sc_train_data = pd.DataFrame(scaler.transform(X_train[Numerical]),\n",
    "                             index=X_train.index,\n",
    "                             columns=X_train[Numerical].columns)\n",
    "\n",
    "# Transform test data with StandardScaler\n",
    "Sc_test_data = pd.DataFrame(scaler.transform(X_test[Numerical]),\n",
    "                            index=X_test.index,\n",
    "                            columns=X_test[Numerical].columns)\n",
    "\n",
    "\n",
    "#Joining scaled numerical and onehotencoded data for simple linear regression \n",
    "X_train_lin = pd.concat([\n",
    "    Sc_train_data,\n",
    "    ohe_train_data\n",
    "], axis=1)\n",
    "\n",
    "X_test_lin = pd.concat([\n",
    "    Sc_test_data,\n",
    "    ohe_test_data\n",
    "], axis=1)"
   ]
  },
  {
   "cell_type": "code",
   "execution_count": 600,
   "metadata": {},
   "outputs": [],
   "source": [
    "linreg = LinearRegression()"
   ]
  },
  {
   "cell_type": "code",
   "execution_count": 601,
   "metadata": {},
   "outputs": [
    {
     "data": {
      "text/plain": [
       "LinearRegression()"
      ]
     },
     "execution_count": 601,
     "metadata": {},
     "output_type": "execute_result"
    }
   ],
   "source": [
    "linreg.fit(X_train_lin,y_train)"
   ]
  },
  {
   "cell_type": "markdown",
   "metadata": {},
   "source": [
    "With this method we get the following accuracy with our train data."
   ]
  },
  {
   "cell_type": "code",
   "execution_count": 602,
   "metadata": {},
   "outputs": [
    {
     "data": {
      "text/plain": [
       "0.403702569695657"
      ]
     },
     "execution_count": 602,
     "metadata": {},
     "output_type": "execute_result"
    }
   ],
   "source": [
    "linreg.score(X_train_lin,y_train)"
   ]
  },
  {
   "cell_type": "markdown",
   "metadata": {},
   "source": [
    "And for better understanding and testing, now we calculate the MSE and RMSE of the method."
   ]
  },
  {
   "cell_type": "code",
   "execution_count": 603,
   "metadata": {},
   "outputs": [],
   "source": [
    "# Import mean_squared_error from sklearn.metrics\n",
    "from sklearn.metrics import mean_squared_error\n",
    "from sklearn.metrics import r2_score,mean_squared_error"
   ]
  },
  {
   "cell_type": "code",
   "execution_count": 604,
   "metadata": {},
   "outputs": [
    {
     "data": {
      "text/plain": [
       "(14217.153783144173, 0.3955360632583058)"
      ]
     },
     "execution_count": 604,
     "metadata": {},
     "output_type": "execute_result"
    }
   ],
   "source": [
    "# Calculate RMSE and R-Squared on test set\n",
    "mse_lin = mean_squared_error(y_test,linreg.predict(X_test_lin))\n",
    "r2_lin = r2_score(y_test, linreg.predict(X_test_lin))\n",
    "\n",
    "np.sqrt(mse_lin),r2_lin"
   ]
  },
  {
   "cell_type": "markdown",
   "metadata": {},
   "source": [
    "### Linear regression with Polynomial Features"
   ]
  },
  {
   "cell_type": "markdown",
   "metadata": {},
   "source": [
    "The model follows the same process as the previous one, so the sollowing-up should be easy to understand."
   ]
  },
  {
   "cell_type": "code",
   "execution_count": 605,
   "metadata": {},
   "outputs": [],
   "source": [
    "poly = PolynomialFeatures(4, include_bias=False)\n",
    "\n",
    "poly_train = pd.DataFrame(poly.fit_transform(Sc_train_data), \n",
    "                          index=Sc_train_data.index,\n",
    "                          columns=poly.get_feature_names(Sc_train_data.columns))\n",
    "poly_test = pd.DataFrame(poly.transform(Sc_test_data), \n",
    "                         index=Sc_test_data.index,\n",
    "                         columns=poly.get_feature_names(Sc_test_data.columns))"
   ]
  },
  {
   "cell_type": "code",
   "execution_count": 606,
   "metadata": {},
   "outputs": [],
   "source": [
    "#Joining polynomial features and onehotencoded data for linear regression \n",
    "X_train_poly = pd.concat([poly_train, ohe_train_data], axis=1)\n",
    "\n",
    "X_test_poly = pd.concat([poly_test, ohe_test_data], axis=1)"
   ]
  },
  {
   "cell_type": "code",
   "execution_count": 607,
   "metadata": {},
   "outputs": [
    {
     "data": {
      "text/plain": [
       "LinearRegression()"
      ]
     },
     "execution_count": 607,
     "metadata": {},
     "output_type": "execute_result"
    }
   ],
   "source": [
    "lin_poly = LinearRegression()\n",
    "lin_poly.fit(X_train_poly,y_train)"
   ]
  },
  {
   "cell_type": "markdown",
   "metadata": {},
   "source": [
    "For this model we have the following accuracy for both train and test data:"
   ]
  },
  {
   "cell_type": "code",
   "execution_count": 608,
   "metadata": {},
   "outputs": [
    {
     "data": {
      "text/plain": [
       "(0.5257353766098773, 0.4677575961450928)"
      ]
     },
     "execution_count": 608,
     "metadata": {},
     "output_type": "execute_result"
    }
   ],
   "source": [
    "lin_poly.score(X_train_poly,y_train), lin_poly.score(X_test_poly,y_test)"
   ]
  },
  {
   "cell_type": "markdown",
   "metadata": {},
   "source": [
    "And the MSE and RMSE is:"
   ]
  },
  {
   "cell_type": "code",
   "execution_count": 609,
   "metadata": {},
   "outputs": [
    {
     "data": {
      "text/plain": [
       "(13340.810013009212, 0.3955360632583058)"
      ]
     },
     "execution_count": 609,
     "metadata": {},
     "output_type": "execute_result"
    }
   ],
   "source": [
    "# Calculate RMSE and R-Squared on test set\n",
    "mse_poly = mean_squared_error(y_test,lin_poly.predict(X_test_poly))\n",
    "r2_poly = r2_score(y_test, lin_poly.predict(X_test_poly))\n",
    "\n",
    "np.sqrt(mse_poly),r2_lin"
   ]
  },
  {
   "cell_type": "markdown",
   "metadata": {},
   "source": [
    "Which is lower than the one we obtained via the Standars Scaler."
   ]
  },
  {
   "cell_type": "markdown",
   "metadata": {},
   "source": [
    "### Random Forest Test"
   ]
  },
  {
   "cell_type": "markdown",
   "metadata": {},
   "source": [
    "Since we are trying to predict the _Price_ variable, we are using Regression Trees."
   ]
  },
  {
   "cell_type": "code",
   "execution_count": 230,
   "metadata": {},
   "outputs": [],
   "source": [
    "from sklearn.tree import DecisionTreeRegressor\n",
    "from sklearn.ensemble import BaggingRegressor, RandomForestRegressor\n",
    "from sklearn.metrics import accuracy_score, confusion_matrix, classification_report"
   ]
  },
  {
   "cell_type": "code",
   "execution_count": 231,
   "metadata": {},
   "outputs": [],
   "source": [
    "np.random.seed(0)"
   ]
  },
  {
   "cell_type": "code",
   "execution_count": 232,
   "metadata": {},
   "outputs": [
    {
     "name": "stdout",
     "output_type": "stream",
     "text": [
      "   Price\n",
      "0  13328\n",
      "1  16621\n",
      "2   8467\n",
      "3   3607\n",
      "4  11726\n"
     ]
    },
    {
     "data": {
      "text/html": [
       "<div>\n",
       "<style scoped>\n",
       "    .dataframe tbody tr th:only-of-type {\n",
       "        vertical-align: middle;\n",
       "    }\n",
       "\n",
       "    .dataframe tbody tr th {\n",
       "        vertical-align: top;\n",
       "    }\n",
       "\n",
       "    .dataframe thead th {\n",
       "        text-align: right;\n",
       "    }\n",
       "</style>\n",
       "<table border=\"1\" class=\"dataframe\">\n",
       "  <thead>\n",
       "    <tr style=\"text-align: right;\">\n",
       "      <th></th>\n",
       "      <th>Levy</th>\n",
       "      <th>Manufacturer</th>\n",
       "      <th>Prod. year</th>\n",
       "      <th>Category</th>\n",
       "      <th>Leather interior</th>\n",
       "      <th>Fuel type</th>\n",
       "      <th>Engine volume</th>\n",
       "      <th>Aspiration</th>\n",
       "      <th>Mileage</th>\n",
       "      <th>Gear box type</th>\n",
       "      <th>Drive wheels</th>\n",
       "      <th>Doors</th>\n",
       "      <th>Wheel</th>\n",
       "      <th>Color</th>\n",
       "      <th>Airbags</th>\n",
       "    </tr>\n",
       "  </thead>\n",
       "  <tbody>\n",
       "    <tr>\n",
       "      <th>0</th>\n",
       "      <td>1399.0</td>\n",
       "      <td>LEXUS</td>\n",
       "      <td>2010</td>\n",
       "      <td>Jeep</td>\n",
       "      <td>Yes</td>\n",
       "      <td>Hybrid</td>\n",
       "      <td>3.5</td>\n",
       "      <td>Natural</td>\n",
       "      <td>186005.0</td>\n",
       "      <td>Automatic</td>\n",
       "      <td>4x4</td>\n",
       "      <td>4</td>\n",
       "      <td>Left wheel</td>\n",
       "      <td>Silver</td>\n",
       "      <td>More than 10</td>\n",
       "    </tr>\n",
       "    <tr>\n",
       "      <th>1</th>\n",
       "      <td>1018.0</td>\n",
       "      <td>CHEVROLET</td>\n",
       "      <td>2011</td>\n",
       "      <td>Jeep</td>\n",
       "      <td>No</td>\n",
       "      <td>Petrol</td>\n",
       "      <td>3.0</td>\n",
       "      <td>Natural</td>\n",
       "      <td>192000.0</td>\n",
       "      <td>Tiptronic</td>\n",
       "      <td>4x4</td>\n",
       "      <td>4</td>\n",
       "      <td>Left wheel</td>\n",
       "      <td>Black</td>\n",
       "      <td>5-9</td>\n",
       "    </tr>\n",
       "    <tr>\n",
       "      <th>2</th>\n",
       "      <td>0.0</td>\n",
       "      <td>HONDA</td>\n",
       "      <td>2006</td>\n",
       "      <td>Hatchback</td>\n",
       "      <td>No</td>\n",
       "      <td>Petrol</td>\n",
       "      <td>1.3</td>\n",
       "      <td>Natural</td>\n",
       "      <td>200000.0</td>\n",
       "      <td>Variator</td>\n",
       "      <td>Front</td>\n",
       "      <td>4</td>\n",
       "      <td>Right-hand drive</td>\n",
       "      <td>Black</td>\n",
       "      <td>0-4</td>\n",
       "    </tr>\n",
       "    <tr>\n",
       "      <th>3</th>\n",
       "      <td>862.0</td>\n",
       "      <td>FORD</td>\n",
       "      <td>2011</td>\n",
       "      <td>Jeep</td>\n",
       "      <td>Yes</td>\n",
       "      <td>Hybrid</td>\n",
       "      <td>2.5</td>\n",
       "      <td>Natural</td>\n",
       "      <td>168966.0</td>\n",
       "      <td>Automatic</td>\n",
       "      <td>4x4</td>\n",
       "      <td>4</td>\n",
       "      <td>Left wheel</td>\n",
       "      <td>White</td>\n",
       "      <td>0-4</td>\n",
       "    </tr>\n",
       "    <tr>\n",
       "      <th>4</th>\n",
       "      <td>446.0</td>\n",
       "      <td>HONDA</td>\n",
       "      <td>2014</td>\n",
       "      <td>Hatchback</td>\n",
       "      <td>Yes</td>\n",
       "      <td>Petrol</td>\n",
       "      <td>1.3</td>\n",
       "      <td>Natural</td>\n",
       "      <td>91901.0</td>\n",
       "      <td>Automatic</td>\n",
       "      <td>Front</td>\n",
       "      <td>4</td>\n",
       "      <td>Left wheel</td>\n",
       "      <td>Silver</td>\n",
       "      <td>0-4</td>\n",
       "    </tr>\n",
       "  </tbody>\n",
       "</table>\n",
       "</div>"
      ],
      "text/plain": [
       "     Levy Manufacturer  Prod. year   Category Leather interior Fuel type  \\\n",
       "0  1399.0        LEXUS        2010       Jeep              Yes    Hybrid   \n",
       "1  1018.0    CHEVROLET        2011       Jeep               No    Petrol   \n",
       "2     0.0        HONDA        2006  Hatchback               No    Petrol   \n",
       "3   862.0         FORD        2011       Jeep              Yes    Hybrid   \n",
       "4   446.0        HONDA        2014  Hatchback              Yes    Petrol   \n",
       "\n",
       "   Engine volume Aspiration   Mileage Gear box type Drive wheels Doors  \\\n",
       "0            3.5    Natural  186005.0     Automatic          4x4     4   \n",
       "1            3.0    Natural  192000.0     Tiptronic          4x4     4   \n",
       "2            1.3    Natural  200000.0      Variator        Front     4   \n",
       "3            2.5    Natural  168966.0     Automatic          4x4     4   \n",
       "4            1.3    Natural   91901.0     Automatic        Front     4   \n",
       "\n",
       "              Wheel   Color       Airbags  \n",
       "0        Left wheel  Silver  More than 10  \n",
       "1        Left wheel   Black           5-9  \n",
       "2  Right-hand drive   Black           0-4  \n",
       "3        Left wheel   White           0-4  \n",
       "4        Left wheel  Silver           0-4  "
      ]
     },
     "execution_count": 232,
     "metadata": {},
     "output_type": "execute_result"
    }
   ],
   "source": [
    "#Renaming for easier understanding\n",
    "target = y\n",
    "features = X\n",
    "\n",
    "print(target.head())\n",
    "features.head()"
   ]
  },
  {
   "cell_type": "code",
   "execution_count": 233,
   "metadata": {},
   "outputs": [
    {
     "data": {
      "text/html": [
       "<div>\n",
       "<style scoped>\n",
       "    .dataframe tbody tr th:only-of-type {\n",
       "        vertical-align: middle;\n",
       "    }\n",
       "\n",
       "    .dataframe tbody tr th {\n",
       "        vertical-align: top;\n",
       "    }\n",
       "\n",
       "    .dataframe thead th {\n",
       "        text-align: right;\n",
       "    }\n",
       "</style>\n",
       "<table border=\"1\" class=\"dataframe\">\n",
       "  <thead>\n",
       "    <tr style=\"text-align: right;\">\n",
       "      <th></th>\n",
       "      <th>Levy</th>\n",
       "      <th>Prod. year</th>\n",
       "      <th>Engine volume</th>\n",
       "      <th>Mileage</th>\n",
       "      <th>Manufacturer_AUDI</th>\n",
       "      <th>Manufacturer_BMW</th>\n",
       "      <th>Manufacturer_CHEVROLET</th>\n",
       "      <th>Manufacturer_DAEWOO</th>\n",
       "      <th>Manufacturer_DODGE</th>\n",
       "      <th>Manufacturer_FIAT</th>\n",
       "      <th>Manufacturer_FORD</th>\n",
       "      <th>Manufacturer_HONDA</th>\n",
       "      <th>Manufacturer_HYUNDAI</th>\n",
       "      <th>Manufacturer_JEEP</th>\n",
       "      <th>Manufacturer_KIA</th>\n",
       "      <th>Manufacturer_LAND ROVER</th>\n",
       "      <th>Manufacturer_LEXUS</th>\n",
       "      <th>Manufacturer_MAZDA</th>\n",
       "      <th>Manufacturer_MERCEDES-BENZ</th>\n",
       "      <th>Manufacturer_MITSUBISHI</th>\n",
       "      <th>Manufacturer_NISSAN</th>\n",
       "      <th>Manufacturer_OPEL</th>\n",
       "      <th>Manufacturer_OTHER</th>\n",
       "      <th>Manufacturer_PORSCHE</th>\n",
       "      <th>Manufacturer_SSANGYONG</th>\n",
       "      <th>Manufacturer_SUBARU</th>\n",
       "      <th>Manufacturer_SUZUKI</th>\n",
       "      <th>Manufacturer_TOYOTA</th>\n",
       "      <th>Manufacturer_VOLKSWAGEN</th>\n",
       "      <th>Category_Coupe</th>\n",
       "      <th>Category_Goods wagon</th>\n",
       "      <th>Category_Hatchback</th>\n",
       "      <th>Category_Jeep</th>\n",
       "      <th>Category_Microbus</th>\n",
       "      <th>Category_Minivan</th>\n",
       "      <th>Category_Other</th>\n",
       "      <th>Category_Pickup</th>\n",
       "      <th>Category_Sedan</th>\n",
       "      <th>Category_Universal</th>\n",
       "      <th>Leather interior_No</th>\n",
       "      <th>Leather interior_Yes</th>\n",
       "      <th>Fuel type_CNG</th>\n",
       "      <th>Fuel type_Diesel</th>\n",
       "      <th>Fuel type_Hybrid</th>\n",
       "      <th>Fuel type_LPG</th>\n",
       "      <th>Fuel type_Petrol</th>\n",
       "      <th>Fuel type_Plug-in Hybrid</th>\n",
       "      <th>Aspiration_Natural</th>\n",
       "      <th>Aspiration_Turbo</th>\n",
       "      <th>Gear box type_Automatic</th>\n",
       "      <th>Gear box type_Manual</th>\n",
       "      <th>Gear box type_Tiptronic</th>\n",
       "      <th>Gear box type_Variator</th>\n",
       "      <th>Drive wheels_4x4</th>\n",
       "      <th>Drive wheels_Front</th>\n",
       "      <th>Drive wheels_Rear</th>\n",
       "      <th>Doors_2</th>\n",
       "      <th>Doors_4</th>\n",
       "      <th>Doors_5 or more</th>\n",
       "      <th>Wheel_Left wheel</th>\n",
       "      <th>Wheel_Right-hand drive</th>\n",
       "      <th>Color_Beige</th>\n",
       "      <th>Color_Black</th>\n",
       "      <th>Color_Blue</th>\n",
       "      <th>Color_Brown</th>\n",
       "      <th>Color_Carnelian red</th>\n",
       "      <th>Color_Golden</th>\n",
       "      <th>Color_Green</th>\n",
       "      <th>Color_Grey</th>\n",
       "      <th>Color_Orange</th>\n",
       "      <th>Color_Other</th>\n",
       "      <th>Color_Red</th>\n",
       "      <th>Color_Silver</th>\n",
       "      <th>Color_Sky blue</th>\n",
       "      <th>Color_White</th>\n",
       "      <th>Color_Yellow</th>\n",
       "      <th>Airbags_0-4</th>\n",
       "      <th>Airbags_5-9</th>\n",
       "      <th>Airbags_More than 10</th>\n",
       "    </tr>\n",
       "  </thead>\n",
       "  <tbody>\n",
       "    <tr>\n",
       "      <th>0</th>\n",
       "      <td>1399.0</td>\n",
       "      <td>2010</td>\n",
       "      <td>3.5</td>\n",
       "      <td>186005.0</td>\n",
       "      <td>0</td>\n",
       "      <td>0</td>\n",
       "      <td>0</td>\n",
       "      <td>0</td>\n",
       "      <td>0</td>\n",
       "      <td>0</td>\n",
       "      <td>0</td>\n",
       "      <td>0</td>\n",
       "      <td>0</td>\n",
       "      <td>0</td>\n",
       "      <td>0</td>\n",
       "      <td>0</td>\n",
       "      <td>1</td>\n",
       "      <td>0</td>\n",
       "      <td>0</td>\n",
       "      <td>0</td>\n",
       "      <td>0</td>\n",
       "      <td>0</td>\n",
       "      <td>0</td>\n",
       "      <td>0</td>\n",
       "      <td>0</td>\n",
       "      <td>0</td>\n",
       "      <td>0</td>\n",
       "      <td>0</td>\n",
       "      <td>0</td>\n",
       "      <td>0</td>\n",
       "      <td>0</td>\n",
       "      <td>0</td>\n",
       "      <td>1</td>\n",
       "      <td>0</td>\n",
       "      <td>0</td>\n",
       "      <td>0</td>\n",
       "      <td>0</td>\n",
       "      <td>0</td>\n",
       "      <td>0</td>\n",
       "      <td>0</td>\n",
       "      <td>1</td>\n",
       "      <td>0</td>\n",
       "      <td>0</td>\n",
       "      <td>1</td>\n",
       "      <td>0</td>\n",
       "      <td>0</td>\n",
       "      <td>0</td>\n",
       "      <td>1</td>\n",
       "      <td>0</td>\n",
       "      <td>1</td>\n",
       "      <td>0</td>\n",
       "      <td>0</td>\n",
       "      <td>0</td>\n",
       "      <td>1</td>\n",
       "      <td>0</td>\n",
       "      <td>0</td>\n",
       "      <td>0</td>\n",
       "      <td>1</td>\n",
       "      <td>0</td>\n",
       "      <td>1</td>\n",
       "      <td>0</td>\n",
       "      <td>0</td>\n",
       "      <td>0</td>\n",
       "      <td>0</td>\n",
       "      <td>0</td>\n",
       "      <td>0</td>\n",
       "      <td>0</td>\n",
       "      <td>0</td>\n",
       "      <td>0</td>\n",
       "      <td>0</td>\n",
       "      <td>0</td>\n",
       "      <td>0</td>\n",
       "      <td>1</td>\n",
       "      <td>0</td>\n",
       "      <td>0</td>\n",
       "      <td>0</td>\n",
       "      <td>0</td>\n",
       "      <td>0</td>\n",
       "      <td>1</td>\n",
       "    </tr>\n",
       "    <tr>\n",
       "      <th>1</th>\n",
       "      <td>1018.0</td>\n",
       "      <td>2011</td>\n",
       "      <td>3.0</td>\n",
       "      <td>192000.0</td>\n",
       "      <td>0</td>\n",
       "      <td>0</td>\n",
       "      <td>1</td>\n",
       "      <td>0</td>\n",
       "      <td>0</td>\n",
       "      <td>0</td>\n",
       "      <td>0</td>\n",
       "      <td>0</td>\n",
       "      <td>0</td>\n",
       "      <td>0</td>\n",
       "      <td>0</td>\n",
       "      <td>0</td>\n",
       "      <td>0</td>\n",
       "      <td>0</td>\n",
       "      <td>0</td>\n",
       "      <td>0</td>\n",
       "      <td>0</td>\n",
       "      <td>0</td>\n",
       "      <td>0</td>\n",
       "      <td>0</td>\n",
       "      <td>0</td>\n",
       "      <td>0</td>\n",
       "      <td>0</td>\n",
       "      <td>0</td>\n",
       "      <td>0</td>\n",
       "      <td>0</td>\n",
       "      <td>0</td>\n",
       "      <td>0</td>\n",
       "      <td>1</td>\n",
       "      <td>0</td>\n",
       "      <td>0</td>\n",
       "      <td>0</td>\n",
       "      <td>0</td>\n",
       "      <td>0</td>\n",
       "      <td>0</td>\n",
       "      <td>1</td>\n",
       "      <td>0</td>\n",
       "      <td>0</td>\n",
       "      <td>0</td>\n",
       "      <td>0</td>\n",
       "      <td>0</td>\n",
       "      <td>1</td>\n",
       "      <td>0</td>\n",
       "      <td>1</td>\n",
       "      <td>0</td>\n",
       "      <td>0</td>\n",
       "      <td>0</td>\n",
       "      <td>1</td>\n",
       "      <td>0</td>\n",
       "      <td>1</td>\n",
       "      <td>0</td>\n",
       "      <td>0</td>\n",
       "      <td>0</td>\n",
       "      <td>1</td>\n",
       "      <td>0</td>\n",
       "      <td>1</td>\n",
       "      <td>0</td>\n",
       "      <td>0</td>\n",
       "      <td>1</td>\n",
       "      <td>0</td>\n",
       "      <td>0</td>\n",
       "      <td>0</td>\n",
       "      <td>0</td>\n",
       "      <td>0</td>\n",
       "      <td>0</td>\n",
       "      <td>0</td>\n",
       "      <td>0</td>\n",
       "      <td>0</td>\n",
       "      <td>0</td>\n",
       "      <td>0</td>\n",
       "      <td>0</td>\n",
       "      <td>0</td>\n",
       "      <td>0</td>\n",
       "      <td>1</td>\n",
       "      <td>0</td>\n",
       "    </tr>\n",
       "    <tr>\n",
       "      <th>2</th>\n",
       "      <td>0.0</td>\n",
       "      <td>2006</td>\n",
       "      <td>1.3</td>\n",
       "      <td>200000.0</td>\n",
       "      <td>0</td>\n",
       "      <td>0</td>\n",
       "      <td>0</td>\n",
       "      <td>0</td>\n",
       "      <td>0</td>\n",
       "      <td>0</td>\n",
       "      <td>0</td>\n",
       "      <td>1</td>\n",
       "      <td>0</td>\n",
       "      <td>0</td>\n",
       "      <td>0</td>\n",
       "      <td>0</td>\n",
       "      <td>0</td>\n",
       "      <td>0</td>\n",
       "      <td>0</td>\n",
       "      <td>0</td>\n",
       "      <td>0</td>\n",
       "      <td>0</td>\n",
       "      <td>0</td>\n",
       "      <td>0</td>\n",
       "      <td>0</td>\n",
       "      <td>0</td>\n",
       "      <td>0</td>\n",
       "      <td>0</td>\n",
       "      <td>0</td>\n",
       "      <td>0</td>\n",
       "      <td>0</td>\n",
       "      <td>1</td>\n",
       "      <td>0</td>\n",
       "      <td>0</td>\n",
       "      <td>0</td>\n",
       "      <td>0</td>\n",
       "      <td>0</td>\n",
       "      <td>0</td>\n",
       "      <td>0</td>\n",
       "      <td>1</td>\n",
       "      <td>0</td>\n",
       "      <td>0</td>\n",
       "      <td>0</td>\n",
       "      <td>0</td>\n",
       "      <td>0</td>\n",
       "      <td>1</td>\n",
       "      <td>0</td>\n",
       "      <td>1</td>\n",
       "      <td>0</td>\n",
       "      <td>0</td>\n",
       "      <td>0</td>\n",
       "      <td>0</td>\n",
       "      <td>1</td>\n",
       "      <td>0</td>\n",
       "      <td>1</td>\n",
       "      <td>0</td>\n",
       "      <td>0</td>\n",
       "      <td>1</td>\n",
       "      <td>0</td>\n",
       "      <td>0</td>\n",
       "      <td>1</td>\n",
       "      <td>0</td>\n",
       "      <td>1</td>\n",
       "      <td>0</td>\n",
       "      <td>0</td>\n",
       "      <td>0</td>\n",
       "      <td>0</td>\n",
       "      <td>0</td>\n",
       "      <td>0</td>\n",
       "      <td>0</td>\n",
       "      <td>0</td>\n",
       "      <td>0</td>\n",
       "      <td>0</td>\n",
       "      <td>0</td>\n",
       "      <td>0</td>\n",
       "      <td>0</td>\n",
       "      <td>1</td>\n",
       "      <td>0</td>\n",
       "      <td>0</td>\n",
       "    </tr>\n",
       "    <tr>\n",
       "      <th>3</th>\n",
       "      <td>862.0</td>\n",
       "      <td>2011</td>\n",
       "      <td>2.5</td>\n",
       "      <td>168966.0</td>\n",
       "      <td>0</td>\n",
       "      <td>0</td>\n",
       "      <td>0</td>\n",
       "      <td>0</td>\n",
       "      <td>0</td>\n",
       "      <td>0</td>\n",
       "      <td>1</td>\n",
       "      <td>0</td>\n",
       "      <td>0</td>\n",
       "      <td>0</td>\n",
       "      <td>0</td>\n",
       "      <td>0</td>\n",
       "      <td>0</td>\n",
       "      <td>0</td>\n",
       "      <td>0</td>\n",
       "      <td>0</td>\n",
       "      <td>0</td>\n",
       "      <td>0</td>\n",
       "      <td>0</td>\n",
       "      <td>0</td>\n",
       "      <td>0</td>\n",
       "      <td>0</td>\n",
       "      <td>0</td>\n",
       "      <td>0</td>\n",
       "      <td>0</td>\n",
       "      <td>0</td>\n",
       "      <td>0</td>\n",
       "      <td>0</td>\n",
       "      <td>1</td>\n",
       "      <td>0</td>\n",
       "      <td>0</td>\n",
       "      <td>0</td>\n",
       "      <td>0</td>\n",
       "      <td>0</td>\n",
       "      <td>0</td>\n",
       "      <td>0</td>\n",
       "      <td>1</td>\n",
       "      <td>0</td>\n",
       "      <td>0</td>\n",
       "      <td>1</td>\n",
       "      <td>0</td>\n",
       "      <td>0</td>\n",
       "      <td>0</td>\n",
       "      <td>1</td>\n",
       "      <td>0</td>\n",
       "      <td>1</td>\n",
       "      <td>0</td>\n",
       "      <td>0</td>\n",
       "      <td>0</td>\n",
       "      <td>1</td>\n",
       "      <td>0</td>\n",
       "      <td>0</td>\n",
       "      <td>0</td>\n",
       "      <td>1</td>\n",
       "      <td>0</td>\n",
       "      <td>1</td>\n",
       "      <td>0</td>\n",
       "      <td>0</td>\n",
       "      <td>0</td>\n",
       "      <td>0</td>\n",
       "      <td>0</td>\n",
       "      <td>0</td>\n",
       "      <td>0</td>\n",
       "      <td>0</td>\n",
       "      <td>0</td>\n",
       "      <td>0</td>\n",
       "      <td>0</td>\n",
       "      <td>0</td>\n",
       "      <td>0</td>\n",
       "      <td>0</td>\n",
       "      <td>1</td>\n",
       "      <td>0</td>\n",
       "      <td>1</td>\n",
       "      <td>0</td>\n",
       "      <td>0</td>\n",
       "    </tr>\n",
       "    <tr>\n",
       "      <th>4</th>\n",
       "      <td>446.0</td>\n",
       "      <td>2014</td>\n",
       "      <td>1.3</td>\n",
       "      <td>91901.0</td>\n",
       "      <td>0</td>\n",
       "      <td>0</td>\n",
       "      <td>0</td>\n",
       "      <td>0</td>\n",
       "      <td>0</td>\n",
       "      <td>0</td>\n",
       "      <td>0</td>\n",
       "      <td>1</td>\n",
       "      <td>0</td>\n",
       "      <td>0</td>\n",
       "      <td>0</td>\n",
       "      <td>0</td>\n",
       "      <td>0</td>\n",
       "      <td>0</td>\n",
       "      <td>0</td>\n",
       "      <td>0</td>\n",
       "      <td>0</td>\n",
       "      <td>0</td>\n",
       "      <td>0</td>\n",
       "      <td>0</td>\n",
       "      <td>0</td>\n",
       "      <td>0</td>\n",
       "      <td>0</td>\n",
       "      <td>0</td>\n",
       "      <td>0</td>\n",
       "      <td>0</td>\n",
       "      <td>0</td>\n",
       "      <td>1</td>\n",
       "      <td>0</td>\n",
       "      <td>0</td>\n",
       "      <td>0</td>\n",
       "      <td>0</td>\n",
       "      <td>0</td>\n",
       "      <td>0</td>\n",
       "      <td>0</td>\n",
       "      <td>0</td>\n",
       "      <td>1</td>\n",
       "      <td>0</td>\n",
       "      <td>0</td>\n",
       "      <td>0</td>\n",
       "      <td>0</td>\n",
       "      <td>1</td>\n",
       "      <td>0</td>\n",
       "      <td>1</td>\n",
       "      <td>0</td>\n",
       "      <td>1</td>\n",
       "      <td>0</td>\n",
       "      <td>0</td>\n",
       "      <td>0</td>\n",
       "      <td>0</td>\n",
       "      <td>1</td>\n",
       "      <td>0</td>\n",
       "      <td>0</td>\n",
       "      <td>1</td>\n",
       "      <td>0</td>\n",
       "      <td>1</td>\n",
       "      <td>0</td>\n",
       "      <td>0</td>\n",
       "      <td>0</td>\n",
       "      <td>0</td>\n",
       "      <td>0</td>\n",
       "      <td>0</td>\n",
       "      <td>0</td>\n",
       "      <td>0</td>\n",
       "      <td>0</td>\n",
       "      <td>0</td>\n",
       "      <td>0</td>\n",
       "      <td>0</td>\n",
       "      <td>1</td>\n",
       "      <td>0</td>\n",
       "      <td>0</td>\n",
       "      <td>0</td>\n",
       "      <td>1</td>\n",
       "      <td>0</td>\n",
       "      <td>0</td>\n",
       "    </tr>\n",
       "  </tbody>\n",
       "</table>\n",
       "</div>"
      ],
      "text/plain": [
       "     Levy  Prod. year  Engine volume   Mileage  Manufacturer_AUDI  \\\n",
       "0  1399.0        2010            3.5  186005.0                  0   \n",
       "1  1018.0        2011            3.0  192000.0                  0   \n",
       "2     0.0        2006            1.3  200000.0                  0   \n",
       "3   862.0        2011            2.5  168966.0                  0   \n",
       "4   446.0        2014            1.3   91901.0                  0   \n",
       "\n",
       "   Manufacturer_BMW  Manufacturer_CHEVROLET  Manufacturer_DAEWOO  \\\n",
       "0                 0                       0                    0   \n",
       "1                 0                       1                    0   \n",
       "2                 0                       0                    0   \n",
       "3                 0                       0                    0   \n",
       "4                 0                       0                    0   \n",
       "\n",
       "   Manufacturer_DODGE  Manufacturer_FIAT  Manufacturer_FORD  \\\n",
       "0                   0                  0                  0   \n",
       "1                   0                  0                  0   \n",
       "2                   0                  0                  0   \n",
       "3                   0                  0                  1   \n",
       "4                   0                  0                  0   \n",
       "\n",
       "   Manufacturer_HONDA  Manufacturer_HYUNDAI  Manufacturer_JEEP  \\\n",
       "0                   0                     0                  0   \n",
       "1                   0                     0                  0   \n",
       "2                   1                     0                  0   \n",
       "3                   0                     0                  0   \n",
       "4                   1                     0                  0   \n",
       "\n",
       "   Manufacturer_KIA  Manufacturer_LAND ROVER  Manufacturer_LEXUS  \\\n",
       "0                 0                        0                   1   \n",
       "1                 0                        0                   0   \n",
       "2                 0                        0                   0   \n",
       "3                 0                        0                   0   \n",
       "4                 0                        0                   0   \n",
       "\n",
       "   Manufacturer_MAZDA  Manufacturer_MERCEDES-BENZ  Manufacturer_MITSUBISHI  \\\n",
       "0                   0                           0                        0   \n",
       "1                   0                           0                        0   \n",
       "2                   0                           0                        0   \n",
       "3                   0                           0                        0   \n",
       "4                   0                           0                        0   \n",
       "\n",
       "   Manufacturer_NISSAN  Manufacturer_OPEL  Manufacturer_OTHER  \\\n",
       "0                    0                  0                   0   \n",
       "1                    0                  0                   0   \n",
       "2                    0                  0                   0   \n",
       "3                    0                  0                   0   \n",
       "4                    0                  0                   0   \n",
       "\n",
       "   Manufacturer_PORSCHE  Manufacturer_SSANGYONG  Manufacturer_SUBARU  \\\n",
       "0                     0                       0                    0   \n",
       "1                     0                       0                    0   \n",
       "2                     0                       0                    0   \n",
       "3                     0                       0                    0   \n",
       "4                     0                       0                    0   \n",
       "\n",
       "   Manufacturer_SUZUKI  Manufacturer_TOYOTA  Manufacturer_VOLKSWAGEN  \\\n",
       "0                    0                    0                        0   \n",
       "1                    0                    0                        0   \n",
       "2                    0                    0                        0   \n",
       "3                    0                    0                        0   \n",
       "4                    0                    0                        0   \n",
       "\n",
       "   Category_Coupe  Category_Goods wagon  Category_Hatchback  Category_Jeep  \\\n",
       "0               0                     0                   0              1   \n",
       "1               0                     0                   0              1   \n",
       "2               0                     0                   1              0   \n",
       "3               0                     0                   0              1   \n",
       "4               0                     0                   1              0   \n",
       "\n",
       "   Category_Microbus  Category_Minivan  Category_Other  Category_Pickup  \\\n",
       "0                  0                 0               0                0   \n",
       "1                  0                 0               0                0   \n",
       "2                  0                 0               0                0   \n",
       "3                  0                 0               0                0   \n",
       "4                  0                 0               0                0   \n",
       "\n",
       "   Category_Sedan  Category_Universal  Leather interior_No  \\\n",
       "0               0                   0                    0   \n",
       "1               0                   0                    1   \n",
       "2               0                   0                    1   \n",
       "3               0                   0                    0   \n",
       "4               0                   0                    0   \n",
       "\n",
       "   Leather interior_Yes  Fuel type_CNG  Fuel type_Diesel  Fuel type_Hybrid  \\\n",
       "0                     1              0                 0                 1   \n",
       "1                     0              0                 0                 0   \n",
       "2                     0              0                 0                 0   \n",
       "3                     1              0                 0                 1   \n",
       "4                     1              0                 0                 0   \n",
       "\n",
       "   Fuel type_LPG  Fuel type_Petrol  Fuel type_Plug-in Hybrid  \\\n",
       "0              0                 0                         0   \n",
       "1              0                 1                         0   \n",
       "2              0                 1                         0   \n",
       "3              0                 0                         0   \n",
       "4              0                 1                         0   \n",
       "\n",
       "   Aspiration_Natural  Aspiration_Turbo  Gear box type_Automatic  \\\n",
       "0                   1                 0                        1   \n",
       "1                   1                 0                        0   \n",
       "2                   1                 0                        0   \n",
       "3                   1                 0                        1   \n",
       "4                   1                 0                        1   \n",
       "\n",
       "   Gear box type_Manual  Gear box type_Tiptronic  Gear box type_Variator  \\\n",
       "0                     0                        0                       0   \n",
       "1                     0                        1                       0   \n",
       "2                     0                        0                       1   \n",
       "3                     0                        0                       0   \n",
       "4                     0                        0                       0   \n",
       "\n",
       "   Drive wheels_4x4  Drive wheels_Front  Drive wheels_Rear  Doors_2  Doors_4  \\\n",
       "0                 1                   0                  0        0        1   \n",
       "1                 1                   0                  0        0        1   \n",
       "2                 0                   1                  0        0        1   \n",
       "3                 1                   0                  0        0        1   \n",
       "4                 0                   1                  0        0        1   \n",
       "\n",
       "   Doors_5 or more  Wheel_Left wheel  Wheel_Right-hand drive  Color_Beige  \\\n",
       "0                0                 1                       0            0   \n",
       "1                0                 1                       0            0   \n",
       "2                0                 0                       1            0   \n",
       "3                0                 1                       0            0   \n",
       "4                0                 1                       0            0   \n",
       "\n",
       "   Color_Black  Color_Blue  Color_Brown  Color_Carnelian red  Color_Golden  \\\n",
       "0            0           0            0                    0             0   \n",
       "1            1           0            0                    0             0   \n",
       "2            1           0            0                    0             0   \n",
       "3            0           0            0                    0             0   \n",
       "4            0           0            0                    0             0   \n",
       "\n",
       "   Color_Green  Color_Grey  Color_Orange  Color_Other  Color_Red  \\\n",
       "0            0           0             0            0          0   \n",
       "1            0           0             0            0          0   \n",
       "2            0           0             0            0          0   \n",
       "3            0           0             0            0          0   \n",
       "4            0           0             0            0          0   \n",
       "\n",
       "   Color_Silver  Color_Sky blue  Color_White  Color_Yellow  Airbags_0-4  \\\n",
       "0             1               0            0             0            0   \n",
       "1             0               0            0             0            0   \n",
       "2             0               0            0             0            1   \n",
       "3             0               0            1             0            1   \n",
       "4             1               0            0             0            1   \n",
       "\n",
       "   Airbags_5-9  Airbags_More than 10  \n",
       "0            0                     1  \n",
       "1            1                     0  \n",
       "2            0                     0  \n",
       "3            0                     0  \n",
       "4            0                     0  "
      ]
     },
     "execution_count": 233,
     "metadata": {},
     "output_type": "execute_result"
    }
   ],
   "source": [
    "# Create dummy variables\n",
    "data = pd.get_dummies(features)\n",
    "data.head()"
   ]
  },
  {
   "cell_type": "code",
   "execution_count": 234,
   "metadata": {},
   "outputs": [],
   "source": [
    "data_train, data_test, target_train, target_test = train_test_split(data, target, test_size = 0.25, random_state=123)"
   ]
  },
  {
   "cell_type": "code",
   "execution_count": 235,
   "metadata": {},
   "outputs": [
    {
     "data": {
      "text/plain": [
       "DecisionTreeRegressor(random_state=45)"
      ]
     },
     "execution_count": 235,
     "metadata": {},
     "output_type": "execute_result"
    }
   ],
   "source": [
    "# Instantiate DecisionTreeRegressor \n",
    "# Set random_state=45\n",
    "tree_reg = DecisionTreeRegressor(criterion='mse',random_state=45)\n",
    "\n",
    "# Fit the model to training data\n",
    "tree_reg.fit(data_train, target_train)"
   ]
  },
  {
   "cell_type": "markdown",
   "metadata": {},
   "source": [
    "### Analize more important features"
   ]
  },
  {
   "cell_type": "code",
   "execution_count": 236,
   "metadata": {
    "scrolled": true
   },
   "outputs": [
    {
     "data": {
      "text/plain": [
       "array([5.77195014e-02, 2.22057784e-01, 1.77767224e-01, 1.13597091e-01,\n",
       "       1.82940021e-03, 3.96991218e-03, 3.09625349e-03, 2.33572421e-04,\n",
       "       1.86761223e-04, 2.40970740e-06, 1.18648087e-02, 3.08618780e-03,\n",
       "       1.98776063e-03, 4.30300955e-04, 1.45146442e-03, 1.00971012e-03,\n",
       "       9.28802810e-03, 1.08929680e-04, 2.73388157e-02, 1.74231854e-04,\n",
       "       5.72609039e-04, 3.61213326e-05, 2.15667873e-03, 9.72158901e-03,\n",
       "       3.31654037e-04, 6.35558257e-04, 5.26805581e-04, 4.90396438e-03,\n",
       "       2.26577849e-04, 1.33504244e-03, 3.98606788e-04, 1.40071459e-02,\n",
       "       1.48520430e-02, 1.23569963e-03, 5.70112593e-03, 3.48194160e-04,\n",
       "       2.44832173e-03, 6.04149969e-02, 1.81671774e-03, 2.74298657e-03,\n",
       "       1.04053287e-02, 4.75568469e-05, 8.32732522e-03, 2.18826968e-03,\n",
       "       7.45045342e-04, 9.42700474e-03, 1.24466482e-03, 1.09913038e-02,\n",
       "       3.39484974e-02, 2.51247959e-02, 4.36893406e-04, 4.10608600e-02,\n",
       "       2.12799958e-04, 9.37653743e-03, 1.34797070e-02, 2.35927141e-03,\n",
       "       5.72017994e-03, 3.23279750e-04, 1.64953606e-04, 8.60898973e-04,\n",
       "       9.74781263e-04, 2.73007469e-04, 4.89056275e-03, 1.87798604e-03,\n",
       "       1.59914479e-03, 6.04169263e-04, 3.23652380e-04, 1.67954617e-04,\n",
       "       5.48702082e-03, 1.26226242e-04, 4.83635868e-05, 8.13926931e-04,\n",
       "       2.02708514e-03, 1.89060870e-04, 5.71329482e-03, 1.68729589e-03,\n",
       "       8.94002289e-03, 4.07902493e-03, 2.21196599e-02])"
      ]
     },
     "execution_count": 236,
     "metadata": {},
     "output_type": "execute_result"
    }
   ],
   "source": [
    "# Feature importance\n",
    "tree_reg.feature_importances_"
   ]
  },
  {
   "cell_type": "code",
   "execution_count": 237,
   "metadata": {},
   "outputs": [
    {
     "data": {
      "image/png": "[encoded data removed]",
      "text/plain": [
       "<Figure size 1080x1080 with 1 Axes>"
      ]
     },
     "metadata": {
      "needs_background": "light"
     },
     "output_type": "display_data"
    }
   ],
   "source": [
    "def plot_feature_importances(model):\n",
    "    n_features = data_train.shape[1]\n",
    "    plt.figure(figsize=(15,15))\n",
    "    plt.barh(range(n_features), model.feature_importances_, align='center') \n",
    "    plt.yticks(np.arange(n_features), data_train.columns.values) \n",
    "    plt.xlabel('Feature importance')\n",
    "    plt.ylabel('Feature')\n",
    "\n",
    "plot_feature_importances(tree_reg)"
   ]
  },
  {
   "cell_type": "code",
   "execution_count": 238,
   "metadata": {
    "scrolled": true
   },
   "outputs": [],
   "source": [
    "# Test set predictions\n",
    "# Test set predictions\n",
    "pred = tree_reg.predict(data_test)\n",
    "\n",
    "# Confusion matrix and classification report\n",
    "#print(confusion_matrix(target_test, pred))\n",
    "#print(classification_report(target_test, pred))"
   ]
  },
  {
   "cell_type": "code",
   "execution_count": 239,
   "metadata": {},
   "outputs": [],
   "source": [
    "#print(\"Testing Accuracy for Decision Tree Classifier: {:.4}%\".format(accuracy_score(target_test, pred) * 100))"
   ]
  },
  {
   "cell_type": "markdown",
   "metadata": {},
   "source": [
    "As we can see the accuracy is not a single bit of high so we will use the MSE and RMSE."
   ]
  },
  {
   "cell_type": "markdown",
   "metadata": {},
   "source": [
    "### Bagged Tree"
   ]
  },
  {
   "cell_type": "markdown",
   "metadata": {},
   "source": [
    "The following process isn't part of the random forset we are builidng, but it would also serve as a reference when calculating MSE and RMSE."
   ]
  },
  {
   "cell_type": "code",
   "execution_count": 240,
   "metadata": {},
   "outputs": [],
   "source": [
    "bagged_tree =  BaggingRegressor(DecisionTreeRegressor(criterion='mse', max_depth=5), \n",
    "                                 n_estimators=20)"
   ]
  },
  {
   "cell_type": "code",
   "execution_count": 241,
   "metadata": {},
   "outputs": [
    {
     "data": {
      "text/plain": [
       "BaggingRegressor(base_estimator=DecisionTreeRegressor(max_depth=5),\n",
       "                 n_estimators=20)"
      ]
     },
     "execution_count": 241,
     "metadata": {},
     "output_type": "execute_result"
    }
   ],
   "source": [
    "# Fit to the training data\n",
    "bagged_tree.fit(data_train, target_train)"
   ]
  },
  {
   "cell_type": "code",
   "execution_count": 250,
   "metadata": {},
   "outputs": [],
   "source": [
    "bagged_pred = bagged_tree.predict(data_test)"
   ]
  },
  {
   "cell_type": "code",
   "execution_count": 242,
   "metadata": {},
   "outputs": [
    {
     "name": "stdout",
     "output_type": "stream",
     "text": [
      "The acuracy for train data in the forest is of: 55.126847526635835 %\n"
     ]
    }
   ],
   "source": [
    "print (\"The acuracy for train data in the forest is of:\", bagged_tree.score(data_train, target_train)*100,\"%\")"
   ]
  },
  {
   "cell_type": "code",
   "execution_count": 243,
   "metadata": {},
   "outputs": [
    {
     "name": "stdout",
     "output_type": "stream",
     "text": [
      "The acuracy for test data in the forest is of: 49.40317334140231 %\n"
     ]
    }
   ],
   "source": [
    "# Test accuracy score\n",
    "print (\"The acuracy for test data in the forest is of:\", bagged_tree.score(data_test, target_test)*100,\"%\")"
   ]
  },
  {
   "cell_type": "code",
   "execution_count": 251,
   "metadata": {},
   "outputs": [
    {
     "data": {
      "text/plain": [
       "(0.49403173341402307, 12674.684802543528)"
      ]
     },
     "execution_count": 251,
     "metadata": {},
     "output_type": "execute_result"
    }
   ],
   "source": [
    "r2 = r2_score(target_test, bagged_pred)\n",
    "rmse = mean_squared_error(target_test, bagged_pred, squared=False)\n",
    "\n",
    "r2, rmse"
   ]
  },
  {
   "cell_type": "markdown",
   "metadata": {},
   "source": [
    "### Initialize Random Forest"
   ]
  },
  {
   "cell_type": "code",
   "execution_count": 245,
   "metadata": {},
   "outputs": [
    {
     "data": {
      "text/plain": [
       "RandomForestRegressor(max_depth=5)"
      ]
     },
     "execution_count": 245,
     "metadata": {},
     "output_type": "execute_result"
    }
   ],
   "source": [
    "# Instantiate and fit a RandomForestClassifier\n",
    "forest = RandomForestRegressor(n_estimators=100, max_depth= 5)\n",
    "forest.fit(data_train, target_train)"
   ]
  },
  {
   "cell_type": "code",
   "execution_count": 246,
   "metadata": {},
   "outputs": [],
   "source": [
    "# Make predictions on the test data\n",
    "target_pred = forest.predict(data_test)"
   ]
  },
  {
   "cell_type": "code",
   "execution_count": 247,
   "metadata": {},
   "outputs": [
    {
     "name": "stdout",
     "output_type": "stream",
     "text": [
      "The acuracy for train data in the forest is of: 56.10533250449269 %\n"
     ]
    }
   ],
   "source": [
    "# Training accuracy score\n",
    "print (\"The acuracy for train data in the forest is of:\", forest.score(data_train, target_train)*100,\"%\")"
   ]
  },
  {
   "cell_type": "code",
   "execution_count": 248,
   "metadata": {},
   "outputs": [
    {
     "name": "stdout",
     "output_type": "stream",
     "text": [
      "The acuracy for test data in the forest is of: 50.38563853527651 %\n"
     ]
    }
   ],
   "source": [
    "# Test accuracy score\n",
    "print (\"The acuracy for test data in the forest is of:\", forest.score(data_test, target_test)*100,\"%\")"
   ]
  },
  {
   "cell_type": "code",
   "execution_count": 249,
   "metadata": {},
   "outputs": [
    {
     "data": {
      "text/plain": [
       "(0.5038563853527651, 12551.026062750587)"
      ]
     },
     "execution_count": 249,
     "metadata": {},
     "output_type": "execute_result"
    }
   ],
   "source": [
    "r2 = r2_score(target_test, target_pred)\n",
    "rmse = mean_squared_error(target_test, target_pred, squared=False)\n",
    "\n",
    "r2, rmse"
   ]
  },
  {
   "cell_type": "markdown",
   "metadata": {},
   "source": [
    "## XG-Boost"
   ]
  },
  {
   "cell_type": "code",
   "execution_count": 253,
   "metadata": {},
   "outputs": [],
   "source": [
    "import xgboost"
   ]
  },
  {
   "cell_type": "code",
   "execution_count": 254,
   "metadata": {},
   "outputs": [],
   "source": [
    "xgb = xgboost.XGBRegressor(n_estimators=100, learning_rate=0.08, gamma=0, subsample=0.75,\n",
    "                           colsample_bytree=1, max_depth=7)"
   ]
  },
  {
   "cell_type": "code",
   "execution_count": 257,
   "metadata": {},
   "outputs": [
    {
     "data": {
      "text/plain": [
       "XGBRegressor(base_score=0.5, booster='gbtree', colsample_bylevel=1,\n",
       "             colsample_bynode=1, colsample_bytree=1, gamma=0, gpu_id=-1,\n",
       "             importance_type='gain', interaction_constraints='',\n",
       "             learning_rate=0.08, max_delta_step=0, max_depth=7,\n",
       "             min_child_weight=1, missing=nan, monotone_constraints='()',\n",
       "             n_estimators=100, n_jobs=0, num_parallel_tree=1, random_state=0,\n",
       "             reg_alpha=0, reg_lambda=1, scale_pos_weight=1, subsample=0.75,\n",
       "             tree_method='exact', validate_parameters=1, verbosity=None)"
      ]
     },
     "execution_count": 257,
     "metadata": {},
     "output_type": "execute_result"
    }
   ],
   "source": [
    "xgb.fit(data_train, target_train)"
   ]
  },
  {
   "cell_type": "code",
   "execution_count": 259,
   "metadata": {},
   "outputs": [],
   "source": [
    "xgb_pred = xgb.predict(data_test)"
   ]
  },
  {
   "cell_type": "code",
   "execution_count": 260,
   "metadata": {},
   "outputs": [
    {
     "data": {
      "text/plain": [
       "(8938.265412328892, 0.7483740448665115)"
      ]
     },
     "execution_count": 260,
     "metadata": {},
     "output_type": "execute_result"
    }
   ],
   "source": [
    "# Calculate RMSE and R-Squared on test set\n",
    "mse_xgb = mean_squared_error(target_test,xgb_pred)\n",
    "r2_xgb = r2_score(target_test, xgb_pred)\n",
    "\n",
    "np.sqrt(mse_xgb),r2_xgb"
   ]
  }
 ],
 "metadata": {
  "kernelspec": {
   "display_name": "Python (learn-env)",
   "language": "python",
   "name": "learn-env"
  },
  "language_info": {
   "codemirror_mode": {
    "name": "ipython",
    "version": 3
   },
   "file_extension": ".py",
   "mimetype": "text/x-python",
   "name": "python",
   "nbconvert_exporter": "python",
   "pygments_lexer": "ipython3",
   "version": "3.8.5"
  },
  "widgets": {
   "application/vnd.jupyter.widget-state+json": {
    "state": {},
    "version_major": 2,
    "version_minor": 0
   }
  }
 },
 "nbformat": 4,
 "nbformat_minor": 4
}
